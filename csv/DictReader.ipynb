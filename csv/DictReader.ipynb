{
 "cells": [
  {
   "cell_type": "code",
   "execution_count": 245,
   "metadata": {},
   "outputs": [
    {
     "name": "stdout",
     "output_type": "stream",
     "text": [
      "['pencil', 'eraser', 'sharpner']\n",
      "[]\n",
      "['book', 'chair', 'table']\n",
      "[]\n",
      "['apple', 'mango', 'grapes']\n"
     ]
    }
   ],
   "source": [
    "import csv\n",
    "\n",
    "csv.register_dialect('myDialect', delimiter='|', \n",
    "                     lineterminator = '\\n\\n',\n",
    "                     skipinitialspace=True, \n",
    "                     quoting=csv.QUOTE_ALL,\n",
    "                     quotechar='\"')\n",
    "\n",
    "with open('dialects.csv', 'r') as f:\n",
    "    reader = csv.reader(f, dialect='myDialect')\n",
    "    for row in reader:\n",
    "        print(row)\n",
    "        "
   ]
  },
  {
   "cell_type": "code",
   "execution_count": 225,
   "metadata": {},
   "outputs": [
    {
     "name": "stdout",
     "output_type": "stream",
     "text": [
      "['pencil', 'eraser', 'sharpner']\n",
      "[]\n",
      "['book', 'chair', 'table']\n",
      "[]\n",
      "['apple', 'mango', 'grapes']\n"
     ]
    }
   ],
   "source": [
    "import csv\n",
    "\n",
    "csv.register_dialect('myDialect', delimiter='|', lineterminator = '\\r\\n',)\n",
    "\n",
    "with open('dialects.csv', 'r') as f:\n",
    "    reader = csv.reader(f, dialect='myDialect')\n",
    "    for row in reader:\n",
    "        print(row)\n",
    "        \n"
   ]
  },
  {
   "cell_type": "code",
   "execution_count": 306,
   "metadata": {},
   "outputs": [
    {
     "name": "stdout",
     "output_type": "stream",
     "text": [
      "Quotes\n",
      "What we think we become\n",
      "Never regret anything that made you smile\n",
      "Be yourself everyone else is already taken\n"
     ]
    }
   ],
   "source": [
    "import csv\n",
    "\n",
    "csv.register_dialect('mydialect', \n",
    "                     delimiter = ',',\n",
    "                     quoting=csv.QUOTE_ALL,\n",
    "                     skipinitialspace=True)\n",
    "\n",
    "with open('quotes.csv', 'r') as f:\n",
    "    reader = csv.reader(f, dialect='mydialect')\n",
    "    for row in reader:\n",
    "       print(row[2])"
   ]
  },
  {
   "cell_type": "code",
   "execution_count": 314,
   "metadata": {},
   "outputs": [
    {
     "name": "stdout",
     "output_type": "stream",
     "text": [
      "['SN', ' Name', ' City']\n"
     ]
    }
   ],
   "source": [
    "import csv\n",
    "\n",
    "with open('people.csv', 'r') as f:\n",
    "    reader = csv.reader(f)\n",
    "    meta = reader.__next__()\n",
    "    print(header)"
   ]
  },
  {
   "cell_type": "code",
   "execution_count": 305,
   "metadata": {},
   "outputs": [
    {
     "name": "stdout",
     "output_type": "stream",
     "text": [
      "One\n",
      "Two, with comma\n",
      "Three 'with single quote'\n"
     ]
    }
   ],
   "source": [
    "import csv\n",
    "\n",
    "csv.register_dialect('mydialect', \n",
    "                     delimiter = ',', \n",
    "                     quotechar='\"',\n",
    "                     quoting=csv.QUOTE_ALL, \n",
    "                     skipinitialspace=True)\n",
    "\n",
    "with open('linequotes.csv', 'r') as f:\n",
    "    reader = csv.reader(f, dialect='mydialect')\n",
    "    for row in reader:\n",
    "        print(row[0])\n",
    "        print(row[1])\n",
    "        print(row[2])"
   ]
  },
  {
   "cell_type": "code",
   "execution_count": null,
   "metadata": {
    "collapsed": true
   },
   "outputs": [],
   "source": []
  },
  {
   "cell_type": "code",
   "execution_count": 205,
   "metadata": {},
   "outputs": [
    {
     "name": "stdout",
     "output_type": "stream",
     "text": [
      "['id', 'Laptop', 'Price']\n",
      "['1', 'Macbook', '1,500']\n",
      "['2', 'Lenovo', '1,100']\n",
      "['3', 'HP', '1,000']\n"
     ]
    }
   ],
   "source": [
    "lines = '''\"AAA\", \"BBB\", \"Test, Test\", \"CCC\"\n",
    "           \"111\", \"222, 333\", \"XXX\", \"YYY, ZZZ\"'''.splitlines()\n",
    "\n",
    "csv.register_dialect('mydialect', \n",
    "                     delimiter = ',',  \n",
    "                     quotechar='\"',\n",
    "                     skipinitialspace=True)\n",
    "\n",
    "with open('quotechars.csv', 'r') as f:\n",
    "    reader = csv.reader(f, dialect='mydialect')\n",
    "    for row in reader:\n",
    "        print(row)"
   ]
  },
  {
   "cell_type": "code",
   "execution_count": null,
   "metadata": {
    "collapsed": true
   },
   "outputs": [],
   "source": []
  },
  {
   "cell_type": "code",
   "execution_count": 169,
   "metadata": {},
   "outputs": [
    {
     "name": "stdout",
     "output_type": "stream",
     "text": [
      "OrderedDict([('SN', '1'), (' Fruit', ' Apple'), (' Color', ' Red')])\n",
      "OrderedDict([('SN', '2'), (' Fruit', ' Banana'), (' Color', ' Yellow')])\n",
      "OrderedDict([('SN', '3'), (' Fruit', ' Grapes'), (' Color', ' Green')])\n"
     ]
    }
   ],
   "source": [
    "import csv  \n",
    "\n",
    "with open('color.csv') as csvFile:  \n",
    "    reader = csv.DictReader(csvFile)\n",
    "    for row in reader:\n",
    "        print(row)\n",
    "\n",
    "csvFile.close()\n"
   ]
  },
  {
   "cell_type": "code",
   "execution_count": null,
   "metadata": {
    "collapsed": true
   },
   "outputs": [],
   "source": []
  },
  {
   "cell_type": "code",
   "execution_count": 26,
   "metadata": {},
   "outputs": [
    {
     "name": "stdout",
     "output_type": "stream",
     "text": [
      "Write Complete\n"
     ]
    }
   ],
   "source": [
    "import csv\n",
    "\n",
    "data = [{'mountain' : 'Everest', 'height': '8848'},\n",
    "{'mountain' : 'K2 ', 'height': '8611'},\n",
    "{'mountain' : 'Kanchenjunga', 'height': '8586'}]\n",
    "  \n",
    "with open('mountain2.csv', 'w') as csvFile:  \n",
    "    fields = ['mountain', 'height']\n",
    "    writer = csv.DictWriter(csvFile, fieldnames=fields)    \n",
    "    writer.writeheader()\n",
    "    writer.writerows(data)\n",
    "\n",
    "print(\"Write Complete\")\n",
    "\n",
    "csvFile.close()\n"
   ]
  },
  {
   "cell_type": "code",
   "execution_count": null,
   "metadata": {
    "collapsed": true
   },
   "outputs": [],
   "source": []
  },
  {
   "cell_type": "code",
   "execution_count": 29,
   "metadata": {},
   "outputs": [
    {
     "name": "stdout",
     "output_type": "stream",
     "text": [
      "The oldest person is Freddie, who is 21 years old.\n"
     ]
    }
   ],
   "source": [
    "import csv\n",
    "\n",
    "input_file = csv.DictReader(open(\"peoples.csv\"))\n",
    "\n",
    "max_age = None\n",
    "oldest_person = None\n",
    "\n",
    "for row in input_file:\n",
    "    age = int(row[\"age\"])\n",
    "    if max_age == None or max_age < age:\n",
    "        max_age = age\n",
    "        oldest_person = row[\"name\"]\n",
    "\n",
    "if max_age != None:\n",
    "    print(\"The oldest person is %s, who is %d years old.\" % (oldest_person, max_age))\n",
    "    \n",
    "else:\n",
    "    print(\"The file does not contain any people.\")"
   ]
  },
  {
   "cell_type": "code",
   "execution_count": 57,
   "metadata": {},
   "outputs": [
    {
     "name": "stdout",
     "output_type": "stream",
     "text": [
      "OrderedDict([('SN', '1'), (' Name', ' Siddu'), (' City', ' Winona')])\n",
      "OrderedDict([('SN', '3'), (' Name', ' Dipika'), (' City', ' Lalitpur')])\n",
      "OrderedDict([('SN', '2'), (' Name', ' Binod'), (' City', ' Kathmandu')])\n"
     ]
    }
   ],
   "source": [
    "import csv\n",
    "\n",
    "with open('people.csv') as csvFile:  \n",
    "    reader = csv.DictReader(csvFile)\n",
    "    for row in reader:\n",
    "        print(row)"
   ]
  },
  {
   "cell_type": "code",
   "execution_count": 55,
   "metadata": {},
   "outputs": [
    {
     "name": "stdout",
     "output_type": "stream",
     "text": [
      "{'id': '1', 'name': 'Alice', 'age': '20', 'height': '62', 'weight': '120.6'}\n",
      "{'id': '2', 'name': 'Freddie', 'age': '21', 'height': '74', 'weight': '190.6'}\n",
      "{'id': '3', 'name': 'Bob', 'age': '17', 'height': '68', 'weight': '120.0'}\n"
     ]
    }
   ],
   "source": [
    "import csv\n",
    "\n",
    "with open(\"peoples.csv\", 'r') as csvfile:\n",
    "    reader = csv.DictReader(csvfile)\n",
    "    for row in map(dict, reader):\n",
    "        print(row)"
   ]
  },
  {
   "cell_type": "code",
   "execution_count": null,
   "metadata": {
    "collapsed": true
   },
   "outputs": [],
   "source": []
  },
  {
   "cell_type": "code",
   "execution_count": null,
   "metadata": {
    "collapsed": true
   },
   "outputs": [],
   "source": []
  }
 ],
 "metadata": {
  "kernelspec": {
   "display_name": "Python 3",
   "language": "python",
   "name": "python3"
  },
  "language_info": {
   "codemirror_mode": {
    "name": "ipython",
    "version": 3
   },
   "file_extension": ".py",
   "mimetype": "text/x-python",
   "name": "python",
   "nbconvert_exporter": "python",
   "pygments_lexer": "ipython3",
   "version": "3.6.2"
  }
 },
 "nbformat": 4,
 "nbformat_minor": 2
}
