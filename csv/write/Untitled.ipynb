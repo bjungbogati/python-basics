{
 "cells": [
  {
   "cell_type": "code",
   "execution_count": 8,
   "metadata": {},
   "outputs": [
    {
     "name": "stdout",
     "output_type": "stream",
     "text": [
      "[['SN', ' Name', ' City'], ['1', ' John', ' Washington'], ['2', ' Eric', ' Los Angeles'], ['3', ' Brad', ' Texas'], []]\n",
      "[['SN', ' Name', ' City'], ['1', ' John', ' Washington'], ['2', ' Marie', ' California'], ['3', ' Brad', ' Texas'], []]\n"
     ]
    }
   ],
   "source": [
    "import csv\n",
    "\n",
    "row = ['2', ' Marie', ' California']\n",
    "\n",
    "r = csv.reader(open('people.csv')) # Here your csv file\n",
    "lines = list(r)\n",
    "print(lines)\n",
    "\n",
    "lines[2] = row\n",
    "\n",
    "writer = csv.writer(open('people1.csv', 'w'))\n",
    "writer.writerows(lines)\n",
    "print(lines)\n"
   ]
  },
  {
   "cell_type": "code",
   "execution_count": 9,
   "metadata": {},
   "outputs": [
    {
     "name": "stdout",
     "output_type": "stream",
     "text": [
      "[['SN', ' Name', ' City'], ['1', ' John', ' Washington'], ['2', ' Marie', ' California'], ['3', ' Brad', ' Texas'], []]\n",
      "[['SN', ' Name', ' City'], ['1', ' John', ' Washington'], ['2', ' Marie', ' California'], ['3', ' Brad', ' Texas'], []]\n"
     ]
    }
   ],
   "source": [
    "import csv\n",
    "\n",
    "row = ['2', ' Marie', ' California']\n",
    "\n",
    "rr = csv.reader(open('people1.csv')) # Here your csv file\n",
    "nlines = list(rr)\n",
    "print(nlines)\n",
    "\n",
    "nlines[2] = row\n",
    "\n",
    "writer = csv.writer(open('people2.csv', 'w'))\n",
    "writer.writerows(nlines)\n",
    "print(lines)\n"
   ]
  },
  {
   "cell_type": "code",
   "execution_count": 18,
   "metadata": {},
   "outputs": [],
   "source": [
    "import csv\n",
    "\n",
    "row = ['2', ' Marie', ' California']\n",
    "\n",
    "with open('people.csv', 'r') as rFile:\n",
    "    reader = csv.reader(rFile)\n",
    "    lines = list(reader)\n",
    "    lines[2] = row \n",
    "    \n",
    "    with open('people1.csv', 'w') as wFile:\n",
    "        writer = csv.writer(wFile)\n",
    "        writer.writerows(lines)\n"
   ]
  },
  {
   "cell_type": "code",
   "execution_count": 25,
   "metadata": {},
   "outputs": [],
   "source": [
    "import csv\n",
    "\n",
    "row = ['2', ' Marie', ' California']\n",
    "\n",
    "with open('people.csv', 'r') as readFile:\n",
    "    reader = csv.reader(readFile)\n",
    "    lines = list(reader)\n",
    "    lines[2] = row \n",
    "    \n",
    "with open('people1.csv', 'w') as writeFile:\n",
    "    writer = csv.writer(writeFile)\n",
    "    writer.writerows(lines)\n",
    "    \n",
    "readFile.close()\n",
    "writeFile.close()\n"
   ]
  },
  {
   "cell_type": "code",
   "execution_count": 29,
   "metadata": {
    "collapsed": true
   },
   "outputs": [],
   "source": [
    "import csv\n",
    "\n",
    "row = ['4', ' Danny', ' New York']\n",
    "\n",
    "with open('people1.csv', 'a') as csvFile:\n",
    "    writer = csv.writer(csvFile)\n",
    "    writer.writerow(row)\n",
    "    \n",
    "csvFile.close()\n"
   ]
  },
  {
   "cell_type": "code",
   "execution_count": 27,
   "metadata": {},
   "outputs": [
    {
     "name": "stdout",
     "output_type": "stream",
     "text": [
      "['SN', ' Name', ' City']\n",
      "['1', ' John', ' Washington']\n",
      "['2', ' Marie', ' California']\n",
      "['3', ' Brad', ' Texas']\n",
      "[]\n",
      "['4', ' Danny', ' New York']\n"
     ]
    }
   ],
   "source": [
    "import csv\n",
    "\n",
    "with open('people1.csv', 'r') as csvFile:\n",
    "    reader = csv.reader(csvFile)\n",
    "    for row in reader:\n",
    "        print(row)\n",
    "\n",
    "csvFile.close()"
   ]
  },
  {
   "cell_type": "code",
   "execution_count": null,
   "metadata": {
    "collapsed": true
   },
   "outputs": [],
   "source": []
  }
 ],
 "metadata": {
  "kernelspec": {
   "display_name": "Python 3",
   "language": "python",
   "name": "python3"
  },
  "language_info": {
   "codemirror_mode": {
    "name": "ipython",
    "version": 3
   },
   "file_extension": ".py",
   "mimetype": "text/x-python",
   "name": "python",
   "nbconvert_exporter": "python",
   "pygments_lexer": "ipython3",
   "version": "3.6.2"
  }
 },
 "nbformat": 4,
 "nbformat_minor": 2
}
