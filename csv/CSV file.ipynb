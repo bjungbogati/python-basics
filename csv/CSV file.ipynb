{
 "cells": [
  {
   "cell_type": "code",
   "execution_count": 3,
   "metadata": {},
   "outputs": [
    {
     "name": "stdout",
     "output_type": "stream",
     "text": [
      "['Name of fruits', 'Quantity']\n",
      "['Apple', '5']\n",
      "['Orange', '8']\n",
      "['Banana', '12']\n"
     ]
    }
   ],
   "source": [
    "import csv\n",
    "\n",
    "with open('fruits.csv', 'r') as csvFile:\n",
    "    reader = csv.reader(csvFile)\n",
    "    for row in reader:\n",
    "        print(row)\n",
    "        \n",
    "csvFile.close()"
   ]
  },
  {
   "cell_type": "code",
   "execution_count": 6,
   "metadata": {},
   "outputs": [
    {
     "name": "stdout",
     "output_type": "stream",
     "text": [
      "[['Person', 'Age'], ['Peter', '22'], ['Jasmine', '21'], ['Sam', '24']]\n",
      "Write Complete\n"
     ]
    }
   ],
   "source": [
    "import csv\n",
    "\n",
    "csvData = [['Person', 'Age'], ['Peter', '22'], ['Jasmine', '21'], ['Sam', '24']]   \n",
    "\n",
    "with open('person.csv', 'w') as csvFile: \n",
    "    writer = csv.writer(csvFile)\n",
    "    writer.writerows(csvData)\n",
    "    print(csvData)   \n",
    "    \n",
    "print(\"Write Complete\")\n",
    "\n",
    "csvFile.close()\n"
   ]
  },
  {
   "cell_type": "code",
   "execution_count": 12,
   "metadata": {},
   "outputs": [
    {
     "ename": "SyntaxError",
     "evalue": "invalid character in identifier (<ipython-input-12-ddbc5ce79f2e>, line 2)",
     "output_type": "error",
     "traceback": [
      "\u001b[0;36m  File \u001b[0;32m\"<ipython-input-12-ddbc5ce79f2e>\"\u001b[0;36m, line \u001b[0;32m2\u001b[0m\n\u001b[0;31m    for i, j in kwargs.items():\u001b[0m\n\u001b[0m    ^\u001b[0m\n\u001b[0;31mSyntaxError\u001b[0m\u001b[0;31m:\u001b[0m invalid character in identifier\n"
     ]
    }
   ],
   "source": [
    "def my_func(**kwargs):\n",
    "    for i, j in kwargs.items():\n",
    "        print(i, j)\n",
    "\n",
    "my_func(name=\"tim\", sport=\"football\", roll=19)"
   ]
  },
  {
   "cell_type": "code",
   "execution_count": 6,
   "metadata": {},
   "outputs": [
    {
     "name": "stdout",
     "output_type": "stream",
     "text": [
      "formal arg: 1\n",
      "another arg: two\n",
      "another arg: 3\n"
     ]
    }
   ],
   "source": [
    "def test_var_args(farg, *args):\n",
    "    print(\"formal arg:\", farg)\n",
    "    for arg in args:\n",
    "        print(\"another arg:\", arg)\n",
    "\n",
    "test_var_args(1, \"two\", 3)"
   ]
  },
  {
   "cell_type": "code",
   "execution_count": 3,
   "metadata": {},
   "outputs": [
    {
     "name": "stdout",
     "output_type": "stream",
     "text": [
      "['“SN”', ' “Name”', ' “Quotes”']\n"
     ]
    }
   ],
   "source": [
    "import csv\n",
    "with open('quotes.csv', 'r') as csvFile:\n",
    "    reader = csv.reader(csvFile, quotechar='\"')\n",
    "    for row in reader:\n",
    "        print(row)"
   ]
  },
  {
   "cell_type": "code",
   "execution_count": 12,
   "metadata": {},
   "outputs": [
    {
     "name": "stdout",
     "output_type": "stream",
     "text": [
      "['SN', ' Name', ' City']\n",
      "['1', ' Siddu', ' Winona']\n",
      "['2', ' Dipika', ' Lalitpur']\n",
      "['3', ' Binod', ' Kathmandu']\n"
     ]
    }
   ],
   "source": [
    "import csv\n",
    "\n",
    "with open('people.csv', 'r') as csvFile:\n",
    "    reader = csv.reader(csvFile)\n",
    "    for row in reader:\n",
    "        print(row)\n",
    "        \n",
    "csvFile.close()\n"
   ]
  },
  {
   "cell_type": "code",
   "execution_count": 14,
   "metadata": {},
   "outputs": [
    {
     "name": "stdout",
     "output_type": "stream",
     "text": [
      "['SN', ' Name', ' City']\n",
      "['1', ' Siddu', ' Winona']\n",
      "['2', ' Dipika', ' Lalitpur']\n",
      "['3', ' Binod', ' Kathmandu']\n"
     ]
    }
   ],
   "source": [
    "import csv\n",
    "\n",
    "with open('people.csv', 'r') as csvFile:\n",
    "    reader = csv.reader(csvFile, lineterminator='\\n')\n",
    "    for row in reader:\n",
    "        print(row)\n",
    "        \n",
    "csvFile.close()\n"
   ]
  },
  {
   "cell_type": "code",
   "execution_count": 26,
   "metadata": {
    "collapsed": true
   },
   "outputs": [],
   "source": [
    "import csv  \n",
    "\n",
    "with open('color.csv', 'r') as csvFile:  \n",
    "    reader = csv.DictReader(csvFile)\n",
    "    d = {}\n",
    "    for row in reader:\n",
    "        k, v = row\n",
    "        d[k] = v\n",
    "\n",
    "csvFile.close()\n",
    "\n"
   ]
  },
  {
   "cell_type": "code",
   "execution_count": 6,
   "metadata": {},
   "outputs": [
    {
     "name": "stdout",
     "output_type": "stream",
     "text": [
      "[OrderedDict([('first_name', 'Alex'), (' last_name', ' Brian'), (' Grade', ' B')]), OrderedDict([('first_name', 'Rachael'), (' last_name', ' Rodriguez'), (' Grade', ' A')]), OrderedDict([('first_name', 'Tom'), (' last_name', ' smith'), (' Grade', ' C')])]\n"
     ]
    }
   ],
   "source": [
    "import csv\n",
    " \n",
    "results = []\n",
    "with open('example.csv') as File:\n",
    "    reader = csv.DictReader(File)\n",
    "    for row in reader:\n",
    "        results.append(row)\n",
    "    print(results)"
   ]
  },
  {
   "cell_type": "code",
   "execution_count": 11,
   "metadata": {},
   "outputs": [
    {
     "name": "stdout",
     "output_type": "stream",
     "text": [
      "['Name of fruits', 'Quantity']\n",
      "['Apple', 'Orange', 'Banana']\n",
      "['5', '8', '12']\n"
     ]
    }
   ],
   "source": [
    "import csv\n",
    "\n",
    "with open('csvexample3.csv', 'r') as csvFile:\n",
    "    reader = csv.reader(csvFile)\n",
    "    for row in reader:\n",
    "        print(row)\n",
    "        \n",
    "csvFile.close()"
   ]
  },
  {
   "cell_type": "code",
   "execution_count": 6,
   "metadata": {},
   "outputs": [
    {
     "name": "stdout",
     "output_type": "stream",
     "text": [
      "['Name of fruits', 'Quantity']\n",
      "['Apple', '5']\n",
      "['Orange', '8']\n",
      "['Banana', '12']\n"
     ]
    }
   ],
   "source": [
    "import csv\n",
    "\n",
    "with open('fruits2.csv', 'r') as csvFile:\n",
    "    reader = csv.reader(csvFile, delimiter='|')\n",
    "    for row in reader:\n",
    "        print(row)\n",
    "        \n",
    "csvFile.close()\n"
   ]
  },
  {
   "cell_type": "code",
   "execution_count": 17,
   "metadata": {},
   "outputs": [
    {
     "name": "stdout",
     "output_type": "stream",
     "text": [
      "[['Name of Person', 'Age'], ['Peter', '22'], ['Jasmine', '21'], ['Sam', '24']]\n"
     ]
    }
   ],
   "source": [
    "import csv\n",
    "\n",
    "csvData = [['Name of Person', 'Age'], ['Peter', '22'], ['Jasmine', '21'], ['Sam', '24']]   \n",
    "\n",
    "with open('person.csv', 'w') as csvFile: \n",
    "    writer = csv.writer(csvFile)\n",
    "    writer.writerows(csvData)\n",
    "    print(csvData)   \n",
    "\n",
    "csvFile.close()\n",
    "\n"
   ]
  },
  {
   "cell_type": "code",
   "execution_count": 10,
   "metadata": {},
   "outputs": [
    {
     "name": "stdout",
     "output_type": "stream",
     "text": [
      "Nepal\n",
      "USA\n",
      "UK\n",
      "France\n"
     ]
    }
   ],
   "source": [
    "import csv  \n",
    "\n",
    "with open('countries.csv') as myFile:  \n",
    "    reader = csv.DictReader(myFile)\n",
    "    for row in reader:\n",
    "        print(row['country'])"
   ]
  },
  {
   "cell_type": "code",
   "execution_count": null,
   "metadata": {
    "collapsed": true
   },
   "outputs": [],
   "source": []
  },
  {
   "cell_type": "code",
   "execution_count": 7,
   "metadata": {},
   "outputs": [
    {
     "name": "stdout",
     "output_type": "stream",
     "text": [
      "Everest\n",
      "K2 \n",
      "Kanchenjunga\n"
     ]
    }
   ],
   "source": [
    "\n",
    "import csv\n",
    "  \n",
    "with open('mountains.csv', 'w') as csvFile:  \n",
    "    fields = ['mountain', 'height']\n",
    "    writer = csv.DictWriter(csvFile, fieldnames=fields)    \n",
    "    writer.writeheader()\n",
    "    writer.writerow({'mountain' : 'Everest', 'height': '8848'})\n",
    "    writer.writerow({'mountain' : 'K2 ', 'height': '8611'})\n",
    "    writer.writerow({'mountain' : 'Kanchenjunga', 'height': '8586'})\n",
    "    \n",
    "with open('mountains.csv', 'r') as File:  \n",
    "    reader = csv.DictReader(File)\n",
    "    for row in reader:\n",
    "        print(row['mountain'])"
   ]
  },
  {
   "cell_type": "code",
   "execution_count": 11,
   "metadata": {
    "collapsed": true
   },
   "outputs": [],
   "source": [
    "import csv\n",
    "\n",
    "data = [{'mountain' : 'Everest', 'height': '8848'},\n",
    "{'mountain' : 'K2 ', 'height': '8611'},\n",
    "{'mountain' : 'Kangchenjunga', 'height': '8586'}]\n",
    "  \n",
    "with open('mountain1.csv', 'w') as csvFile:  \n",
    "    fields = ['mountain', 'height']\n",
    "    writer = csv.DictWriter(csvFile, fieldnames=fields)    \n",
    "    writer.writeheader()\n",
    "    writer.writerows(data)\n",
    "    "
   ]
  },
  {
   "cell_type": "code",
   "execution_count": null,
   "metadata": {
    "collapsed": true
   },
   "outputs": [],
   "source": [
    "import csv\n",
    "\n",
    "with open('person.csv') as csvFile:\n",
    "    reader = csv.DictReader(csvFile)\n",
    "    for row in reader:\n",
    "         print(row['full_name'], row['age'])\n"
   ]
  },
  {
   "cell_type": "code",
   "execution_count": 1,
   "metadata": {},
   "outputs": [
    {
     "name": "stdout",
     "output_type": "stream",
     "text": [
      "writing complete\n"
     ]
    }
   ],
   "source": [
    "import csv\n",
    "\n",
    "csv.register_dialect('myDialect', delimiter = '|', quoting=csv.QUOTE_ALL)\n",
    "\n",
    "with open('grade.csv', 'w') as csvfile:\n",
    "    fieldnames = ['Name', 'Grade']\n",
    "    writer = csv.DictWriter(csvfile, fieldnames=fieldnames, dialect=\"myDialect\")\n",
    " \n",
    "    writer.writeheader()\n",
    "    \n",
    "    writer.writerows([{'Grade': 'B', 'Name': 'Alex'},\n",
    "                      {'Grade': 'A', 'Name': 'Bin'},\n",
    "                      {'Grade': 'C', 'Name': 'Tom'},\n",
    "                      {'Grade': 'B', 'Name': 'Jane'},\n",
    "                      {'Grade': 'A', 'Name': 'Kennzy'}])\n",
    " \n",
    "print(\"writing complete\")"
   ]
  },
  {
   "cell_type": "code",
   "execution_count": 10,
   "metadata": {},
   "outputs": [
    {
     "name": "stdout",
     "output_type": "stream",
     "text": [
      "Writing Completed\n"
     ]
    }
   ],
   "source": [
    "import csv\n",
    "\n",
    "csvData = [['Fruit', 'Quantity'], ['Apple', '5'], ['Orange', '7'], ['Mango', '8']]   \n",
    "\n",
    "csv.register_dialect('myDialect', delimiter = '|', lineterminator = '\\r\\n\\r\\n')\n",
    "\n",
    "with open('lineterminator.csv', 'w') as f:\n",
    "    writer = csv.writer(f, dialect='myDialect')\n",
    "    writer.writerows(csvData)\n",
    "    \n",
    "print(\"Writing Completed\")\n",
    "\n",
    "f.close()"
   ]
  },
  {
   "cell_type": "code",
   "execution_count": null,
   "metadata": {
    "collapsed": true
   },
   "outputs": [],
   "source": []
  }
 ],
 "metadata": {
  "kernelspec": {
   "display_name": "Python 3",
   "language": "python",
   "name": "python3"
  },
  "language_info": {
   "codemirror_mode": {
    "name": "ipython",
    "version": 3
   },
   "file_extension": ".py",
   "mimetype": "text/x-python",
   "name": "python",
   "nbconvert_exporter": "python",
   "pygments_lexer": "ipython3",
   "version": "3.6.2"
  }
 },
 "nbformat": 4,
 "nbformat_minor": 2
}
