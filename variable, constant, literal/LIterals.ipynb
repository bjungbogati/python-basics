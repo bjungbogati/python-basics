{
 "cells": [
  {
   "cell_type": "code",
   "execution_count": null,
   "metadata": {
    "collapsed": true
   },
   "outputs": [],
   "source": [
    "a = -26\n",
    "\n",
    "print(a)"
   ]
  },
  {
   "cell_type": "code",
   "execution_count": null,
   "metadata": {
    "collapsed": true
   },
   "outputs": [],
   "source": [
    "b = 0b11111111\n",
    "\n",
    "print(b)"
   ]
  },
  {
   "cell_type": "code",
   "execution_count": null,
   "metadata": {
    "collapsed": true
   },
   "outputs": [],
   "source": [
    "a = -20  #integer\n",
    "\n",
    "c = 870328453444444444444444444444444\n",
    "\n",
    "d = 10.6\n",
    "\n",
    "complex = 3.15j\n",
    "\n",
    "print(complex)"
   ]
  },
  {
   "cell_type": "code",
   "execution_count": null,
   "metadata": {
    "collapsed": true
   },
   "outputs": [],
   "source": [
    "e = 3.14e2"
   ]
  },
  {
   "cell_type": "code",
   "execution_count": null,
   "metadata": {
    "collapsed": true
   },
   "outputs": [],
   "source": [
    "e "
   ]
  },
  {
   "cell_type": "code",
   "execution_count": null,
   "metadata": {
    "collapsed": true
   },
   "outputs": [],
   "source": [
    "h = 0x20"
   ]
  },
  {
   "cell_type": "code",
   "execution_count": null,
   "metadata": {
    "collapsed": true
   },
   "outputs": [],
   "source": [
    "h"
   ]
  },
  {
   "cell_type": "code",
   "execution_count": null,
   "metadata": {
    "collapsed": true
   },
   "outputs": [],
   "source": [
    "x = 10_0000"
   ]
  },
  {
   "cell_type": "code",
   "execution_count": null,
   "metadata": {
    "collapsed": true
   },
   "outputs": [],
   "source": [
    "x"
   ]
  },
  {
   "cell_type": "code",
   "execution_count": null,
   "metadata": {
    "collapsed": true
   },
   "outputs": [],
   "source": [
    "o = 0o10"
   ]
  },
  {
   "cell_type": "code",
   "execution_count": null,
   "metadata": {
    "collapsed": true
   },
   "outputs": [],
   "source": [
    "o "
   ]
  },
  {
   "cell_type": "code",
   "execution_count": null,
   "metadata": {
    "collapsed": true
   },
   "outputs": [],
   "source": [
    "a = 3.14j\n",
    "\n",
    "print(a)\n",
    "print(a.real)\n",
    "print(a.imag)\n"
   ]
  },
  {
   "cell_type": "code",
   "execution_count": null,
   "metadata": {
    "collapsed": true
   },
   "outputs": [],
   "source": [
    "True and False\n",
    "\n",
    "True and True\n",
    "\n",
    "False and True\n",
    "\n",
    "False or True\n",
    "\n",
    "False or False"
   ]
  },
  {
   "cell_type": "code",
   "execution_count": null,
   "metadata": {
    "collapsed": true
   },
   "outputs": [],
   "source": [
    "1 == 1"
   ]
  },
  {
   "cell_type": "code",
   "execution_count": null,
   "metadata": {
    "collapsed": true
   },
   "outputs": [],
   "source": [
    "x = (1 == True)\n",
    "y = (2 == False)\n",
    "\n",
    "a = True + 4\n",
    "b = False + 10\n",
    "\n",
    "print(\"x is\", x)\n",
    "print(\"y is\", y)\n",
    "print(\"a:\", a)\n",
    "print(\"b:\", b)\n"
   ]
  },
  {
   "cell_type": "code",
   "execution_count": null,
   "metadata": {
    "collapsed": true
   },
   "outputs": [],
   "source": [
    "True + 1"
   ]
  },
  {
   "cell_type": "code",
   "execution_count": null,
   "metadata": {
    "collapsed": true
   },
   "outputs": [],
   "source": [
    "x = None\n",
    "\n",
    "print(x == None)"
   ]
  },
  {
   "cell_type": "code",
   "execution_count": null,
   "metadata": {
    "collapsed": true
   },
   "outputs": [],
   "source": [
    "a = None\n",
    "b = 2\n",
    "\n",
    "def f(x):\n",
    "    if x == 1:\n",
    "        print(a)\n",
    "    else:\n",
    "        print(b)\n",
    "        \n",
    "f(1)\n"
   ]
  },
  {
   "cell_type": "code",
   "execution_count": null,
   "metadata": {
    "collapsed": true
   },
   "outputs": [],
   "source": [
    "drink = \"Tea\"\n",
    "food = None\n",
    "\n",
    "def menu(x):\n",
    "    if x == drink:\n",
    "        print(drink)\n",
    "    else:\n",
    "        print(None)\n",
    "        \n",
    "menu(drink)\n",
    "menu(food)"
   ]
  },
  {
   "cell_type": "code",
   "execution_count": null,
   "metadata": {
    "collapsed": true
   },
   "outputs": [],
   "source": [
    "list = [\"apple\", \"mango\", \"orange\"]\n",
    "\n",
    "item_1 = list[0]\n",
    "item_2 = list[1]\n",
    "item_3 = list[2]\n",
    "\n",
    "print(item_3)\n",
    "print(item_2)\n",
    "print(item_1)"
   ]
  },
  {
   "cell_type": "code",
   "execution_count": null,
   "metadata": {
    "collapsed": true
   },
   "outputs": [],
   "source": [
    "numbers = (1, 2, 3)\n",
    "\n",
    "item_1 = numbers[0]\n",
    "item_2 = numbers[1]\n",
    "item_3 = numbers[2]\n",
    "\n",
    "print(item_2)\n",
    "print(item_1)\n",
    "print(item_3)\n"
   ]
  },
  {
   "cell_type": "code",
   "execution_count": 8,
   "metadata": {},
   "outputs": [
    {
     "name": "stdout",
     "output_type": "stream",
     "text": [
      "cat\n",
      "dog\n"
     ]
    }
   ],
   "source": [
    "dict = {'a':'apple', 'b':'ball', 'c':'cat'}\n",
    "\n",
    "dict['d'] = 'dog'\n",
    "\n",
    "print(dict['c'])\n",
    "print(dict['d'])\n"
   ]
  },
  {
   "cell_type": "code",
   "execution_count": null,
   "metadata": {
    "collapsed": true
   },
   "outputs": [],
   "source": []
  },
  {
   "cell_type": "code",
   "execution_count": 17,
   "metadata": {},
   "outputs": [
    {
     "name": "stdout",
     "output_type": "stream",
     "text": [
      "{'i', 'a', 'u', 'e', 'o'}\n"
     ]
    }
   ],
   "source": [
    "vowels = {'a', 'e', 'i' , 'o'}\n",
    "\n",
    "vowels.add('u')\n",
    "\n",
    "print(vowels)"
   ]
  },
  {
   "cell_type": "code",
   "execution_count": 19,
   "metadata": {},
   "outputs": [
    {
     "name": "stdout",
     "output_type": "stream",
     "text": [
      "gravity:  9.8\n"
     ]
    }
   ],
   "source": [
    "class Const():\n",
    "    def gravity():\n",
    "        return 9.8\n",
    "\n",
    "print('gravity: ', Const.gravity())\n",
    "\n"
   ]
  },
  {
   "cell_type": "code",
   "execution_count": 33,
   "metadata": {},
   "outputs": [
    {
     "ename": "AttributeError",
     "evalue": "'builtin_function_or_method' object has no attribute 'py'",
     "output_type": "error",
     "traceback": [
      "\u001b[0;31m---------------------------------------------------------------------------\u001b[0m",
      "\u001b[0;31mAttributeError\u001b[0m                            Traceback (most recent call last)",
      "\u001b[0;32m<ipython-input-33-c56085fa6dab>\u001b[0m in \u001b[0;36m<module>\u001b[0;34m()\u001b[0m\n\u001b[0;32m----> 1\u001b[0;31m \u001b[0mglobals\u001b[0m\u001b[0;34m.\u001b[0m\u001b[0mpy\u001b[0m\u001b[0;34m\u001b[0m\u001b[0m\n\u001b[0m\u001b[1;32m      2\u001b[0m \u001b[0;34m\u001b[0m\u001b[0m\n\u001b[1;32m      3\u001b[0m \u001b[0mPI\u001b[0m \u001b[0;34m=\u001b[0m \u001b[0;36m3.14\u001b[0m\u001b[0;34m\u001b[0m\u001b[0m\n\u001b[1;32m      4\u001b[0m \u001b[0mgravity\u001b[0m \u001b[0;34m=\u001b[0m \u001b[0;36m9.8\u001b[0m\u001b[0;34m\u001b[0m\u001b[0m\n\u001b[1;32m      5\u001b[0m \u001b[0;34m\u001b[0m\u001b[0m\n",
      "\u001b[0;31mAttributeError\u001b[0m: 'builtin_function_or_method' object has no attribute 'py'"
     ]
    }
   ],
   "source": [
    "globals.py\n",
    "\n",
    "\n"
   ]
  },
  {
   "cell_type": "code",
   "execution_count": 34,
   "metadata": {},
   "outputs": [
    {
     "name": "stdout",
     "output_type": "stream",
     "text": [
      "3\n",
      "9.8\n"
     ]
    }
   ],
   "source": [
    "import constant\n",
    "\n",
    "PI = 3.14\n",
    "gravity = 9.8\n",
    "\n",
    "\n",
    "def my_constant:\n",
    "    print(constant.PI)\n",
    "    print(constant.GRAVITY)\n",
    "\n",
    "my_constant()"
   ]
  },
  {
   "cell_type": "code",
   "execution_count": 40,
   "metadata": {},
   "outputs": [
    {
     "name": "stdout",
     "output_type": "stream",
     "text": [
      "COMPANY :\n",
      "COPYRIGHT :\n",
      "FREEPHONE :\n",
      "PHONE :\n",
      "VAT :\n",
      "__class__ :\n",
      "__delattr__ :\n",
      "__dict__ :\n",
      "__dir__ :\n",
      "__doc__ :\n",
      "__eq__ :\n",
      "__format__ :\n",
      "__ge__ :\n",
      "__getattribute__ :\n",
      "__gt__ :\n",
      "__hash__ :\n",
      "__init__ :\n",
      "__init_subclass__ :\n",
      "__le__ :\n",
      "__lt__ :\n",
      "__module__ :\n",
      "__ne__ :\n",
      "__new__ :\n",
      "__reduce__ :\n",
      "__reduce_ex__ :\n",
      "__repr__ :\n",
      "__setattr__ :\n",
      "__sizeof__ :\n",
      "__str__ :\n",
      "__subclasshook__ :\n",
      "__weakref__ :\n"
     ]
    }
   ],
   "source": [
    "import time\n",
    "class whc:\n",
    "\n",
    "        \"\"\"A file of values to be used as globals or constants\n",
    "        throughout our company's Python programs.  By using this\n",
    "        file, you are able to change the VAT rate (which is 15%\n",
    "        as I write this in late 2009, but goes up to 15.0% on\n",
    "        the 1st January 2010 in ONE PLACE only\"\"\"\n",
    "\n",
    "        VAT = 15\n",
    "        PHONE = \"01225 708225\"\n",
    "        FREEPHONE = \"0800 043 8225\"\n",
    "        COMPANY = \"Well House Consultants Ltd\"\n",
    "        COPYRIGHT = \"Copyright \" + COMPANY + time.strftime(\", %Y\")\n",
    "\n",
    "if __name__ == \"__main__\":\n",
    "        for item in dir(whc):\n",
    "                print(item,\":\"),\n",
    "                exec(\"whc.\"+item)\n"
   ]
  },
  {
   "cell_type": "code",
   "execution_count": 54,
   "metadata": {},
   "outputs": [
    {
     "name": "stdout",
     "output_type": "stream",
     "text": [
      "10 100 200 300\n"
     ]
    }
   ],
   "source": [
    "a = 0b1010\n",
    "b = 100\n",
    "c = 0o310\n",
    "d = 0x12c\n",
    "\n",
    "print(a, b, c, d)"
   ]
  },
  {
   "cell_type": "code",
   "execution_count": 8,
   "metadata": {},
   "outputs": [
    {
     "name": "stdout",
     "output_type": "stream",
     "text": [
      "This is Python\n",
      "C\n",
      "This is a multiline string\n",
      "with more than one line code.\n",
      "Ünicöde\n",
      "raw \\n string\n"
     ]
    }
   ],
   "source": [
    "strings = \"This is Python\"\n",
    "\n",
    "char = \"C\"\n",
    "\n",
    "multiline_str = \"\"\"This is a multiline string\n",
    "with more than one line code.\"\"\"\n",
    "\n",
    "unicode = u\"\\u00dcnic\\u00f6de\"\n",
    "\n",
    "raw_str = r\"raw \\n string\"\n",
    "\n",
    "print(strings)\n",
    "print(char)\n",
    "print(multiline_str)\n",
    "print(unicode)\n",
    "print(raw_str)\n",
    "\n"
   ]
  },
  {
   "cell_type": "code",
   "execution_count": null,
   "metadata": {
    "collapsed": true
   },
   "outputs": [],
   "source": []
  },
  {
   "cell_type": "code",
   "execution_count": null,
   "metadata": {
    "collapsed": true
   },
   "outputs": [],
   "source": []
  }
 ],
 "metadata": {
  "kernelspec": {
   "display_name": "Python 3",
   "language": "python",
   "name": "python3"
  },
  "language_info": {
   "codemirror_mode": {
    "name": "ipython",
    "version": 3
   },
   "file_extension": ".py",
   "mimetype": "text/x-python",
   "name": "python",
   "nbconvert_exporter": "python",
   "pygments_lexer": "ipython3",
   "version": "3.6.2"
  }
 },
 "nbformat": 4,
 "nbformat_minor": 2
}
