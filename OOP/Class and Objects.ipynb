{
 "cells": [
  {
   "cell_type": "code",
   "execution_count": 18,
   "metadata": {
    "collapsed": true
   },
   "outputs": [],
   "source": [
    "class Shark:\n",
    "    def swim(self):\n",
    "        print(\"The shark is swimming.\")\n",
    "\n",
    "    def be_awesome(self):\n",
    "        print(\"The shark is being awesome.\")  \n",
    "                \n",
    "class Parrot:\n",
    "    def sing(self):\n",
    "        print(\"Parrot is singing\")\n",
    "        \n",
    "    def dance(self):\n",
    "        print(\"Parrot is dancing\")"
   ]
  },
  {
   "cell_type": "code",
   "execution_count": 21,
   "metadata": {},
   "outputs": [
    {
     "name": "stdout",
     "output_type": "stream",
     "text": [
      "The shark is swimming.\n",
      "The shark is being awesome.\n",
      "Parrot is singing\n",
      "Parrot is dancing\n"
     ]
    }
   ],
   "source": [
    "sammy = Shark()\n",
    "\n",
    "sammy.swim()\n",
    "sammy.be_awesome()\n",
    "\n",
    "\n",
    "\n",
    "blu = Parrot()\n",
    "\n",
    "blu.sing()\n",
    "blu.dance()\n"
   ]
  },
  {
   "cell_type": "code",
   "execution_count": 22,
   "metadata": {},
   "outputs": [
    {
     "name": "stdout",
     "output_type": "stream",
     "text": [
      "The shark is swimming.\n",
      "The shark is being awesome.\n",
      "Parrot is singing\n",
      "Parrot is dancing\n"
     ]
    }
   ],
   "source": [
    "class Shark:\n",
    "    def swim(self):\n",
    "        print(\"The shark is swimming.\")\n",
    "\n",
    "    def be_awesome(self):\n",
    "        print(\"The shark is being awesome.\")\n",
    "\n",
    "\n",
    "def main():\n",
    "    sammy = Shark()\n",
    "    sammy.swim()\n",
    "    sammy.be_awesome()\n",
    "\n",
    "if __name__ == \"__main__\":\n",
    "    main()\n",
    "    \n",
    "    \n",
    "class Cat:\n",
    "    def run(self):\n",
    "        print(\"Cat is running\")\n",
    "        \n",
    "    def rest(self):\n",
    "        print(\"Cat is resting\")\n",
    "\n",
    "\n",
    "blu = Parrot()\n",
    "\n",
    "blu.sing()\n",
    "blu.dance()"
   ]
  },
  {
   "cell_type": "markdown",
   "metadata": {},
   "source": [
    "## The Constructor Method"
   ]
  },
  {
   "cell_type": "code",
   "execution_count": 14,
   "metadata": {},
   "outputs": [
    {
     "name": "stdout",
     "output_type": "stream",
     "text": [
      "The shark is swimming.\n",
      "The shark is being awesome.\n"
     ]
    }
   ],
   "source": [
    "class Shark:\n",
    "#     def __init__(self):\n",
    "#         print(\"This is the constructor method.\")\n",
    "    def swim(self):\n",
    "        print(\"The shark is swimming.\")\n",
    "\n",
    "    def be_awesome(self):\n",
    "        print(\"The shark is being awesome.\")\n",
    "\n",
    "\n",
    "def main():\n",
    "    sammy = Shark()\n",
    "    sammy.swim()\n",
    "    sammy.be_awesome()\n",
    "\n",
    "if __name__ == \"__main__\":\n",
    "    main()\n",
    "\n",
    "    \n",
    "    \n",
    "    \n"
   ]
  },
  {
   "cell_type": "code",
   "execution_count": 25,
   "metadata": {},
   "outputs": [
    {
     "name": "stdout",
     "output_type": "stream",
     "text": [
      "Calling constructor method.\n",
      "The shark is swimming.\n",
      "The shark is being awesome.\n"
     ]
    }
   ],
   "source": [
    "class Parrot:\n",
    "    def __init__(self):\n",
    "        print(\"Calling constructor method.\")\n",
    "        \n",
    "    def sing(self):\n",
    "        print(\"The shark is swimming.\")\n",
    "\n",
    "    def dance(self):\n",
    "        print(\"The shark is being awesome.\")\n",
    "\n",
    "\n",
    "blu = Parrot()\n",
    "\n",
    "blu.sing()\n",
    "blu.dance()\n"
   ]
  },
  {
   "cell_type": "markdown",
   "metadata": {},
   "source": [
    "## Passing it as a parameter"
   ]
  },
  {
   "cell_type": "code",
   "execution_count": 27,
   "metadata": {},
   "outputs": [
    {
     "name": "stdout",
     "output_type": "stream",
     "text": [
      "Sammy is swimming.\n",
      "Sammy is being awesome.\n"
     ]
    }
   ],
   "source": [
    "class Shark:\n",
    "    def __init__(self, name):\n",
    "        self.name = name\n",
    "\n",
    "    def swim(self):\n",
    "        print(self.name + \" is swimming.\")\n",
    "\n",
    "    def be_awesome(self):\n",
    "        print(self.name + \" is being awesome.\")\n",
    "\n",
    "\n",
    "def main():\n",
    "    # Set name of Shark object\n",
    "    sammy = Shark(\"Sammy\")\n",
    "    sammy.swim()\n",
    "    sammy.be_awesome()\n",
    "\n",
    "if __name__ == \"__main__\":\n",
    "    main()"
   ]
  },
  {
   "cell_type": "code",
   "execution_count": 30,
   "metadata": {},
   "outputs": [
    {
     "name": "stdout",
     "output_type": "stream",
     "text": [
      "Blu is singing.\n",
      "Blu is dancing.\n"
     ]
    }
   ],
   "source": [
    "class Parrot:\n",
    "    def __init__(self, name):\n",
    "        self.name = name\n",
    "\n",
    "    def sing(self):\n",
    "        print(self.name + \" is singing.\")\n",
    "\n",
    "    def dance(self):\n",
    "        print(self.name + \" is dancing.\")\n",
    "\n",
    "blu = Parrot(\"Blu\")\n",
    "blu.sing()\n",
    "blu.dance()\n",
    "\n"
   ]
  },
  {
   "cell_type": "markdown",
   "metadata": {},
   "source": [
    "## Working with More Than One Object"
   ]
  },
  {
   "cell_type": "code",
   "execution_count": 1,
   "metadata": {},
   "outputs": [
    {
     "name": "stdout",
     "output_type": "stream",
     "text": [
      "Blu is singing.\n",
      "Red is dancing.\n"
     ]
    }
   ],
   "source": [
    "class Parrot:\n",
    "    def __init__(self, name):\n",
    "        self.name = name\n",
    "\n",
    "    def sing(self):\n",
    "        print(self.name + \" is singing.\")\n",
    "\n",
    "    def dance(self):\n",
    "        print(self.name + \" is dancing.\")\n",
    "\n",
    "\n",
    "blu = Parrot(\"Blu\")\n",
    "blu.sing()\n",
    "\n",
    "red = Parrot(\"Red\")\n",
    "red.dance()\n"
   ]
  },
  {
   "cell_type": "code",
   "execution_count": 31,
   "metadata": {},
   "outputs": [
    {
     "name": "stdout",
     "output_type": "stream",
     "text": [
      "Sammy is being awesome.\n",
      "Stevie is swimming.\n"
     ]
    }
   ],
   "source": [
    "class Parrot:\n",
    "    def __init__(self, name):\n",
    "        self.name = name\n",
    "\n",
    "    def fly(self):\n",
    "        print(self.name + \" is flying.\")\n",
    "\n",
    "    def be_awesome(self):\n",
    "        print(self.name + \" is being awesome.\")\n",
    "\n",
    "def main():\n",
    "    sammy = Shark(\"Sammy\")\n",
    "    sammy.be_awesome()\n",
    "    stevie = Shark(\"Stevie\")\n",
    "    stevie.swim()\n",
    "\n",
    "if __name__ == \"__main__\":\n",
    "  main()\n"
   ]
  },
  {
   "cell_type": "code",
   "execution_count": null,
   "metadata": {
    "collapsed": true
   },
   "outputs": [],
   "source": []
  }
 ],
 "metadata": {
  "kernelspec": {
   "display_name": "Python 3",
   "language": "python",
   "name": "python3"
  },
  "language_info": {
   "codemirror_mode": {
    "name": "ipython",
    "version": 3
   },
   "file_extension": ".py",
   "mimetype": "text/x-python",
   "name": "python",
   "nbconvert_exporter": "python",
   "pygments_lexer": "ipython3",
   "version": "3.6.2"
  }
 },
 "nbformat": 4,
 "nbformat_minor": 2
}
