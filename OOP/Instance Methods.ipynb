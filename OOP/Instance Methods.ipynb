{
 "cells": [
  {
   "cell_type": "code",
   "execution_count": null,
   "metadata": {
    "collapsed": true
   },
   "outputs": [],
   "source": [
    "class Macaw:\n",
    "\n",
    "    # Class Attribute\n",
    "    species = 'parrot'\n",
    "\n",
    "    # Initializer / Instance Attributes\n",
    "    def __init__(self, name, color):\n",
    "        self.name = name\n",
    "        self.color = color\n",
    "\n",
    "    # instance method\n",
    "    def dance(self):\n",
    "        return \"{} colored {} is dancing.\".format(self.name, self.color)\n",
    "\n",
    "    # instance method\n",
    "    def sing(self, sound):\n",
    "        return \"{} sings {}\".format(self.name, sound)\n",
    "\n",
    "# Instantiate the Dog object\n",
    "blu = Macaw(\"Blu\", 6)\n",
    "\n",
    "# call our instance methods\n",
    "print(blu.dance())\n",
    "print(blu.sing(\"Gruff Gruff\"))"
   ]
  }
 ],
 "metadata": {
  "kernelspec": {
   "display_name": "Python 3",
   "language": "python",
   "name": "python3"
  },
  "language_info": {
   "codemirror_mode": {
    "name": "ipython",
    "version": 3
   },
   "file_extension": ".py",
   "mimetype": "text/x-python",
   "name": "python",
   "nbconvert_exporter": "python",
   "pygments_lexer": "ipython3",
   "version": "3.6.2"
  }
 },
 "nbformat": 4,
 "nbformat_minor": 2
}
