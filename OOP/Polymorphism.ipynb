{
 "cells": [
  {
   "cell_type": "markdown",
   "metadata": {},
   "source": [
    "**Polymorphism** is the ability to leverage the same interface for different underlying forms such as data types or classes. This permits functions to use entities of different types at different times."
   ]
  },
  {
   "cell_type": "markdown",
   "metadata": {},
   "source": [
    "Python’s duck typing, a special case of dynamic typing, uses techniques characteristic of polymorphism, including late binding and dynamic dispatch. The term “duck typing” is derived from a quote of writer James Whitcomb Riley: “When I see a bird that walks like a duck and swims like a duck and quacks like a duck, I call that bird a duck.” "
   ]
  },
  {
   "cell_type": "markdown",
   "metadata": {},
   "source": [
    "## Creating Polymorphic Classes"
   ]
  },
  {
   "cell_type": "code",
   "execution_count": 1,
   "metadata": {
    "collapsed": true
   },
   "outputs": [],
   "source": [
    "class Shark():\n",
    "    def swim(self):\n",
    "        print(\"The shark is swimming.\")\n",
    "\n",
    "    def swim_backwards(self):\n",
    "        print(\"The shark cannot swim backwards, but can sink backwards.\")\n",
    "\n",
    "    def skeleton(self):\n",
    "        print(\"The shark's skeleton is made of cartilage.\")\n",
    "\n",
    "\n",
    "class Clownfish():\n",
    "    def swim(self):\n",
    "        print(\"The clownfish is swimming.\")\n",
    "\n",
    "    def swim_backwards(self):\n",
    "        print(\"The clownfish can swim backwards.\")\n",
    "\n",
    "    def skeleton(self):\n",
    "        print(\"The clownfish's skeleton is made of bone.\")"
   ]
  },
  {
   "cell_type": "markdown",
   "metadata": {},
   "source": [
    "## Instantiate the class"
   ]
  },
  {
   "cell_type": "code",
   "execution_count": 2,
   "metadata": {},
   "outputs": [
    {
     "name": "stdout",
     "output_type": "stream",
     "text": [
      "The shark's skeleton is made of cartilage.\n",
      "The clownfish's skeleton is made of bone.\n"
     ]
    }
   ],
   "source": [
    "sammy = Shark()\n",
    "\n",
    "sammy.skeleton()\n",
    "\n",
    "casey = Clownfish()\n",
    "\n",
    "casey.skeleton()"
   ]
  },
  {
   "cell_type": "markdown",
   "metadata": {},
   "source": [
    "## Polymorphism "
   ]
  },
  {
   "cell_type": "code",
   "execution_count": 3,
   "metadata": {},
   "outputs": [
    {
     "name": "stdout",
     "output_type": "stream",
     "text": [
      "The shark is swimming.\n",
      "The shark cannot swim backwards, but can sink backwards.\n",
      "The shark's skeleton is made of cartilage.\n",
      "The clownfish is swimming.\n",
      "The clownfish can swim backwards.\n",
      "The clownfish's skeleton is made of bone.\n"
     ]
    }
   ],
   "source": [
    "sammy = Shark()\n",
    "\n",
    "casey = Clownfish()\n",
    "\n",
    "\n",
    "for fish in (sammy, casey):\n",
    "    fish.swim()\n",
    "    fish.swim_backwards()\n",
    "    fish.skeleton()"
   ]
  },
  {
   "cell_type": "markdown",
   "metadata": {},
   "source": [
    "## Polymorphism with function"
   ]
  },
  {
   "cell_type": "code",
   "execution_count": 21,
   "metadata": {},
   "outputs": [
    {
     "name": "stdout",
     "output_type": "stream",
     "text": [
      "Parrot can fly\n",
      "Penguin can't fly\n"
     ]
    }
   ],
   "source": [
    "class Parrot:\n",
    "    def fly(self):\n",
    "        print(\"Parrot can fly\")\n",
    "    def swim(self):\n",
    "        print(\"Parrot can't swim\")\n",
    "\n",
    "class Penguin:\n",
    "    def fly(self):\n",
    "        print(\"Penguin can't fly\")\n",
    "    def swim(self):\n",
    "        print(\"Penguin can swim\")\n",
    "\n",
    "# common interface\n",
    "def flying_test(bird):\n",
    "    bird.fly()\n",
    "\n",
    "#instantate objects        \n",
    "blu = Parrot()\n",
    "peggy = Penguin()\n",
    "\n",
    "# passing the object\n",
    "flying_test(blu)\n",
    "flying_test(peggy)\n",
    "\n",
    "\n",
    "# for bird in (blu, peggy):\n",
    "#     bird.fly() \n",
    "#     bird.swim()"
   ]
  },
  {
   "cell_type": "code",
   "execution_count": 7,
   "metadata": {},
   "outputs": [
    {
     "name": "stdout",
     "output_type": "stream",
     "text": [
      "woof\n",
      "hooooowll\n"
     ]
    }
   ],
   "source": [
    "class wolf: \n",
    "    def bark(self):\n",
    "        print(\"hooooowll\")\n",
    "\n",
    "class dog: \n",
    "    def bark(self):\n",
    "        print(\"woof\")\n",
    "\n",
    "\n",
    "def barkforme(dogtype):\n",
    "    dogtype.bark()\n",
    "\n",
    "\n",
    "my_dog = dog()\n",
    "my_wolf = wolf()\n",
    "barkforme(my_dog)\n",
    "barkforme(my_wolf)"
   ]
  }
 ],
 "metadata": {
  "kernelspec": {
   "display_name": "Python 3",
   "language": "python",
   "name": "python3"
  },
  "language_info": {
   "codemirror_mode": {
    "name": "ipython",
    "version": 3
   },
   "file_extension": ".py",
   "mimetype": "text/x-python",
   "name": "python",
   "nbconvert_exporter": "python",
   "pygments_lexer": "ipython3",
   "version": "3.6.2"
  }
 },
 "nbformat": 4,
 "nbformat_minor": 2
}
