{
 "cells": [
  {
   "cell_type": "code",
   "execution_count": 1,
   "metadata": {
    "collapsed": true
   },
   "outputs": [],
   "source": []
  },
  {
   "cell_type": "code",
   "execution_count": 26,
   "metadata": {},
   "outputs": [
    {
     "name": "stdout",
     "output_type": "stream",
     "text": [
      "Peggy is 10 years old.\n",
      "Peggy runs fast.\n"
     ]
    }
   ],
   "source": [
    "# parent class\n",
    "class Bird:\n",
    "\n",
    "    # Instance Attributes\n",
    "    def __init__(self, name, age):\n",
    "        self.name = name\n",
    "        self.age = age\n",
    "\n",
    "    # instance method\n",
    "    def intro(self):\n",
    "        return \"{} is {} years old.\".format(self.name, self.age)\n",
    "\n",
    "# child class\n",
    "class Penguin(Bird):\n",
    "    def run(self, speed):\n",
    "        return \"{} runs {}.\".format(self.name, speed)\n",
    "\n",
    "# child inherit attributes and behaviors from parent class\n",
    "\n",
    "peggy = Penguin(\"Peggy\", 10)\n",
    "print(peggy.intro())\n",
    "\n",
    "# Child class with own attributes and behaviors\n",
    "\n",
    "print(peggy.run(\"fast\"))"
   ]
  },
  {
   "cell_type": "code",
   "execution_count": null,
   "metadata": {},
   "outputs": [],
   "source": []
  },
  {
   "cell_type": "code",
   "execution_count": 16,
   "metadata": {},
   "outputs": [
    {
     "name": "stdout",
     "output_type": "stream",
     "text": [
      "Sammy is 10 years old.\n",
      "Sammy runs fast\n"
     ]
    }
   ],
   "source": [
    "class Bird:\n",
    "\n",
    "    # Initializer / Instance Attributes\n",
    "    def __init__(self, name, age):\n",
    "        self.name = name\n",
    "        self.age = age\n",
    "\n",
    "    # instance method\n",
    "    def intro(self):\n",
    "        return \"{} is {} years old.\".format(self.name, self.age)\n",
    "\n",
    "    # instance method\n",
    "    def sing(self, song):\n",
    "        return \"{} sings {}\".format(self.name, song)\n",
    "    \n",
    "class Penguin(Bird):\n",
    "    def run(self, speed):\n",
    "        return \"{} runs {}\".format(self.name, speed)\n",
    "        \n",
    "class Humming(Bird):\n",
    "    def body(self, size):\n",
    "        return \"{} is {} in size\".format(self.name, size)\n",
    "        \n",
    "\n",
    "# Child classes inherit attributes and\n",
    "# behaviors from the parent class\n",
    "\n",
    "sammy = Penguin(\"Sammy\", 10)\n",
    "print(sammy.intro())\n",
    "\n",
    "# Child classes have specific attributes\n",
    "# and behaviors as well\n",
    "print(sammy.run(\"fast\"))"
   ]
  }
 ],
 "metadata": {
  "kernelspec": {
   "display_name": "Python 3",
   "language": "python",
   "name": "python3"
  },
  "language_info": {
   "codemirror_mode": {
    "name": "ipython",
    "version": 3
   },
   "file_extension": ".py",
   "mimetype": "text/x-python",
   "name": "python",
   "nbconvert_exporter": "python",
   "pygments_lexer": "ipython3",
   "version": "3.6.2"
  }
 },
 "nbformat": 4,
 "nbformat_minor": 2
}
