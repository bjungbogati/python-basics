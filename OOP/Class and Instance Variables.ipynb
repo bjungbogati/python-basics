{
 "cells": [
  {
   "cell_type": "markdown",
   "metadata": {},
   "source": [
    "At the class level, variables are referred to as class variables, whereas variables at the instance level are called instance variables.\n",
    "\n",
    "DRY principle, which stands for don’t repeat yourself. This principle is geared towards limiting repetition within code, and object-oriented programming adheres to the DRY principle as it reduces redundancy."
   ]
  },
  {
   "cell_type": "markdown",
   "metadata": {},
   "source": [
    "## Class Variables"
   ]
  },
  {
   "cell_type": "markdown",
   "metadata": {},
   "source": [
    "Class variables are defined within the class construction. "
   ]
  },
  {
   "cell_type": "code",
   "execution_count": 2,
   "metadata": {},
   "outputs": [
    {
     "name": "stdout",
     "output_type": "stream",
     "text": [
      "fish\n"
     ]
    }
   ],
   "source": [
    "class Shark:\n",
    "    #class variables\n",
    "    animal_type = \"fish\"\n",
    "\n",
    "new_shark = Shark()\n",
    "print(new_shark.animal_type)"
   ]
  },
  {
   "cell_type": "code",
   "execution_count": 3,
   "metadata": {},
   "outputs": [
    {
     "name": "stdout",
     "output_type": "stream",
     "text": [
      "fish\n",
      "ocean\n",
      "5\n"
     ]
    }
   ],
   "source": [
    "class Shark:\n",
    "    animal_type = \"fish\"\n",
    "    location = \"ocean\"\n",
    "    followers = 5\n",
    "\n",
    "new_shark = Shark()\n",
    "print(new_shark.animal_type)\n",
    "print(new_shark.location)\n",
    "print(new_shark.followers)\n"
   ]
  },
  {
   "cell_type": "markdown",
   "metadata": {},
   "source": [
    "## Instance Variables"
   ]
  },
  {
   "cell_type": "markdown",
   "metadata": {},
   "source": [
    "Instance variables are owned by instances of the class. This means that for each object or instance of a class, the instance variables are different.\n",
    "\n",
    "Unlike class variables, instance variables are defined within methods."
   ]
  },
  {
   "cell_type": "code",
   "execution_count": 6,
   "metadata": {},
   "outputs": [
    {
     "name": "stdout",
     "output_type": "stream",
     "text": [
      "Sammy\n",
      "5\n",
      "Stevie\n",
      "8\n"
     ]
    }
   ],
   "source": [
    "class Shark:\n",
    "    def __init__(self, name, age):\n",
    "        self.name = name\n",
    "        self.age = age\n",
    "\n",
    "new_shark = Shark(\"Sammy\", 5)\n",
    "print(new_shark.name)\n",
    "print(new_shark.age)\n",
    "\n",
    "stevie = Shark(\"Stevie\", 8)\n",
    "print(stevie.name)\n",
    "print(stevie.age)"
   ]
  },
  {
   "cell_type": "markdown",
   "metadata": {},
   "source": [
    "### Working with Class and Instance Variables Together"
   ]
  },
  {
   "cell_type": "code",
   "execution_count": 7,
   "metadata": {},
   "outputs": [
    {
     "name": "stdout",
     "output_type": "stream",
     "text": [
      "Sammy\n",
      "ocean\n",
      "Stevie\n",
      "This user has 77 followers\n",
      "fish\n"
     ]
    }
   ],
   "source": [
    "class Shark:\n",
    "\n",
    "    # Class variables\n",
    "    animal_type = \"fish\"\n",
    "    location = \"ocean\"\n",
    "\n",
    "    # Constructor method with instance variables name and age\n",
    "    def __init__(self, name, age):\n",
    "        self.name = name\n",
    "        self.age = age\n",
    "\n",
    "    # Method with instance variable followers\n",
    "    def set_followers(self, followers):\n",
    "        print(\"This user has \" + str(followers) + \" followers\")\n",
    "\n",
    "\n",
    "def main():\n",
    "    # First object, set up instance variables of constructor method\n",
    "    sammy = Shark(\"Sammy\", 5)\n",
    "\n",
    "    # Print out instance variable name\n",
    "    print(sammy.name)\n",
    "\n",
    "    # Print out class variable location\n",
    "    print(sammy.location)\n",
    "\n",
    "    # Second object\n",
    "    stevie = Shark(\"Stevie\", 8)\n",
    "\n",
    "    # Print out instance variable name\n",
    "    print(stevie.name)\n",
    "\n",
    "    # Use set_followers method and pass followers instance variable\n",
    "    stevie.set_followers(77)\n",
    "\n",
    "    # Print out class variable animal_type\n",
    "    print(stevie.animal_type)\n",
    "\n",
    "if __name__ == \"__main__\":\n",
    "    main()"
   ]
  },
  {
   "cell_type": "code",
   "execution_count": null,
   "metadata": {
    "collapsed": true
   },
   "outputs": [],
   "source": []
  }
 ],
 "metadata": {
  "kernelspec": {
   "display_name": "Python 3",
   "language": "python",
   "name": "python3"
  },
  "language_info": {
   "codemirror_mode": {
    "name": "ipython",
    "version": 3
   },
   "file_extension": ".py",
   "mimetype": "text/x-python",
   "name": "python",
   "nbconvert_exporter": "python",
   "pygments_lexer": "ipython3",
   "version": "3.6.2"
  }
 },
 "nbformat": 4,
 "nbformat_minor": 2
}
