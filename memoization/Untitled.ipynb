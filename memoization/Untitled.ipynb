{
 "cells": [
  {
   "cell_type": "code",
   "execution_count": null,
   "metadata": {},
   "outputs": [],
   "source": [
    "def memoize(f):\n",
    "    cache = {}\n",
    "    def memo(x):\n",
    "        if x not in cache:            \n",
    "            cache[x] = f(x)\n",
    "        return cache[x]\n",
    "    return memo\n",
    "\n",
    "def fib(x):\n",
    "    if x == 0:\n",
    "        return 0\n",
    "    elif x == 1:\n",
    "        return 1\n",
    "    else:\n",
    "        return fib(x-1) + fib(x-2)\n",
    "\n",
    "fib = memoize(fib)\n",
    "\n",
    "print(timeit('fib(40)', globals=globals(), number=1))\n"
   ]
  },
  {
   "cell_type": "code",
   "execution_count": null,
   "metadata": {},
   "outputs": [],
   "source": [
    "import timeit\n",
    "\n",
    "def memoize(f):\n",
    "    cache = {}\n",
    "    def func(x):\n",
    "        if x not in cache:            \n",
    "            cache[x] = f(x)\n",
    "        return cache[x]\n",
    "    return func\n",
    "    \n",
    "\n",
    "def fib(n):\n",
    "    if n == 0:\n",
    "        return 0\n",
    "    elif n == 1:\n",
    "        return 1\n",
    "    else:\n",
    "        return fib(n-1) + fib(n-2)\n",
    "    \n",
    "fib = memoize(fib)\n",
    "\n",
    "print(fib(45))\n",
    "print(timeit.timeit('fib(45)', globals=globals(), number=1))\n"
   ]
  },
  {
   "cell_type": "code",
   "execution_count": null,
   "metadata": {},
   "outputs": [],
   "source": []
  },
  {
   "cell_type": "code",
   "execution_count": null,
   "metadata": {},
   "outputs": [],
   "source": [
    "import timeit\n",
    "\n",
    "def fib(n):\n",
    "    if n == 0:\n",
    "        return 0\n",
    "    elif n == 1:\n",
    "        return 1\n",
    "    else:\n",
    "        return fib(n-1) + fib(n-2)\n",
    "    \n",
    "print(\"Fibonacci:\", fib(45))\n",
    "print(\"Time taken:\", timeit.timeit('fib(45)', globals=globals(), number=1))"
   ]
  },
  {
   "cell_type": "code",
   "execution_count": null,
   "metadata": {
    "collapsed": true
   },
   "outputs": [],
   "source": [
    "import timeit, functools\n",
    "\n",
    "@functools.lru_cache(maxsize=128)  #Will only store 128 results before clearing cache\n",
    "def fib(n):\n",
    "    if n == 0:\n",
    "        return 0\n",
    "    elif n == 1:\n",
    "        return 1\n",
    "    else:\n",
    "        return fib(n-1) + fib(n-2)\n",
    "\n",
    "\n",
    "print(timeit('fib(40)', globals=globals(), number=1))\n"
   ]
  },
  {
   "cell_type": "code",
   "execution_count": 17,
   "metadata": {},
   "outputs": [
    {
     "name": "stdout",
     "output_type": "stream",
     "text": [
      "Fibonacci : 1134903170\n",
      "Time taken: 3.6290002753958106e-06\n"
     ]
    }
   ],
   "source": [
    "import timeit\n",
    "\n",
    "def memoize(f):\n",
    "    cache = {}\n",
    "    def func(x):\n",
    "        if x not in cache:            \n",
    "            cache[x] = f(x)\n",
    "        return cache[x]\n",
    "    return func\n",
    "    \n",
    "@memoize\n",
    "\n",
    "def fib(n):\n",
    "    if n == 0:\n",
    "        return 0\n",
    "    elif n == 1:\n",
    "        return 1\n",
    "    else:\n",
    "        return fib(n-1) + fib(n-2)\n",
    "\n",
    "print(\"Fibonacci :\", fib(45))\n",
    "\n",
    "print(\"Time taken:\", timeit.timeit('fib(45)', globals=globals(), number=1))\n"
   ]
  },
  {
   "cell_type": "code",
   "execution_count": 15,
   "metadata": {},
   "outputs": [
    {
     "name": "stdout",
     "output_type": "stream",
     "text": [
      "Fibonacci : 1134903170\n",
      "Time taken: 4.661000275518745e-06\n"
     ]
    }
   ],
   "source": [
    "import timeit, functools\n",
    "\n",
    "@functools.lru_cache(maxsize=128)\n",
    "def fib(n):\n",
    "    if n == 0:\n",
    "        return 0\n",
    "    elif n == 1:\n",
    "        return 1\n",
    "    else:\n",
    "        return fib(n-1) + fib(n-2)\n",
    "\n",
    "print(\"Fibonacci :\", fib(45))\n",
    "print(\"Time taken:\",timeit.timeit('fib(45)', globals=globals(), number=1))\n"
   ]
  },
  {
   "cell_type": "code",
   "execution_count": null,
   "metadata": {
    "collapsed": true
   },
   "outputs": [],
   "source": []
  }
 ],
 "metadata": {
  "kernelspec": {
   "display_name": "Python 3",
   "language": "python",
   "name": "python3"
  },
  "language_info": {
   "codemirror_mode": {
    "name": "ipython",
    "version": 3
   },
   "file_extension": ".py",
   "mimetype": "text/x-python",
   "name": "python",
   "nbconvert_exporter": "python",
   "pygments_lexer": "ipython3",
   "version": "3.6.2"
  }
 },
 "nbformat": 4,
 "nbformat_minor": 2
}
