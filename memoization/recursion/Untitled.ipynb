{
 "cells": [
  {
   "cell_type": "code",
   "execution_count": 287,
   "metadata": {},
   "outputs": [
    {
     "name": "stdout",
     "output_type": "stream",
     "text": [
      "4950\n",
      "3.610400017350912e-05\n"
     ]
    }
   ],
   "source": [
    "import timeit\n",
    "\n",
    "def sum(n):\n",
    "   if n <= 1:\n",
    "       return n\n",
    "   else:\n",
    "       return n + sum(n-1)\n",
    "\n",
    "    \n",
    "print(sum(99))\n",
    "\n",
    "print(timeit.timeit('sum(99)', globals=globals(), number=1))"
   ]
  },
  {
   "cell_type": "code",
   "execution_count": 300,
   "metadata": {},
   "outputs": [
    {
     "name": "stdout",
     "output_type": "stream",
     "text": [
      "Fibonacci : 4950\n",
      "Time taken: 2.1080013539176434e-06\n"
     ]
    }
   ],
   "source": [
    "import timeit\n",
    "\n",
    "def memoize(f):\n",
    "    cache = {}\n",
    "    def func(x):\n",
    "        if x not in cache:            \n",
    "            cache[x] = f(x)\n",
    "        return cache[x]\n",
    "    return func\n",
    "\n",
    "def sum(n):\n",
    "    if n <= 1:\n",
    "        return n\n",
    "    else:\n",
    "        return n + sum(n-1)\n",
    "    \n",
    "sum = memoize(sum)\n",
    "\n",
    "print(\"Fibonacci :\", sum(99))\n",
    "print(\"Time taken:\", timeit.timeit('sum(99)', globals=globals(), number=1))\n"
   ]
  },
  {
   "cell_type": "code",
   "execution_count": null,
   "metadata": {
    "collapsed": true
   },
   "outputs": [],
   "source": []
  }
 ],
 "metadata": {
  "kernelspec": {
   "display_name": "Python 3",
   "language": "python",
   "name": "python3"
  },
  "language_info": {
   "codemirror_mode": {
    "name": "ipython",
    "version": 3
   },
   "file_extension": ".py",
   "mimetype": "text/x-python",
   "name": "python",
   "nbconvert_exporter": "python",
   "pygments_lexer": "ipython3",
   "version": "3.6.2"
  }
 },
 "nbformat": 4,
 "nbformat_minor": 2
}
