{
 "cells": [
  {
   "cell_type": "code",
   "execution_count": null,
   "metadata": {},
   "outputs": [],
   "source": [
    "import re\n",
    "\n",
    "pattern = \"this\"\n",
    "text = \"Does this text match the pattern?\"\n",
    "\n",
    "match = re.search(pattern, text)\n",
    "\n",
    "s = match.start()\n",
    "e = match.end()\n",
    "\n",
    "print('Found \"{}\"\\nin \"{}\"\\nfrom {} to {} (\"{}\")'.format(\n",
    "    match.re.pattern, match.string, s, e, text[s:e]))"
   ]
  },
  {
   "cell_type": "code",
   "execution_count": null,
   "metadata": {},
   "outputs": [],
   "source": [
    "import re\n",
    "\n",
    "patterns = [ 'this', 'that' ]\n",
    "text = 'Does this text match the pattern?'\n",
    "\n",
    "for pattern in patterns:\n",
    "    print('Looking for \"%s\" in \"%s\" ->' % (pattern, text))\n",
    "\n",
    "    if re.search(pattern,  text):\n",
    "        print('found a match!')\n",
    "    else:\n",
    "        print('no match')"
   ]
  },
  {
   "cell_type": "code",
   "execution_count": null,
   "metadata": {},
   "outputs": [],
   "source": [
    "import re\n",
    "\n",
    "patterns = [ \"this\", \"that\" ]\n",
    "text = \"Does this text match the pattern?\"\n",
    "\n"
   ]
  },
  {
   "cell_type": "code",
   "execution_count": null,
   "metadata": {},
   "outputs": [],
   "source": [
    "import re\n",
    "\n",
    "patterns = [\"fox\", \"black\"]\n",
    "\n",
    "text = \"The quick brown fox jumps over the lazy dog\"\n",
    "\n",
    "for pattern in patterns:\n",
    "    \n",
    "    if re.search(pattern, text):\n",
    "        print(pattern, \"-> Found\")\n",
    "    else:\n",
    "        print(pattern, \"-> Not found\")"
   ]
  },
  {
   "cell_type": "code",
   "execution_count": null,
   "metadata": {},
   "outputs": [],
   "source": [
    "import re\n",
    "\n",
    "views_count = \"8500000   7430000   5400000   15000   20000\"\n",
    "views_list = re.findall(r\"\\d{7}\", views_count)\n",
    "\n",
    "print(views_list)  \n"
   ]
  },
  {
   "cell_type": "code",
   "execution_count": 5,
   "metadata": {},
   "outputs": [
    {
     "name": "stdout",
     "output_type": "stream",
     "text": [
      "Simple is better than complex\n",
      "Simple\n",
      "better\n",
      "complex\n"
     ]
    }
   ],
   "source": [
    "import re\n",
    "\n",
    "text = \"Simple is better than complex\"\n",
    "\n",
    "pattern = re.match(r'(.*) is (.*) than (.*)', text)\n",
    "\n",
    "print(pattern.group())\n",
    "print(pattern.group(1))\n",
    "print(pattern.group(2))\n",
    "print(pattern.group(3))\n"
   ]
  },
  {
   "cell_type": "code",
   "execution_count": null,
   "metadata": {},
   "outputs": [],
   "source": [
    "import re\n",
    "\n",
    "text = \"Does this text match the pattern?\"\n",
    "\n",
    "m = \"this\"\n",
    "\n",
    "pattern = re.match(m, text)\n",
    "\n",
    "print(pattern)"
   ]
  },
  {
   "cell_type": "code",
   "execution_count": null,
   "metadata": {},
   "outputs": [],
   "source": [
    "import re\n",
    "\n",
    "patterns = \"this\"\n",
    "text = 'Does this text match the pattern?'\n",
    "\n",
    "for pattern in patterns:\n",
    "    print('Looking for \"%s\" in \"%s\" ->' % (pattern, text))\n",
    "\n",
    "    if re.match(pattern,  text ):\n",
    "        print('found a match!')\n",
    "    else:\n",
    "        print('no match')"
   ]
  },
  {
   "cell_type": "code",
   "execution_count": null,
   "metadata": {},
   "outputs": [],
   "source": [
    "import re\n",
    "\n",
    "text = \"This text match the pattern?\"\n",
    "pattern = \"This text\"\n",
    "\n",
    "match = re.match(pattern, text)\n",
    "\n",
    "if match:\n",
    "    print(\"Found match:\", match.group())"
   ]
  },
  {
   "cell_type": "code",
   "execution_count": null,
   "metadata": {
    "collapsed": true
   },
   "outputs": [],
   "source": []
  },
  {
   "cell_type": "code",
   "execution_count": 13,
   "metadata": {},
   "outputs": [
    {
     "name": "stdout",
     "output_type": "stream",
     "text": [
      "Simple is better than complex\n",
      "Simple\n",
      "is\n",
      "better\n"
     ]
    }
   ],
   "source": [
    "import re\n",
    "\n",
    "text = \"Simple is better than complex\"\n",
    "\n",
    "pattern = re.match(r'(.*) (.*) (.*) (.*) (.*)', text)\n",
    "\n",
    "print(pattern.group())\n",
    "print(pattern.group(1))\n",
    "print(pattern.group(2))\n",
    "print(pattern.group(3))"
   ]
  }
 ],
 "metadata": {
  "kernelspec": {
   "display_name": "Python 3",
   "language": "python",
   "name": "python3"
  },
  "language_info": {
   "codemirror_mode": {
    "name": "ipython",
    "version": 3
   },
   "file_extension": ".py",
   "mimetype": "text/x-python",
   "name": "python",
   "nbconvert_exporter": "python",
   "pygments_lexer": "ipython3",
   "version": "3.6.2"
  }
 },
 "nbformat": 4,
 "nbformat_minor": 2
}
