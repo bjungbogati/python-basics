{
 "cells": [
  {
   "cell_type": "code",
   "execution_count": 1,
   "metadata": {},
   "outputs": [
    {
     "name": "stdout",
     "output_type": "stream",
     "text": [
      "matchObj.group() :  Cats are smarter than dogs\n",
      "matchObj.group(1) :  Cats\n",
      "matchObj.group(2) :  smarter\n"
     ]
    }
   ],
   "source": [
    "import re\n",
    "\n",
    "line = \"Cats are smarter than dogs\"\n",
    "\n",
    "matchObj = re.match( r'(.*) are (.*?) .*', line, re.M|re.I)\n",
    "\n",
    "if matchObj:\n",
    "   print(\"matchObj.group() : \", matchObj.group())\n",
    "   print(\"matchObj.group(1) : \", matchObj.group(1))\n",
    "   print(\"matchObj.group(2) : \", matchObj.group(2))\n",
    "else:\n",
    "   print(\"No match!!\")"
   ]
  },
  {
   "cell_type": "code",
   "execution_count": 5,
   "metadata": {},
   "outputs": [
    {
     "name": "stdout",
     "output_type": "stream",
     "text": [
      "Looking for \"this\" in \"Does this text match the pattern?\" ->\n",
      "found a match!\n",
      "Looking for \"that\" in \"Does this text match the pattern?\" ->\n",
      "no match\n"
     ]
    }
   ],
   "source": []
  },
  {
   "cell_type": "code",
   "execution_count": 40,
   "metadata": {},
   "outputs": [
    {
     "name": "stdout",
     "output_type": "stream",
     "text": [
      "R\n"
     ]
    }
   ],
   "source": [
    "import re\n",
    "\n",
    "pattern = re.compile(\"\\w\")\n",
    "\n",
    "string = \"Regular expression\"\n",
    "\n",
    "output = pattern.match(string)\n",
    "\n",
    "print(output.group()) # will print out 'r'"
   ]
  },
  {
   "cell_type": "code",
   "execution_count": 20,
   "metadata": {},
   "outputs": [
    {
     "data": {
      "text/plain": [
       "'007'"
      ]
     },
     "execution_count": 20,
     "metadata": {},
     "output_type": "execute_result"
    }
   ],
   "source": [
    "import re\n",
    "\n",
    "def regex(string):\n",
    "    \n",
    "    pattern = re.compile(r\"\\w+\")\n",
    "    result = pattern.match(string)\n",
    "    \n",
    "    if result:\n",
    "        return  result.group()\n",
    "    return None\n",
    "\n",
    "regex(\"007 James Bond\")"
   ]
  },
  {
   "cell_type": "code",
   "execution_count": 26,
   "metadata": {},
   "outputs": [
    {
     "name": "stdout",
     "output_type": "stream",
     "text": [
      "<_sre.SRE_Match object; span=(0, 1), match='d'>\n"
     ]
    }
   ],
   "source": [
    "import re\n",
    "\n",
    "line = \"dance more\"\n",
    "\n",
    "result = re.match(r\"[^\\d+]\", line)\n",
    "\n",
    "print(result)"
   ]
  },
  {
   "cell_type": "code",
   "execution_count": 27,
   "metadata": {},
   "outputs": [
    {
     "ename": "SyntaxError",
     "evalue": "invalid syntax (<ipython-input-27-ae285afbb76e>, line 2)",
     "output_type": "error",
     "traceback": [
      "\u001b[0;36m  File \u001b[0;32m\"<ipython-input-27-ae285afbb76e>\"\u001b[0;36m, line \u001b[0;32m2\u001b[0m\n\u001b[0;31m    match = re.search(r'pi+', 'piiig') =>  found, match.group() == \"piii\"\u001b[0m\n\u001b[0m                                        ^\u001b[0m\n\u001b[0;31mSyntaxError\u001b[0m\u001b[0;31m:\u001b[0m invalid syntax\n"
     ]
    }
   ],
   "source": [
    "  ## i+ = one or more i's, as many as possible.\n",
    "  match = re.search(r'pi+', 'piiig') =>  found, match.group() == \"piii\"\n",
    "\n",
    "  ## Finds the first/leftmost solution, and within it drives the +\n",
    "  ## as far as possible (aka 'leftmost and largest').\n",
    "  ## In this example, note that it does not get to the second set of i's.\n",
    "  match = re.search(r'i+', 'piigiiii') =>  found, match.group() == \"ii\"\n",
    "\n",
    "  ## \\s* = zero or more whitespace chars\n",
    "  ## Here look for 3 digits, possibly separated by whitespace.\n",
    "  match = re.search(r'\\d\\s*\\d\\s*\\d', 'xx1 2   3xx') =>  found, match.group() == \"1 2   3\"\n",
    "  match = re.search(r'\\d\\s*\\d\\s*\\d', 'xx12  3xx') =>  found, match.group() == \"12  3\"\n",
    "  match = re.search(r'\\d\\s*\\d\\s*\\d', 'xx123xx') =>  found, match.group() == \"123\"\n",
    "\n",
    "  ## ^ = matches the start of string, so this fails:\n",
    "  match = re.search(r'^b\\w+', 'foobar') =>  not found, match == None\n",
    "  ## but without the ^ it succeeds:\n",
    "  match = re.search(r'b\\w+', 'foobar') =>  found, match.group() == \"bar\""
   ]
  },
  {
   "cell_type": "code",
   "execution_count": 12,
   "metadata": {},
   "outputs": [
    {
     "name": "stdout",
     "output_type": "stream",
     "text": [
      "gmail.com\n"
     ]
    }
   ],
   "source": [
    "import re\n",
    "\n",
    "string = \"john-doe@gmail.com is your email address\"\n",
    "    \n",
    "pattern =  r'\\w+.com' \n",
    "    \n",
    "match = re.search(pattern, string)\n",
    "\n",
    "if match:\n",
    "    print(match.group()) "
   ]
  },
  {
   "cell_type": "code",
   "execution_count": 6,
   "metadata": {},
   "outputs": [
    {
     "name": "stdout",
     "output_type": "stream",
     "text": [
      "john-doe@gmail.com\n"
     ]
    }
   ],
   "source": [
    "import re \n",
    "\n",
    "string = \"john-doe@gmail.com is your email address\"\n",
    "\n",
    "pattern = r'[\\w.-]+@[\\w.-]+'\n",
    "\n",
    "match = re.search(pattern, string)\n",
    "if match:\n",
    "    print(match.group())  ## 'alice-b@google.com'"
   ]
  },
  {
   "cell_type": "code",
   "execution_count": null,
   "metadata": {
    "collapsed": true
   },
   "outputs": [],
   "source": []
  }
 ],
 "metadata": {
  "kernelspec": {
   "display_name": "Python 3",
   "language": "python",
   "name": "python3"
  },
  "language_info": {
   "codemirror_mode": {
    "name": "ipython",
    "version": 3
   },
   "file_extension": ".py",
   "mimetype": "text/x-python",
   "name": "python",
   "nbconvert_exporter": "python",
   "pygments_lexer": "ipython3",
   "version": "3.6.2"
  }
 },
 "nbformat": 4,
 "nbformat_minor": 2
}
