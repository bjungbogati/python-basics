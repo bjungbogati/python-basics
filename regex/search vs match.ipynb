{
 "cells": [
  {
   "cell_type": "code",
   "execution_count": 63,
   "metadata": {},
   "outputs": [
    {
     "name": "stdout",
     "output_type": "stream",
     "text": [
      "Search Found \"roses\", in text \"roses are red\"\n",
      "Match Found None\n"
     ]
    }
   ],
   "source": [
    "import re\n",
    "\n",
    "flower = \"roses\"\n",
    "color = \"red\"\n",
    "text = \"roses are red\"\n",
    "\n",
    "s = re.search(flower, text)\n",
    "m = re.match(color, text)\n",
    "\n",
    "print('Search Found \"{}\", in text \"{}\"'.format(s.re.pattern, s.string))\n",
    "\n",
    "print('Match Found', m)\n"
   ]
  },
  {
   "cell_type": "code",
   "execution_count": 161,
   "metadata": {},
   "outputs": [
    {
     "name": "stdout",
     "output_type": "stream",
     "text": [
      "Found \"this\"\n",
      "in \"Does this text match the pattern?\"\n",
      "from 5 to 9 (\"this\")\n"
     ]
    }
   ],
   "source": [
    "import re\n",
    "\n",
    "pattern = \"this\"\n",
    "text = \"Does this text match the pattern?\"\n",
    "\n",
    "match = re.search(pattern, text)\n",
    "\n",
    "s = match.start()\n",
    "e = match.end()\n",
    "\n",
    "print('Found \"{}\"\\nin \"{}\"\\nfrom {} to {} (\"{}\")'.format(\n",
    "    match.re.pattern, match.string, s, e, text[s:e]))"
   ]
  },
  {
   "cell_type": "code",
   "execution_count": 71,
   "metadata": {},
   "outputs": [
    {
     "name": "stdout",
     "output_type": "stream",
     "text": [
      "<_sre.SRE_Match object; span=(0, 5), match='roses'>\n",
      "\"roses\"\n"
     ]
    }
   ],
   "source": [
    "m = re.match(\"roses\", \"roses are red\")    # No match\n",
    "\n",
    "s = re.search(\"roses\", \"roses are red\")  # No match\n",
    "\n",
    "\n",
    "print(m)\n",
    "print('\"{}\"'.format(s.re.pattern) )"
   ]
  },
  {
   "cell_type": "code",
   "execution_count": 72,
   "metadata": {},
   "outputs": [
    {
     "ename": "AttributeError",
     "evalue": "'str' object has no attribute 'match'",
     "output_type": "error",
     "traceback": [
      "\u001b[0;31m---------------------------------------------------------------------------\u001b[0m",
      "\u001b[0;31mAttributeError\u001b[0m                            Traceback (most recent call last)",
      "\u001b[0;32m<ipython-input-72-cea06031334e>\u001b[0m in \u001b[0;36m<module>\u001b[0;34m()\u001b[0m\n\u001b[1;32m      3\u001b[0m \u001b[0mpattern\u001b[0m \u001b[0;34m=\u001b[0m \u001b[0;34m\"\\w\"\u001b[0m\u001b[0;34m\u001b[0m\u001b[0m\n\u001b[1;32m      4\u001b[0m \u001b[0mstring\u001b[0m \u001b[0;34m=\u001b[0m \u001b[0;34m\"Regular expression\"\u001b[0m\u001b[0;34m\u001b[0m\u001b[0m\n\u001b[0;32m----> 5\u001b[0;31m \u001b[0moutput\u001b[0m \u001b[0;34m=\u001b[0m \u001b[0mpattern\u001b[0m\u001b[0;34m.\u001b[0m\u001b[0mmatch\u001b[0m\u001b[0;34m(\u001b[0m\u001b[0mstring\u001b[0m\u001b[0;34m)\u001b[0m\u001b[0;34m\u001b[0m\u001b[0m\n\u001b[0m\u001b[1;32m      6\u001b[0m \u001b[0;34m\u001b[0m\u001b[0m\n\u001b[1;32m      7\u001b[0m \u001b[0mprint\u001b[0m\u001b[0;34m(\u001b[0m\u001b[0moutput\u001b[0m\u001b[0;34m.\u001b[0m\u001b[0mgroup\u001b[0m\u001b[0;34m(\u001b[0m\u001b[0;34m)\u001b[0m\u001b[0;34m)\u001b[0m\u001b[0;34m\u001b[0m\u001b[0m\n",
      "\u001b[0;31mAttributeError\u001b[0m: 'str' object has no attribute 'match'"
     ]
    }
   ],
   "source": [
    "import re\n",
    "\n",
    "pattern = \"\\w\"\n",
    "string = \"Regular expression\"\n",
    "output = pattern.match(string)\n",
    "\n",
    "print(output.group()) \n"
   ]
  },
  {
   "cell_type": "code",
   "execution_count": 102,
   "metadata": {},
   "outputs": [
    {
     "name": "stdout",
     "output_type": "stream",
     "text": [
      "R\n"
     ]
    }
   ],
   "source": [
    "import re\n",
    "\n",
    "pattern = re.compile(r\"\\w\") \n",
    "\n",
    "text = \"Regular expression\"\n",
    "\n",
    "output = pattern.match(text)\n",
    "print(output.group())"
   ]
  },
  {
   "cell_type": "code",
   "execution_count": 111,
   "metadata": {},
   "outputs": [
    {
     "name": "stdout",
     "output_type": "stream",
     "text": [
      "None\n"
     ]
    }
   ],
   "source": [
    "import re\n",
    "\n",
    "text = \"100 Dollar bill\"\n",
    "\n",
    "pattern = re.compile(r\"\\d+\") \n",
    "    \n",
    "output = pattern.match(text)\n",
    "    \n",
    "if output:\n",
    "    print(output.group())\n",
    "else:\n",
    "    print(None)"
   ]
  },
  {
   "cell_type": "code",
   "execution_count": 120,
   "metadata": {},
   "outputs": [
    {
     "name": "stdout",
     "output_type": "stream",
     "text": [
      "None\n"
     ]
    }
   ],
   "source": [
    "import re\n",
    "\n",
    "line = \"dance more\"\n",
    "result = re.match(r\"[^\\w+]\", line)\n",
    "print(result)  "
   ]
  },
  {
   "cell_type": "code",
   "execution_count": 135,
   "metadata": {
    "collapsed": true
   },
   "outputs": [],
   "source": [
    "import re\n",
    "\n",
    "a = \"ebrj wjrbw\"\n",
    "\n",
    "pattern = re.match(r'(wjrbw)', a)\n",
    "if pattern:\n",
    "    print('success')"
   ]
  },
  {
   "cell_type": "code",
   "execution_count": 195,
   "metadata": {},
   "outputs": [
    {
     "name": "stdout",
     "output_type": "stream",
     "text": [
      "Grapes\n"
     ]
    }
   ],
   "source": [
    "import re\n",
    "m = \"Grapes are sour\"\n",
    "res = re.match(\"\\w+\", m)\n",
    "\n",
    "print(res.group())"
   ]
  },
  {
   "cell_type": "code",
   "execution_count": 81,
   "metadata": {},
   "outputs": [
    {
     "name": "stdout",
     "output_type": "stream",
     "text": [
      "101\n"
     ]
    }
   ],
   "source": [
    "import re\n",
    "\n",
    "pattern = r\"^\\d+\"\n",
    "\n",
    "m = re.match(pattern, \"101 Python\")\n",
    "\n",
    "if m:\n",
    "    print(m.group())\n",
    "else:\n",
    "    print(None)"
   ]
  },
  {
   "cell_type": "code",
   "execution_count": 54,
   "metadata": {},
   "outputs": [
    {
     "name": "stdout",
     "output_type": "stream",
     "text": [
      "R\n"
     ]
    }
   ],
   "source": [
    "import re\n",
    "\n",
    "pattern = re.compile(r\"\\w\") \n",
    "\n",
    "text = \"Regular expression\"\n",
    "\n",
    "output = pattern.match(text)\n",
    "print(output.group())"
   ]
  },
  {
   "cell_type": "code",
   "execution_count": 59,
   "metadata": {},
   "outputs": [
    {
     "name": "stdout",
     "output_type": "stream",
     "text": [
      "Cats are smarter than dogs\n",
      "Cats\n",
      "smarter\n"
     ]
    }
   ],
   "source": []
  },
  {
   "cell_type": "code",
   "execution_count": 77,
   "metadata": {},
   "outputs": [
    {
     "name": "stdout",
     "output_type": "stream",
     "text": [
      "Simple is better than complex\n",
      "Simple\n",
      "better\n"
     ]
    }
   ],
   "source": [
    "import re\n",
    "\n",
    "text = \"Simple is better than complex\"\n",
    "\n",
    "pattern = re.match(r'(.*) is (.*?) .*', text)\n",
    "\n",
    "print(pattern.group())\n",
    "print(pattern.group(1))\n",
    "print(pattern.group(2))"
   ]
  },
  {
   "cell_type": "code",
   "execution_count": 84,
   "metadata": {},
   "outputs": [
    {
     "name": "stdout",
     "output_type": "stream",
     "text": [
      "12345\n",
      "apple\n"
     ]
    }
   ],
   "source": [
    "text = \"12345apple\"\n",
    "\n",
    "tm = re.match(\"\\d+\",text)\n",
    "ts = re.search(\"[a-z]+\",text)\n",
    "\n",
    "print(tm.group())\n",
    "print(ts.group())\n"
   ]
  },
  {
   "cell_type": "code",
   "execution_count": 91,
   "metadata": {},
   "outputs": [
    {
     "ename": "AttributeError",
     "evalue": "'NoneType' object has no attribute 'group'",
     "output_type": "error",
     "traceback": [
      "\u001b[0;31m---------------------------------------------------------------------------\u001b[0m",
      "\u001b[0;31mAttributeError\u001b[0m                            Traceback (most recent call last)",
      "\u001b[0;32m<ipython-input-91-e3a0dfe10228>\u001b[0m in \u001b[0;36m<module>\u001b[0;34m()\u001b[0m\n\u001b[1;32m      4\u001b[0m \u001b[0mts\u001b[0m \u001b[0;34m=\u001b[0m \u001b[0mre\u001b[0m\u001b[0;34m.\u001b[0m\u001b[0msearch\u001b[0m\u001b[0;34m(\u001b[0m\u001b[0;34m\"\\d+\"\u001b[0m\u001b[0;34m,\u001b[0m\u001b[0mtext\u001b[0m\u001b[0;34m)\u001b[0m\u001b[0;34m\u001b[0m\u001b[0m\n\u001b[1;32m      5\u001b[0m \u001b[0;34m\u001b[0m\u001b[0m\n\u001b[0;32m----> 6\u001b[0;31m \u001b[0mprint\u001b[0m\u001b[0;34m(\u001b[0m\u001b[0mtm\u001b[0m\u001b[0;34m.\u001b[0m\u001b[0mgroup\u001b[0m\u001b[0;34m(\u001b[0m\u001b[0;34m)\u001b[0m\u001b[0;34m)\u001b[0m\u001b[0;34m\u001b[0m\u001b[0m\n\u001b[0m\u001b[1;32m      7\u001b[0m \u001b[0mprint\u001b[0m\u001b[0;34m(\u001b[0m\u001b[0mts\u001b[0m\u001b[0;34m.\u001b[0m\u001b[0mgroup\u001b[0m\u001b[0;34m(\u001b[0m\u001b[0;34m)\u001b[0m\u001b[0;34m)\u001b[0m\u001b[0;34m\u001b[0m\u001b[0m\n\u001b[1;32m      8\u001b[0m \u001b[0;34m\u001b[0m\u001b[0m\n",
      "\u001b[0;31mAttributeError\u001b[0m: 'NoneType' object has no attribute 'group'"
     ]
    }
   ],
   "source": [
    "text = \"12345apple\"\n",
    "\n",
    "tm = re.match(\"[a-z]+\",text)\n",
    "ts = re.search(\"\\d+\",text)\n",
    "\n",
    "print(tm.group())\n",
    "print(ts.group())\n",
    "\n",
    "\n",
    "\n"
   ]
  },
  {
   "cell_type": "code",
   "execution_count": null,
   "metadata": {
    "collapsed": true
   },
   "outputs": [],
   "source": []
  }
 ],
 "metadata": {
  "kernelspec": {
   "display_name": "Python 3",
   "language": "python",
   "name": "python3"
  },
  "language_info": {
   "codemirror_mode": {
    "name": "ipython",
    "version": 3
   },
   "file_extension": ".py",
   "mimetype": "text/x-python",
   "name": "python",
   "nbconvert_exporter": "python",
   "pygments_lexer": "ipython3",
   "version": "3.6.2"
  }
 },
 "nbformat": 4,
 "nbformat_minor": 2
}
