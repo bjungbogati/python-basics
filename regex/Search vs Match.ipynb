{
 "cells": [
  {
   "cell_type": "code",
   "execution_count": 12,
   "metadata": {},
   "outputs": [
    {
     "name": "stdout",
     "output_type": "stream",
     "text": [
      "Hello\n",
      "101\n"
     ]
    }
   ],
   "source": [
    "import re\n",
    "\n",
    "string = \"\"\"Hello \n",
    "101 Python Regex\"\"\"\n",
    "\n",
    "ma = re.match(r\"\\w+\", string, re.MULTILINE) \n",
    "se = re.search(r\"\\d+\", string, re.MULTILINE) \n",
    "\n",
    "print(ma.group())\n",
    "print(se.group()) \n"
   ]
  },
  {
   "cell_type": "code",
   "execution_count": 2,
   "metadata": {},
   "outputs": [
    {
     "name": "stdout",
     "output_type": "stream",
     "text": [
      "12345\n",
      "apple\n"
     ]
    }
   ],
   "source": [
    "import re\n",
    "\n",
    "text = \"12345apple\"import re\n",
    "\n",
    "string = \"\"\"Hello \n",
    "101 Python Regex\"\"\"\n",
    "\n",
    "se = re.search(r\"\\d+\", string, re.MULTILINE) \n",
    "ma = re.match(r\"\\w+\", string, re.MULTILINE) \n",
    "\n",
    "print(se.group()) \n",
    "print(ma.group())\n",
    "\n",
    "tm = re.match(\"\\d+\",text)\n",
    "ts = re.search(\"[a-z]+\",text)\n",
    "\n",
    "\n",
    "print(tm.group())\n",
    "print(ts.group())"
   ]
  },
  {
   "cell_type": "code",
   "execution_count": 13,
   "metadata": {},
   "outputs": [
    {
     "name": "stdout",
     "output_type": "stream",
     "text": [
      "[' Red ', ' Green', ' Blue ']\n"
     ]
    }
   ],
   "source": [
    "import re\n",
    "\n",
    "colors = \"\"\" Red \n",
    " Green\n",
    " Blue \"\"\"\n",
    "\n",
    "results = re.split(r\"\\n+\", colors)\n",
    "print(results)\n"
   ]
  },
  {
   "cell_type": "code",
   "execution_count": 14,
   "metadata": {},
   "outputs": [
    {
     "name": "stdout",
     "output_type": "stream",
     "text": [
      "['850000', '743000', '540000', '150000', '20000']\n"
     ]
    }
   ],
   "source": [
    "import re\n",
    "\n",
    "views = \"850000   7430000   5400000   150000   20000\"\n",
    "views_list = re.findall(r\"\\d{5,6}\", views)\n",
    "\n",
    "print(views_list)  \n"
   ]
  },
  {
   "cell_type": "code",
   "execution_count": null,
   "metadata": {
    "collapsed": true
   },
   "outputs": [],
   "source": []
  }
 ],
 "metadata": {
  "kernelspec": {
   "display_name": "Python 3",
   "language": "python",
   "name": "python3"
  },
  "language_info": {
   "codemirror_mode": {
    "name": "ipython",
    "version": 3
   },
   "file_extension": ".py",
   "mimetype": "text/x-python",
   "name": "python",
   "nbconvert_exporter": "python",
   "pygments_lexer": "ipython3",
   "version": "3.6.2"
  }
 },
 "nbformat": 4,
 "nbformat_minor": 2
}
