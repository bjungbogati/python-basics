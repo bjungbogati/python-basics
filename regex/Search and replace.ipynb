{
 "cells": [
  {
   "cell_type": "code",
   "execution_count": 20,
   "metadata": {},
   "outputs": [
    {
     "name": "stdout",
     "output_type": "stream",
     "text": [
      "731-752-2601   #phone number \n",
      "\n",
      "Phone Number :  731-752-2601   \n",
      "Phone Number :  7317522601\n"
     ]
    }
   ],
   "source": [
    "import re\n",
    "\n",
    "phone = \"731-752-2601   #phone number\"\n",
    "\n",
    "print(phone, \"\\n\")\n",
    "\n",
    "# remove python comments\n",
    "num = re.sub(r'#.*$', \"\", phone)\n",
    "print(\"Phone Number : \", num)\n",
    "\n",
    "# remove unwanted symbols\n",
    "num = re.sub(r'\\D', \"\", phone)    \n",
    "print(\"Phone Number : \", num)"
   ]
  },
  {
   "cell_type": "code",
   "execution_count": null,
   "metadata": {
    "collapsed": true
   },
   "outputs": [],
   "source": []
  }
 ],
 "metadata": {
  "kernelspec": {
   "display_name": "Python 3",
   "language": "python",
   "name": "python3"
  },
  "language_info": {
   "codemirror_mode": {
    "name": "ipython",
    "version": 3
   },
   "file_extension": ".py",
   "mimetype": "text/x-python",
   "name": "python",
   "nbconvert_exporter": "python",
   "pygments_lexer": "ipython3",
   "version": "3.6.2"
  }
 },
 "nbformat": 4,
 "nbformat_minor": 2
}
