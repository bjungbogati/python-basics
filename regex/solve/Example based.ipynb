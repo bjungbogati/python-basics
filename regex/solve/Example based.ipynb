{
 "cells": [
  {
   "cell_type": "markdown",
   "metadata": {},
   "source": [
    "re.match"
   ]
  },
  {
   "cell_type": "code",
   "execution_count": 19,
   "metadata": {},
   "outputs": [
    {
     "name": "stdout",
     "output_type": "stream",
     "text": [
      "None\n"
     ]
    }
   ],
   "source": [
    "import re  \n",
    "\n",
    "pattern = \"beautiful\"\n",
    "string = \"Life is beautiful\"\n",
    "\n",
    "match = re.match(pattern, string)\n",
    "\n",
    "print(match)  "
   ]
  },
  {
   "cell_type": "markdown",
   "metadata": {},
   "source": [
    "re.search()"
   ]
  },
  {
   "cell_type": "markdown",
   "metadata": {},
   "source": []
  },
  {
   "cell_type": "code",
   "execution_count": 26,
   "metadata": {},
   "outputs": [
    {
     "name": "stdout",
     "output_type": "stream",
     "text": [
      "found -> beautiful\n"
     ]
    }
   ],
   "source": [
    "import re  \n",
    "\n",
    "pattern = \"beautiful\"\n",
    "string = \"Life is beautiful\"\n",
    "\n",
    "if re.search(pattern, string):\n",
    "    print(\"found ->\", pattern)\n",
    "    \n",
    "else:\n",
    "    print(None)"
   ]
  },
  {
   "cell_type": "code",
   "execution_count": null,
   "metadata": {
    "collapsed": true
   },
   "outputs": [],
   "source": []
  },
  {
   "cell_type": "markdown",
   "metadata": {},
   "source": [
    "re.findall()"
   ]
  },
  {
   "cell_type": "code",
   "execution_count": 33,
   "metadata": {},
   "outputs": [
    {
     "name": "stdout",
     "output_type": "stream",
     "text": [
      "['I', 'I', 'I']\n"
     ]
    }
   ],
   "source": [
    "import re  \n",
    "\n",
    "pattern = \"I\"\n",
    "string = \"I have a pen, I have an apple, I have an Apple-pen.\"\n",
    "\n",
    "findall = re.findall(pattern, string)\n",
    "\n",
    "print(findall)  \n"
   ]
  },
  {
   "cell_type": "markdown",
   "metadata": {},
   "source": [
    "re.split()"
   ]
  },
  {
   "cell_type": "code",
   "execution_count": 40,
   "metadata": {},
   "outputs": [
    {
     "name": "stdout",
     "output_type": "stream",
     "text": [
      "['Good', 'Better', 'Best']\n"
     ]
    }
   ],
   "source": [
    "import re  \n",
    "\n",
    "pattern = \"_\"\n",
    "string = \"Good_Better_Best\"\n",
    "\n",
    "split = re.split(pattern, string)\n",
    "\n",
    "print(split)  \n",
    "\n",
    "\n"
   ]
  },
  {
   "cell_type": "markdown",
   "metadata": {},
   "source": [
    "re.sub()"
   ]
  },
  {
   "cell_type": "code",
   "execution_count": 49,
   "metadata": {},
   "outputs": [
    {
     "name": "stdout",
     "output_type": "stream",
     "text": [
      "Simple is better than complex\n"
     ]
    }
   ],
   "source": [
    "import re \n",
    "\n",
    "pattern = \"simplex\"\n",
    "replace = \"complex\"\n",
    "\n",
    "string = \"Simple is better than simplex\"\n",
    "\n",
    "sub = re.sub(pattern, replace, string)\n",
    "\n",
    "print(sub)\n"
   ]
  },
  {
   "cell_type": "markdown",
   "metadata": {},
   "source": [
    "re.compile()\n",
    "\n"
   ]
  },
  {
   "cell_type": "code",
   "execution_count": 52,
   "metadata": {},
   "outputs": [
    {
     "name": "stdout",
     "output_type": "stream",
     "text": [
      "['better', 'better', 'better', 'better']\n"
     ]
    }
   ],
   "source": [
    "import re\n",
    "\n",
    "pattern = re.compile(\"better\")\n",
    "\n",
    "comp = pattern.findall(\"\"\"Beautiful is better than ugly. Explicit is better than implicit.\n",
    "                     Simple is better than complex. Complex is better than complicated.\"\"\")\n",
    "\n",
    "print(comp)\n"
   ]
  },
  {
   "cell_type": "markdown",
   "metadata": {},
   "source": [
    "## Assigning Email address to Names\n"
   ]
  },
  {
   "cell_type": "code",
   "execution_count": 161,
   "metadata": {},
   "outputs": [
    {
     "ename": "SyntaxError",
     "evalue": "invalid syntax (<ipython-input-161-907ef4e0d094>, line 8)",
     "output_type": "error",
     "traceback": [
      "\u001b[0;36m  File \u001b[0;32m\"<ipython-input-161-907ef4e0d094>\"\u001b[0;36m, line \u001b[0;32m8\u001b[0m\n\u001b[0;31m    6print(string)\u001b[0m\n\u001b[0m         ^\u001b[0m\n\u001b[0;31mSyntaxError\u001b[0m\u001b[0;31m:\u001b[0m invalid syntax\n"
     ]
    }
   ],
   "source": [
    "import re\n",
    "\n",
    "pattern = \" \"\n",
    "replace = \"@gmail.com \"\n",
    "\n",
    "string = \"david john maria \"\n",
    "\n",
    "6print(string)\n",
    "\n",
    "subs = re.sub(pattern, replace, string)\n",
    "\n",
    "print(subs)\n"
   ]
  },
  {
   "cell_type": "markdown",
   "metadata": {},
   "source": [
    "## Validating Credit Cards"
   ]
  },
  {
   "cell_type": "code",
   "execution_count": 207,
   "metadata": {},
   "outputs": [
    {
     "name": "stdout",
     "output_type": "stream",
     "text": [
      "Invalid card\n"
     ]
    }
   ],
   "source": [
    "import re\n",
    "\n",
    "card = \"4423-4123-4123-4123\"\n",
    "\n",
    "pattern = \"^4[0-9]{12}(?:[0-9]{3})?$\"\n",
    "\n",
    "if re.match(pattern, card):\n",
    "    print(\"Credit Card is valid\")\n",
    "\n",
    "else:\n",
    "    print(\"Invalid card\")\n",
    "    \n"
   ]
  },
  {
   "cell_type": "markdown",
   "metadata": {},
   "source": [
    "## Remove unwanted symbols"
   ]
  },
  {
   "cell_type": "code",
   "execution_count": 47,
   "metadata": {},
   "outputs": [
    {
     "name": "stdout",
     "output_type": "stream",
     "text": [
      "Phone: +221-752-2301 \n",
      "\n",
      "Phone: 2217522301\n"
     ]
    }
   ],
   "source": [
    "\n",
    "import re\n",
    "\n",
    "phone = \"+221-752-2301\"\n",
    "print(\"Phone:\", phone, \"\\n\")\n",
    "\n",
    "num = re.sub(r'\\D', \"\", phone)    \n",
    "print(\"Phone:\", num)\n"
   ]
  },
  {
   "cell_type": "markdown",
   "metadata": {},
   "source": [
    "## Count the Repetited Words"
   ]
  },
  {
   "cell_type": "code",
   "execution_count": 59,
   "metadata": {},
   "outputs": [
    {
     "name": "stdout",
     "output_type": "stream",
     "text": [
      "Comment has 32 character(s).\n"
     ]
    }
   ],
   "source": [
    "\n",
    "import re\n",
    "\n",
    "sym = \"\\w+\" \n",
    "text = \"This string contains a foo word.\"  \n",
    "count = 0\n",
    "\n",
    "for sym in text:  \n",
    "    if re.findall(sym, text):\n",
    "        count += 1\n",
    "\n",
    "print(\"Comment has \" + str(count) + \" character(s).\") "
   ]
  },
  {
   "cell_type": "code",
   "execution_count": 80,
   "metadata": {},
   "outputs": [
    {
     "name": "stdout",
     "output_type": "stream",
     "text": [
      "Word(s): 9\n",
      "Character(s) 43\n"
     ]
    }
   ],
   "source": [
    "import re\n",
    "\n",
    "pattern = \"\\w+\"\n",
    "\n",
    "text = \"The quick brown fox jumps over the lazy dog\"\n",
    "\n",
    "word = len(re.findall(r'\\w+', text))\n",
    "\n",
    "chars = 0\n",
    "\n",
    "for char in text:  \n",
    "    if re.search(char, text):\n",
    "        chars += 1\n",
    "\n",
    "\n",
    "print(\"Word(s):\", word)\n",
    "print(\"Character(s)\", chars)"
   ]
  },
  {
   "cell_type": "code",
   "execution_count": null,
   "metadata": {
    "collapsed": true
   },
   "outputs": [],
   "source": []
  },
  {
   "cell_type": "code",
   "execution_count": 126,
   "metadata": {},
   "outputs": [
    {
     "ename": "SyntaxError",
     "evalue": "EOL while scanning string literal (<ipython-input-126-e901a1140235>, line 1)",
     "output_type": "error",
     "traceback": [
      "\u001b[0;36m  File \u001b[0;32m\"<ipython-input-126-e901a1140235>\"\u001b[0;36m, line \u001b[0;32m1\u001b[0m\n\u001b[0;31m    if re.match(r\"^(?!000|666)(?:[0-6][0-9]{2}|7(?:[0-6][0-9]|7[0-2]))-↵\u001b[0m\n\u001b[0m                                                                        ^\u001b[0m\n\u001b[0;31mSyntaxError\u001b[0m\u001b[0;31m:\u001b[0m EOL while scanning string literal\n"
     ]
    }
   ],
   "source": [
    "if re.match(r\"^(?!000|666)(?:[0-6][0-9]{2}|7(?:[0-6][0-9]|7[0-2]))-↵\n",
    "(?!00)[0-9]{2}-(?!0000)[0-9]{4}$\", sys.argv[1]):\n",
    "    print \"SSN is valid\"\n",
    "else:\n",
    "    print()\"SSN is invalid\")"
   ]
  },
  {
   "cell_type": "code",
   "execution_count": 257,
   "metadata": {},
   "outputs": [
    {
     "name": "stdout",
     "output_type": "stream",
     "text": [
      "Invalid card\n"
     ]
    }
   ],
   "source": [
    "card = \"4133412341234123\"\n",
    "\n",
    "pattern = \"^4[\\d]{12}([\\d]{3})?$\"\n",
    "\n",
    "if re.match(pattern, card):\n",
    "    print(\"Visa Card is valid\")\n",
    "\n",
    "else:\n",
    "    print(\"Invalid card\")\n",
    "    \n"
   ]
  },
  {
   "cell_type": "code",
   "execution_count": 216,
   "metadata": {},
   "outputs": [
    {
     "name": "stdout",
     "output_type": "stream",
     "text": [
      "Credit Card is valid\n"
     ]
    }
   ],
   "source": [
    "card = \"2123-4123-4123-4123\"\n",
    "\n",
    "pattern = r\"(?:\\d{4}-){3}\\d{4}|\\d{16}\"\n",
    "\n",
    "if re.match(pattern, card):\n",
    "    print(\"Credit Card is valid\")\n",
    "\n",
    "else:\n",
    "    print(\"Invalid card\")\n",
    "    \n"
   ]
  },
  {
   "cell_type": "code",
   "execution_count": null,
   "metadata": {
    "collapsed": true
   },
   "outputs": [],
   "source": []
  }
 ],
 "metadata": {
  "kernelspec": {
   "display_name": "Python 3",
   "language": "python",
   "name": "python3"
  },
  "language_info": {
   "codemirror_mode": {
    "name": "ipython",
    "version": 3
   },
   "file_extension": ".py",
   "mimetype": "text/x-python",
   "name": "python",
   "nbconvert_exporter": "python",
   "pygments_lexer": "ipython3",
   "version": "3.6.2"
  }
 },
 "nbformat": 4,
 "nbformat_minor": 2
}
