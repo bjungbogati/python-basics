{
 "cells": [
  {
   "cell_type": "code",
   "execution_count": null,
   "metadata": {
    "collapsed": true
   },
   "outputs": [],
   "source": []
  },
  {
   "cell_type": "code",
   "execution_count": 28,
   "metadata": {},
   "outputs": [
    {
     "name": "stdout",
     "output_type": "stream",
     "text": [
      "a\n",
      "4\n",
      "Apple\n"
     ]
    }
   ],
   "source": [
    "import re\n",
    "\n",
    "char = re.match(\"\\w\", \"a\")\n",
    "digit = re.match(\"\\d\", \"4\")\n",
    "word = re.match(\"\\w+\", \"Apple Ball\")\n",
    "\n",
    "print(char.group())\n",
    "print(digit.group())\n",
    "print(word.group())"
   ]
  },
  {
   "cell_type": "code",
   "execution_count": 4,
   "metadata": {},
   "outputs": [
    {
     "name": "stdout",
     "output_type": "stream",
     "text": [
      "apple\n"
     ]
    }
   ],
   "source": [
    "import re\n",
    "\n",
    "string = \"Sam eats apple\"\n",
    "pattern = \"apple\"\n",
    "mat = re.search(pattern, string)\n",
    "\n",
    "print(mat.group())"
   ]
  },
  {
   "cell_type": "code",
   "execution_count": 9,
   "metadata": {},
   "outputs": [
    {
     "name": "stdout",
     "output_type": "stream",
     "text": [
      "None\n",
      "<_sre.SRE_Match object; span=(0, 4), match='TeSt'>\n"
     ]
    }
   ],
   "source": [
    "import re\n",
    "\n",
    "string = 'TeSt'\n",
    "casesensitive = re.compile('test')\n",
    "ignorecase = re.compile('test', re.IGNORECASE)\n",
    "print(casesensitive.match(s))\n",
    "print(ignorecase.match(s))"
   ]
  },
  {
   "cell_type": "code",
   "execution_count": 24,
   "metadata": {},
   "outputs": [
    {
     "name": "stdout",
     "output_type": "stream",
     "text": [
      "Found : None\n",
      "Found : TeSt\n"
     ]
    }
   ],
   "source": [
    "import re\n",
    "\n",
    "string = \"This is a TeSt string\"\n",
    "pattern = \"test\"\n",
    "\n",
    "casesensative = re.search(pattern, string)\n",
    "caseinsensative = re.search(pattern, string, re.IGNORECASE).group()\n",
    "\n",
    "print(\"Found :\", casesensative)\n",
    "print(\"Found :\", caseinsensative)"
   ]
  },
  {
   "cell_type": "code",
   "execution_count": 7,
   "metadata": {},
   "outputs": [
    {
     "name": "stdout",
     "output_type": "stream",
     "text": [
      "01234\n",
      "ABCDE \n"
     ]
    }
   ],
   "source": [
    "import re\n",
    "\n",
    "chars = \"ABCDE 01234\"\n",
    "\n",
    "digit = re.search(\"\\d+\", chars).group()\n",
    "\n",
    "alphabet = re.search(\"\\D+\", chars).group()\n",
    "\n",
    "print(digit)\n",
    "print(alphabet)"
   ]
  },
  {
   "cell_type": "code",
   "execution_count": null,
   "metadata": {},
   "outputs": [],
   "source": [
    "import re\n",
    "\n",
    "chars = ('a','b','c','d')\n",
    "\n",
    "alphabet = re.search(\"\\d+\", ('a','b','c','d'))\n",
    "digit = re.search(\"\\D+\", (1, 2,3, 4, 5))\n",
    "\n",
    "print(digit)\n",
    "print(alphabet)"
   ]
  },
  {
   "cell_type": "code",
   "execution_count": 18,
   "metadata": {},
   "outputs": [
    {
     "name": "stdout",
     "output_type": "stream",
     "text": [
      "Python\n"
     ]
    }
   ],
   "source": [
    "import re\n",
    "\n",
    "string = \"### Python\"\n",
    "exclude = re.search(\"\\w+\", string).group()\n",
    "\n",
    "print(exclude)"
   ]
  },
  {
   "cell_type": "code",
   "execution_count": 24,
   "metadata": {},
   "outputs": [
    {
     "name": "stdout",
     "output_type": "stream",
     "text": [
      "Python101\n"
     ]
    }
   ],
   "source": [
    "import re\n",
    "\n",
    "string = \"Python101\"\n",
    "alphanum = re.search(\"\\w+\", string).group()\n",
    "\n",
    "print(alphanum)"
   ]
  },
  {
   "cell_type": "code",
   "execution_count": 40,
   "metadata": {},
   "outputs": [
    {
     "name": "stdout",
     "output_type": "stream",
     "text": [
      "HelloWorld\n",
      "101\n"
     ]
    }
   ],
   "source": [
    "import re\n",
    "\n",
    "string = \"HelloWorld101\"\n",
    "alpha = re.search(r'\\D+', string).group()\n",
    "digit = re.search(r'\\d+', string).group()\n",
    "\n",
    "print(alpha)\n",
    "print(digit)"
   ]
  },
  {
   "cell_type": "code",
   "execution_count": 59,
   "metadata": {},
   "outputs": [
    {
     "name": "stdout",
     "output_type": "stream",
     "text": [
      "['1', '2', '3', '4', '8', '9', '0']\n"
     ]
    }
   ],
   "source": [
    "import re\n",
    "\n",
    "number = 1234567890\n",
    "exclude = r'[^567]'\n",
    "\n",
    "number = re.findall(exclude, string)\n",
    "\n",
    "print(number)"
   ]
  },
  {
   "cell_type": "code",
   "execution_count": 64,
   "metadata": {},
   "outputs": [
    {
     "name": "stdout",
     "output_type": "stream",
     "text": [
      "ThisisPython101\n"
     ]
    }
   ],
   "source": [
    "import re\n",
    "\n",
    "string = \"ThisisPython 101\"\n",
    "alphanum = \"\\w+\"\n",
    "\n",
    "number = re.search(alphanum, string).group()\n",
    "\n",
    "print(number)"
   ]
  },
  {
   "cell_type": "code",
   "execution_count": null,
   "metadata": {
    "collapsed": true
   },
   "outputs": [],
   "source": []
  }
 ],
 "metadata": {
  "kernelspec": {
   "display_name": "Python 3",
   "language": "python",
   "name": "python3"
  },
  "language_info": {
   "codemirror_mode": {
    "name": "ipython",
    "version": 3
   },
   "file_extension": ".py",
   "mimetype": "text/x-python",
   "name": "python",
   "nbconvert_exporter": "python",
   "pygments_lexer": "ipython3",
   "version": "3.6.4"
  }
 },
 "nbformat": 4,
 "nbformat_minor": 2
}
