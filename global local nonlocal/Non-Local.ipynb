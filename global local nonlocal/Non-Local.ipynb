{
 "cells": [
  {
   "cell_type": "markdown",
   "metadata": {},
   "source": [
    "## Nested function"
   ]
  },
  {
   "cell_type": "code",
   "execution_count": null,
   "metadata": {},
   "outputs": [],
   "source": [
    "x = 0\n",
    "def outer():\n",
    "    x = 1\n",
    "    def inner():\n",
    "        x = 2\n",
    "        print(\"inner:\", x)\n",
    "        \n",
    "    inner()\n",
    "    print(\"outer:\", x)\n",
    "\n",
    "outer()\n",
    "print(\"main:\", x)"
   ]
  },
  {
   "cell_type": "markdown",
   "metadata": {},
   "source": [
    "## Using Nonlocal keyword"
   ]
  },
  {
   "cell_type": "code",
   "execution_count": null,
   "metadata": {},
   "outputs": [],
   "source": [
    "x = 0\n",
    "def outer():\n",
    "    x = 1\n",
    "    def inner():\n",
    "        nonlocal x\n",
    "        x = 2\n",
    "        print(\"inner:\", x)\n",
    "\n",
    "    inner()\n",
    "    print(\"outer:\", x)\n",
    "\n",
    "outer()\n",
    "print(\"main:\", x)"
   ]
  },
  {
   "cell_type": "markdown",
   "metadata": {},
   "source": [
    "## Using Global keyword"
   ]
  },
  {
   "cell_type": "code",
   "execution_count": null,
   "metadata": {},
   "outputs": [],
   "source": [
    "x = 0\n",
    "def outer():\n",
    "    x = 1\n",
    "    def inner():\n",
    "        global x\n",
    "        x = 2\n",
    "        print(\"inner:\", x)\n",
    "\n",
    "    inner()\n",
    "    print(\"outer:\", x)\n",
    "\n",
    "outer()\n",
    "print(\"main:\", x)"
   ]
  },
  {
   "cell_type": "code",
   "execution_count": null,
   "metadata": {},
   "outputs": [],
   "source": [
    "x = \"global\"\n",
    "\n",
    "def outer():\n",
    "    x = \"local\"\n",
    "    \n",
    "    def inner():\n",
    "        nonlocal x\n",
    "        x = \"nonlocal\"\n",
    "        print(\"inner:\", x)\n",
    "        \n",
    "    inner()\n",
    "    print(\"outer:\", x)\n",
    "    \n",
    "outer()\n",
    "print(\"main:\", x)"
   ]
  },
  {
   "cell_type": "markdown",
   "metadata": {},
   "source": [
    "## Examples\n"
   ]
  },
  {
   "cell_type": "code",
   "execution_count": null,
   "metadata": {},
   "outputs": [],
   "source": [
    "def outside():\n",
    "    x = \"local\"\n",
    "    \n",
    "    def inside():\n",
    "        nonlocal x\n",
    "        x = \"nonlocal\"\n",
    "        print(x)\n",
    "        \n",
    "    inside()\n",
    "    print(x)\n",
    "    \n",
    "outside()"
   ]
  },
  {
   "cell_type": "code",
   "execution_count": null,
   "metadata": {},
   "outputs": [],
   "source": [
    "def outer():\n",
    "    x = \"local\"    \n",
    "    def inner():\n",
    "        nonlocal x\n",
    "        x = \"nonlocal\"\n",
    "        print(\"inner:\", x)\n",
    "    inner()\n",
    "    print(\"outer:\", x)\n",
    "    \n",
    "outer()\n"
   ]
  },
  {
   "cell_type": "code",
   "execution_count": null,
   "metadata": {},
   "outputs": [],
   "source": [
    "def outer():\n",
    "    x = \"local\"    \n",
    "    def inner():\n",
    "        nonlocal x\n",
    "        x = \"nonlocal\"\n",
    "        print(\"inner:\", x)\n",
    "    inner()\n",
    "    print(\"outer:\", x)\n",
    "    \n",
    "outer()\n"
   ]
  },
  {
   "cell_type": "code",
   "execution_count": 5,
   "metadata": {},
   "outputs": [
    {
     "name": "stdout",
     "output_type": "stream",
     "text": [
      "inner: 2\n",
      "outer: 2\n"
     ]
    }
   ],
   "source": [
    "def outer():\n",
    "    x = 1    \n",
    "    def inner():\n",
    "        nonlocal x\n",
    "        x = x + 1\n",
    "        print(\"inner:\", x)\n",
    "    inner()\n",
    "    print(\"outer:\", x)\n",
    "    \n",
    "outer()\n"
   ]
  },
  {
   "cell_type": "markdown",
   "metadata": {},
   "source": [
    "If we change value of nonlocal variable, it also changes the value of local variable.\n"
   ]
  },
  {
   "cell_type": "code",
   "execution_count": null,
   "metadata": {},
   "outputs": [],
   "source": [
    "def outer():\n",
    "    x = 1    \n",
    "    def inner():\n",
    "        nonlocal x\n",
    "        x = x + 1\n",
    "        print(\"inner:\", x)  \n",
    "    inner()\n",
    "    print(\"outer:\", x)\n",
    "    \n",
    "outer()\n"
   ]
  },
  {
   "cell_type": "code",
   "execution_count": 3,
   "metadata": {},
   "outputs": [
    {
     "name": "stdout",
     "output_type": "stream",
     "text": [
      "inner: 10\n",
      "outer: 10\n"
     ]
    }
   ],
   "source": [
    "def outer():\n",
    "    x = 5   \n",
    "    def inner():\n",
    "        nonlocal x\n",
    "        x = 10\n",
    "        print(\"inner:\", x)  \n",
    "    inner()\n",
    "    print(\"outer:\", x)\n",
    "    \n",
    "outer()"
   ]
  },
  {
   "cell_type": "code",
   "execution_count": 4,
   "metadata": {},
   "outputs": [
    {
     "name": "stdout",
     "output_type": "stream",
     "text": [
      "x is 2\n",
      "Changed local x to 2\n"
     ]
    }
   ],
   "source": [
    "\n",
    "def func_outer():\n",
    "    x = 2\n",
    "    print('x is', x)\n",
    "\n",
    "    def func_inner():\n",
    "        global x\n",
    "        x = 5\n",
    "        \n",
    "    func_inner()\n",
    "    print('Changed local x to', x)\n",
    "\n",
    "func_outer()"
   ]
  },
  {
   "cell_type": "code",
   "execution_count": null,
   "metadata": {},
   "outputs": [],
   "source": [
    "def outer():\n",
    "    x = 1\n",
    "    print(\"outer:\", x)\n",
    "    def inner():\n",
    "        nonlocal x\n",
    "        x = 10\n",
    "        print(\"inner:\", x)  \n",
    "    inner()\n",
    "    print(\"outer:\", x)\n",
    "    \n",
    "outer()\n"
   ]
  },
  {
   "cell_type": "code",
   "execution_count": 18,
   "metadata": {},
   "outputs": [
    {
     "name": "stdout",
     "output_type": "stream",
     "text": [
      "global global \n",
      "local\n"
     ]
    }
   ],
   "source": [
    "x = \"global \"\n",
    "\n",
    "def function():\n",
    "    global x\n",
    "    y = \"local\"\n",
    "    x = x * 2\n",
    "    print(x)\n",
    "    print(y)\n",
    "\n",
    "function()\n"
   ]
  },
  {
   "cell_type": "code",
   "execution_count": 20,
   "metadata": {},
   "outputs": [
    {
     "name": "stdout",
     "output_type": "stream",
     "text": [
      "inner: nonlocal\n",
      "outer: nonlocal\n"
     ]
    }
   ],
   "source": [
    "def outer():\n",
    "    x = \"local\"   \n",
    "    def inner():\n",
    "        nonlocal x\n",
    "        x = \"nonlocal\"\n",
    "        print(\"inner:\", x)  \n",
    "    inner()\n",
    "    print(\"outer:\", x)\n",
    "    \n",
    "outer()\n"
   ]
  },
  {
   "cell_type": "code",
   "execution_count": 26,
   "metadata": {},
   "outputs": [
    {
     "name": "stdout",
     "output_type": "stream",
     "text": [
      "Before calling bar():  20\n",
      "Calling bar() now\n",
      "After calling bar():  20\n",
      "x in main :  25\n"
     ]
    }
   ],
   "source": [
    "def foo():\n",
    "    x = 20\n",
    "    \n",
    "    def bar():\n",
    "        global x\n",
    "        x = 25\n",
    "        \n",
    "    print(\"Before calling bar(): \", x)\n",
    "    print(\"Calling bar() now\")\n",
    "    bar()\n",
    "    print(\"After calling bar(): \", x)\n",
    "    \n",
    "foo()\n",
    "print(\"x in main : \", x)\n"
   ]
  },
  {
   "cell_type": "markdown",
   "metadata": {},
   "source": [
    "In the above program , we declare global variable inside a nested function i.e bar(). Inside foo() function, x has no effect of global keyword. Before and after calling bar() the variable x takes the value of local variable i.e x = 20. Outside of the foo() function, the variable x will take value defined in the bar() function i.e x = 25. This is because, we have used global keyword in x to create global variable inside the bar() function (local scope). If we make any changes inside the bar() function, the changes appears outside the local scope (foo() function).\n"
   ]
  },
  {
   "cell_type": "code",
   "execution_count": null,
   "metadata": {
    "collapsed": true
   },
   "outputs": [],
   "source": []
  }
 ],
 "metadata": {
  "kernelspec": {
   "display_name": "Python 3",
   "language": "python",
   "name": "python3"
  },
  "language_info": {
   "codemirror_mode": {
    "name": "ipython",
    "version": 3
   },
   "file_extension": ".py",
   "mimetype": "text/x-python",
   "name": "python",
   "nbconvert_exporter": "python",
   "pygments_lexer": "ipython3",
   "version": "3.6.2"
  }
 },
 "nbformat": 4,
 "nbformat_minor": 2
}
