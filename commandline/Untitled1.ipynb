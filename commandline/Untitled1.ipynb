{
 "cells": [
  {
   "cell_type": "code",
   "execution_count": 3,
   "metadata": {},
   "outputs": [
    {
     "name": "stdout",
     "output_type": "stream",
     "text": [
      "long = 1\n",
      "directory = directory\n",
      "arguments = ['filename']\n"
     ]
    }
   ],
   "source": [
    "import getopt\n",
    "import sys\n",
    "\n",
    "# simulate command line invocation\n",
    "sys.argv = [\"myscript.py\", \"-l\", \"-d\", \"directory\", \"filename\"]\n",
    "\n",
    "# process options\n",
    "opts, args = getopt.getopt(sys.argv[1:], \"ld:\")\n",
    "\n",
    "long = 0\n",
    "directory = None\n",
    "\n",
    "for o, v in opts:\n",
    "    if o == \"-l\":\n",
    "        long = 1\n",
    "    elif o == \"-d\":\n",
    "        directory = v\n",
    "\n",
    "print(\"long\", \"=\", long)\n",
    "print(\"directory\", \"=\", directory)\n",
    "print(\"arguments\", \"=\", args)"
   ]
  },
  {
   "cell_type": "code",
   "execution_count": null,
   "metadata": {
    "collapsed": true
   },
   "outputs": [],
   "source": []
  }
 ],
 "metadata": {
  "kernelspec": {
   "display_name": "Python 3",
   "language": "python",
   "name": "python3"
  },
  "language_info": {
   "codemirror_mode": {
    "name": "ipython",
    "version": 3
   },
   "file_extension": ".py",
   "mimetype": "text/x-python",
   "name": "python",
   "nbconvert_exporter": "python",
   "pygments_lexer": "ipython3",
   "version": "3.6.4"
  }
 },
 "nbformat": 4,
 "nbformat_minor": 2
}
