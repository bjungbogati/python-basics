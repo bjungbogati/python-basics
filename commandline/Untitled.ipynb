{
 "cells": [
  {
   "cell_type": "code",
   "execution_count": null,
   "metadata": {},
   "outputs": [],
   "source": [
    "import test"
   ]
  },
  {
   "cell_type": "code",
   "execution_count": null,
   "metadata": {},
   "outputs": [],
   "source": [
    "import sys\n",
    "\n",
    "print(\"the script has the name %s\" % sys.argv[0])"
   ]
  },
  {
   "cell_type": "code",
   "execution_count": null,
   "metadata": {},
   "outputs": [],
   "source": [
    "import sys\n",
    "\n",
    "count = len(sys.argv)\n",
    "arglist = str(sys.argv)\n",
    "\n",
    "print ('Number of arguments:', count, 'arguments.')\n",
    "print ('Argument List:', arglist)"
   ]
  },
  {
   "cell_type": "code",
   "execution_count": null,
   "metadata": {},
   "outputs": [],
   "source": [
    "import sys\n",
    "\n",
    "print(\"Name of python script is\", sys.argv[0])\n"
   ]
  },
  {
   "cell_type": "code",
   "execution_count": 1,
   "metadata": {},
   "outputs": [
    {
     "name": "stdout",
     "output_type": "stream",
     "text": [
      "['-f', '/run/user/1000/jupyter/kernel-f447a085-7c76-447a-a6dc-3bad47183985.json']\n"
     ]
    }
   ],
   "source": [
    "import getopt, sys\n",
    "\n",
    "# read commandline arguments, first\n",
    "fullCmdArguments = sys.argv\n",
    "\n",
    "# - further arguments\n",
    "argumentList = fullCmdArguments[1:]\n",
    "\n",
    "print(argumentList)"
   ]
  },
  {
   "cell_type": "code",
   "execution_count": null,
   "metadata": {
    "collapsed": true
   },
   "outputs": [],
   "source": []
  }
 ],
 "metadata": {
  "kernelspec": {
   "display_name": "Python 3",
   "language": "python",
   "name": "python3"
  },
  "language_info": {
   "codemirror_mode": {
    "name": "ipython",
    "version": 3
   },
   "file_extension": ".py",
   "mimetype": "text/x-python",
   "name": "python",
   "nbconvert_exporter": "python",
   "pygments_lexer": "ipython3",
   "version": "3.6.2"
  }
 },
 "nbformat": 4,
 "nbformat_minor": 2
}
