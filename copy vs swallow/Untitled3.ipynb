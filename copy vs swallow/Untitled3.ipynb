{
 "cells": [
  {
   "cell_type": "code",
   "execution_count": null,
   "metadata": {
    "collapsed": true
   },
   "outputs": [],
   "source": [
    "import copy\n",
    "\n",
    "lista = [[1, 1], [3, 4, [5, 6]]]\n",
    "\n",
    "listb = copy.deepcopy(lista)\n",
    "\n",
    "listb[0][1] = 2\n",
    "print(lista) \n",
    "print(listb) \n"
   ]
  },
  {
   "cell_type": "code",
   "execution_count": null,
   "metadata": {
    "collapsed": true
   },
   "outputs": [],
   "source": [
    "import copy\n",
    "\n",
    "a = [1,2,3]\n",
    "\n",
    "b = copy.copy(a)\n",
    "\n",
    "b[2] = 4\n",
    "\n",
    "print(a)\n",
    "print(b)\n"
   ]
  },
  {
   "cell_type": "code",
   "execution_count": null,
   "metadata": {
    "collapsed": true
   },
   "outputs": [],
   "source": [
    "import copy\n",
    "\n",
    "a = [[1, 2, 3], [4, 5, 6]]\n",
    "b = copy.deepcopy(a)\n",
    "\n",
    "a[0][1] = 9\n",
    "\n",
    "print(a)\n",
    "print(b)"
   ]
  },
  {
   "cell_type": "code",
   "execution_count": null,
   "metadata": {
    "collapsed": true
   },
   "outputs": [],
   "source": [
    "import copy\n",
    "\n",
    "a = {1: {2:3}}\n",
    "b = copy.copy(a)\n",
    "\n",
    "b[1][2] = 4\n",
    "\n",
    "print(a)\n",
    "print(b)"
   ]
  },
  {
   "cell_type": "code",
   "execution_count": 15,
   "metadata": {},
   "outputs": [
    {
     "name": "stdout",
     "output_type": "stream",
     "text": [
      "list_3 before: [[1, 2, 3], ['one', 'two', 'three']]\n",
      "list_3 after: [[1, 2, 3, 999], ['one', 'two', 'three']]\n",
      "new_list: [[1, 2, 3, 999], ['one', 'two', 'three']]\n"
     ]
    }
   ],
   "source": [
    "import copy\n",
    "\n",
    "list_1 = [1, 2, 3] \n",
    "list_2 = [\"one\", \"two\", \"three\"]\n",
    "list_3 = [list_1, list_2]\n",
    "\n",
    "print(\"list_3 before:\", list_3)\n",
    " \n",
    "new_list = copy.copy(list_3)\n",
    " \n",
    "list_1.append(999)\n",
    " \n",
    "print(\"list_3 after:\", list_3)\n",
    " \n",
    "print(\"new_list:\",  new_list)"
   ]
  },
  {
   "cell_type": "code",
   "execution_count": null,
   "metadata": {
    "collapsed": true
   },
   "outputs": [],
   "source": [
    "import copy\n",
    "\n",
    "list_a = [[\"a\", \"b\", \"c\"] , [\"apple\", \"ball\", \"cat\"]]\n",
    "\n",
    "list_b = copy.deepcopy(list_a)\n",
    "print(list_b)\n",
    "\n",
    "list_a.append(123)\n",
    "print(list_a)\n",
    " \n",
    "print(list_b) "
   ]
  },
  {
   "cell_type": "code",
   "execution_count": 72,
   "metadata": {},
   "outputs": [
    {
     "name": "stdout",
     "output_type": "stream",
     "text": [
      "{'one': [1, 2, 3]} {'one': [1, 2, 3]}\n",
      "{'one': [1, 2, 3, 'four']} {'one': [1, 2, 3, 'four']}\n"
     ]
    }
   ],
   "source": [
    "import copy\n",
    "\n",
    "x = {\"one\": [1,2,3]}\n",
    "y = copy.copy(x)\n",
    "print(x, y)\n",
    "\n",
    "x[\"one\"].append(\"four\")\n",
    "print(x, y)\n",
    "\n"
   ]
  },
  {
   "cell_type": "code",
   "execution_count": 61,
   "metadata": {},
   "outputs": [
    {
     "name": "stdout",
     "output_type": "stream",
     "text": [
      "True {'one': [1, 2, 3]} {'one': [1, 2, 3]}\n",
      "False {'one': [1, 2, 3, 'four']} {'one': [1, 2, 3]}\n"
     ]
    }
   ],
   "source": [
    "import copy\n",
    "\n",
    "x = {\"num\": [1,2,3]}\n",
    "y = copy.deepcopy(x)\n",
    "print(x == y, x, y)\n",
    "\n",
    "x[\"one\"].append(\"four\")\n",
    "print(x == y, x, y)"
   ]
  },
  {
   "cell_type": "code",
   "execution_count": 74,
   "metadata": {},
   "outputs": [
    {
     "name": "stdout",
     "output_type": "stream",
     "text": [
      "[[1, 1], [2, 2], [3, 3]]\n",
      "[[1, 1], [2, 2], [4, 4]]\n"
     ]
    }
   ],
   "source": [
    "from copy import deepcopy\n",
    "\n",
    "list_old = [[1,1],[2,2],[3,3]]\n",
    "list_new = copy.deepcopy(list_old)\n",
    "\n",
    "\n",
    "list_new[2] = [4,4]\n",
    "\n",
    "print(list_old)\n",
    "print(list_new)\n",
    "\n",
    "\n",
    "\n",
    "\n"
   ]
  },
  {
   "cell_type": "code",
   "execution_count": 89,
   "metadata": {},
   "outputs": [
    {
     "name": "stdout",
     "output_type": "stream",
     "text": [
      "[[1, 1], [2, 'a'], [3, 3]]\n",
      "[[1, 1], [2, 2], [3, 3]]\n"
     ]
    }
   ],
   "source": [
    "import copy\n",
    "\n",
    "list_old = [[1,1],[2,'a'],[3,3]]\n",
    "list_new = copy.deepcopy(list_old)\n",
    "\n",
    "list_new[1][1] = 2\n",
    "\n",
    "print(list_old)\n",
    "print(list_new)\n"
   ]
  },
  {
   "cell_type": "code",
   "execution_count": 90,
   "metadata": {},
   "outputs": [
    {
     "name": "stdout",
     "output_type": "stream",
     "text": [
      "[[1, 1], [2, 2], [3, 3]]\n",
      "[[1, 1], [2, 2], [3, 3]]\n"
     ]
    }
   ],
   "source": [
    "import copy\n",
    "\n",
    "list_old = [[1,1],[2,'a'], [3,3]]\n",
    "list_new = copy.copy(list_old)\n",
    "\n",
    "list_new[1][1] = 2\n",
    "\n",
    "print(list_old)\n",
    "print(list_new)\n"
   ]
  },
  {
   "cell_type": "code",
   "execution_count": 92,
   "metadata": {},
   "outputs": [
    {
     "name": "stdout",
     "output_type": "stream",
     "text": [
      "[[1, 1], [2, 'a'], [3, 3]]\n",
      "[[1, 1], [2, 'a'], 2]\n"
     ]
    }
   ],
   "source": [
    "import copy\n",
    "\n",
    "list_old = [[1,1],[2,'a'], [3,3]]\n",
    "list_new = copy.copy(list_old)\n",
    "\n",
    "list_new[2] = 2\n",
    "\n",
    "print(list_old)\n",
    "print(list_new)\n"
   ]
  },
  {
   "cell_type": "code",
   "execution_count": 11,
   "metadata": {},
   "outputs": [
    {
     "name": "stdout",
     "output_type": "stream",
     "text": [
      "{'num': [1, 2, 3, 'four']}\n",
      "{'num': [1, 2, 3, 'four']}\n"
     ]
    }
   ],
   "source": [
    "import copy\n",
    "\n",
    "old_dict = {\"num\": [1,2,3]}\n",
    "new_dict = copy.copy(old_dict)\n",
    "\n",
    "new_dict[\"num\"].append(\"four\")\n",
    "print(old_dict)\n",
    "print(new_dict)\n"
   ]
  },
  {
   "cell_type": "code",
   "execution_count": 10,
   "metadata": {},
   "outputs": [
    {
     "name": "stdout",
     "output_type": "stream",
     "text": [
      "{'num': [1, 2, 3]}\n",
      "{'num': [1, 2, 3, 'four']}\n"
     ]
    }
   ],
   "source": [
    "import copy\n",
    "\n",
    "old_dict = {\"num\": [1,2,3]}\n",
    "new_dict = copy.deepcopy(old_dict)\n",
    "\n",
    "new_dict[\"num\"].append(\"four\")\n",
    "print(old_dict)\n",
    "print(new_dict)\n"
   ]
  },
  {
   "cell_type": "code",
   "execution_count": 15,
   "metadata": {},
   "outputs": [
    {
     "name": "stdout",
     "output_type": "stream",
     "text": [
      "writing completed\n"
     ]
    }
   ],
   "source": [
    "import csv\n",
    "\n",
    "csv.register_dialect('myDialect', delimiter = '|', quoting=csv.QUOTE_ALL)\n",
    "\n",
    "with open('grade.csv', 'w') as csvfile:\n",
    "    fieldnames = ['Name', 'Grade']\n",
    "    writer = csv.DictWriter(csvfile, fieldnames=fieldnames, dialect=\"myDialect\")\n",
    " \n",
    "    writer.writeheader()\n",
    "    writer.writerows([{'Grade': 'B', 'Name': 'Alex'},\n",
    "                      {'Grade': 'A', 'Name': 'Bin'},\n",
    "                      {'Grade': 'C', 'Name': 'Tom'}])\n",
    " \n",
    "print(\"writing completed\")\n"
   ]
  },
  {
   "cell_type": "code",
   "execution_count": null,
   "metadata": {
    "collapsed": true
   },
   "outputs": [],
   "source": []
  }
 ],
 "metadata": {
  "kernelspec": {
   "display_name": "Python 3",
   "language": "python",
   "name": "python3"
  },
  "language_info": {
   "codemirror_mode": {
    "name": "ipython",
    "version": 3
   },
   "file_extension": ".py",
   "mimetype": "text/x-python",
   "name": "python",
   "nbconvert_exporter": "python",
   "pygments_lexer": "ipython3",
   "version": "3.6.2"
  }
 },
 "nbformat": 4,
 "nbformat_minor": 2
}
