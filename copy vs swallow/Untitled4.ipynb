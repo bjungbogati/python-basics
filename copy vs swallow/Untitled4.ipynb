{
 "cells": [
  {
   "cell_type": "code",
   "execution_count": 1,
   "metadata": {},
   "outputs": [
    {
     "name": "stdout",
     "output_type": "stream",
     "text": [
      "Old list: [[1, 2, 3], [4, 5, 6], [7, 8, 9]]\n",
      "New list: [[1, 2, 3], [4, 5, 6], [7, 8, 9]]\n"
     ]
    }
   ],
   "source": [
    "import copy\n",
    "\n",
    "old = [[1, 2, 3], [4, 5, 6], [7, 8, 9]]\n",
    "new = copy.copy(old)\n",
    "\n",
    "print(\"Old list:\", old)\n",
    "print(\"New list:\", new)\n"
   ]
  },
  {
   "cell_type": "code",
   "execution_count": 2,
   "metadata": {},
   "outputs": [
    {
     "name": "stdout",
     "output_type": "stream",
     "text": [
      "Old list: [[1, 1, 1], [2, 2, 2], [3, 3, 3], ['sublist']]\n",
      "New list: [[1, 1, 1], [2, 2, 2], [3, 3, 3]]\n"
     ]
    }
   ],
   "source": [
    "old = [[1, 1, 1], [2, 2, 2], [3, 3, 3]]\n",
    "new = copy.copy(old) \n",
    "\n",
    "old.append(['sublist'])\n",
    "\n",
    "print(\"Old list:\", old)\n",
    "print(\"New list:\", new)\n"
   ]
  },
  {
   "cell_type": "code",
   "execution_count": 3,
   "metadata": {},
   "outputs": [
    {
     "name": "stdout",
     "output_type": "stream",
     "text": [
      "Old list: [[1, 1, 1], [2, 'AA', 2], [3, 3, 3]]\n",
      "New list: [[1, 1, 1], [2, 'AA', 2], [3, 3, 3]]\n"
     ]
    }
   ],
   "source": [
    "import copy\n",
    "\n",
    "old = [[1, 1, 1], [2, 2, 2], [3, 3, 3]]\n",
    "new = copy.copy(old) \n",
    "\n",
    "old[1][1] = 'AA'\n",
    "\n",
    "print(\"Old list:\", old)\n",
    "print(\"New list:\", new)\n"
   ]
  },
  {
   "cell_type": "code",
   "execution_count": 4,
   "metadata": {},
   "outputs": [
    {
     "name": "stdout",
     "output_type": "stream",
     "text": [
      "Old list: [[1, 1, 1], [2, 2, 2], [3, 3, 3]]\n",
      "New list: [[1, 1, 1], [2, 2, 2], [3, 3, 3]]\n"
     ]
    }
   ],
   "source": [
    "import copy\n",
    "old = [[1, 1, 1], [2, 2, 2], [3, 3, 3]]\n",
    "new = copy.deepcopy(old)\n",
    "\n",
    "print(\"Old list:\", old)\n",
    "print(\"New list:\", new)\n"
   ]
  },
  {
   "cell_type": "code",
   "execution_count": 6,
   "metadata": {},
   "outputs": [
    {
     "name": "stdout",
     "output_type": "stream",
     "text": [
      "Old list: [[1, 1, 1], ['BB', 2, 2], [3, 3, 3]]\n",
      "New list: [[1, 1, 1], [2, 2, 2], [3, 3, 3]]\n"
     ]
    }
   ],
   "source": [
    "import copy\n",
    "old = [[1, 1, 1], [2, 2, 2], [3, 3, 3]]\n",
    "new = copy.deepcopy(old)\n",
    "\n",
    "old[1][0] = 'BB'\n",
    "\n",
    "print(\"Old list:\", old)\n",
    "print(\"New list:\", new)\n"
   ]
  },
  {
   "cell_type": "code",
   "execution_count": null,
   "metadata": {
    "collapsed": true
   },
   "outputs": [],
   "source": []
  }
 ],
 "metadata": {
  "kernelspec": {
   "display_name": "Python 3",
   "language": "python",
   "name": "python3"
  },
  "language_info": {
   "codemirror_mode": {
    "name": "ipython",
    "version": 3
   },
   "file_extension": ".py",
   "mimetype": "text/x-python",
   "name": "python",
   "nbconvert_exporter": "python",
   "pygments_lexer": "ipython3",
   "version": "3.6.2"
  }
 },
 "nbformat": 4,
 "nbformat_minor": 2
}
