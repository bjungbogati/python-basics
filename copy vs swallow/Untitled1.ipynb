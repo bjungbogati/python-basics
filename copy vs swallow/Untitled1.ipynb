{
 "cells": [
  {
   "cell_type": "code",
   "execution_count": 4,
   "metadata": {},
   "outputs": [
    {
     "name": "stdout",
     "output_type": "stream",
     "text": [
      "['a', 'b', 'c', 'd']\n",
      "['a', 'b', 'c', 'd']\n"
     ]
    }
   ],
   "source": [
    "old_list = ['a', 'b', 'c', 'd']\n",
    "new_list = old_list\n",
    "\n",
    "print(new_list)\n",
    "print(old_list)\n"
   ]
  },
  {
   "cell_type": "code",
   "execution_count": 27,
   "metadata": {},
   "outputs": [
    {
     "name": "stdout",
     "output_type": "stream",
     "text": [
      "numbers:  [1, 2, 3, 4]\n",
      "new_numbers:  [1, 2, 3, 4]\n"
     ]
    }
   ],
   "source": [
    "numbers = [1, 2, 3, 'a']\n",
    "new_numbers = numbers\n",
    "\n",
    "new_numbers[3] = 4\n",
    "\n",
    "print('numbers: ', numbers)\n",
    "print('new_numbers: ', new_numbers)"
   ]
  },
  {
   "cell_type": "code",
   "execution_count": 28,
   "metadata": {},
   "outputs": [
    {
     "name": "stdout",
     "output_type": "stream",
     "text": [
      "list:  [1, 2, 3, 4]\n",
      "new_list:  [1, 2, 3, 4]\n"
     ]
    }
   ],
   "source": [
    "list = [1, 2, 3, 'a']\n",
    "new_list = list\n",
    "\n",
    "new_list[3] = 4\n",
    "\n",
    "print('list: ', list)\n",
    "print('new_list: ', new_list)"
   ]
  },
  {
   "cell_type": "code",
   "execution_count": 37,
   "metadata": {},
   "outputs": [
    {
     "name": "stdout",
     "output_type": "stream",
     "text": [
      "numbers:  [1, 2, 3, 4]\n",
      "new_numbers:  [1, 2, 3, 4, 'dog']\n"
     ]
    }
   ],
   "source": [
    "import copy\n",
    "\n",
    "numbers = [1, 2, 3, 4]\n",
    "new_list = copy.copy(numbers)\n",
    "\n",
    "new_list.append('dog')\n",
    "\n",
    "print('numbers: ', numbers)\n",
    "print('new_numbers: ', new_list)"
   ]
  },
  {
   "cell_type": "code",
   "execution_count": 39,
   "metadata": {},
   "outputs": [
    {
     "name": "stdout",
     "output_type": "stream",
     "text": [
      "numbers:  [1, 2, 3, 4]\n",
      "new_numbers:  [1, 2, 3, 4, 'dog']\n"
     ]
    }
   ],
   "source": [
    "import copy\n",
    "\n",
    "num = [1, 2, 3, 4]\n",
    "new = copy.copy(num)\n",
    "\n",
    "new.append('dog')\n",
    "\n",
    "print('numbers: ', num)\n",
    "print('new_numbers: ', new)"
   ]
  },
  {
   "cell_type": "code",
   "execution_count": null,
   "metadata": {
    "collapsed": true
   },
   "outputs": [],
   "source": []
  }
 ],
 "metadata": {
  "kernelspec": {
   "display_name": "Python 3",
   "language": "python",
   "name": "python3"
  },
  "language_info": {
   "codemirror_mode": {
    "name": "ipython",
    "version": 3
   },
   "file_extension": ".py",
   "mimetype": "text/x-python",
   "name": "python",
   "nbconvert_exporter": "python",
   "pygments_lexer": "ipython3",
   "version": "3.6.2"
  }
 },
 "nbformat": 4,
 "nbformat_minor": 2
}
