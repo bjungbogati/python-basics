{
 "cells": [
  {
   "cell_type": "code",
   "execution_count": 92,
   "metadata": {
    "collapsed": true
   },
   "outputs": [],
   "source": [
    "nested_dict = { 'dictA': {'key_1': 'value_1', 'key_2': 'value_2'}\n",
    "              }"
   ]
  },
  {
   "cell_type": "markdown",
   "metadata": {
    "collapsed": true
   },
   "source": [
    "A nested dictionary is a dictionary inside a dictionary.\n",
    "\n"
   ]
  },
  {
   "cell_type": "code",
   "execution_count": 17,
   "metadata": {},
   "outputs": [
    {
     "name": "stdout",
     "output_type": "stream",
     "text": [
      "\n",
      "About John\n",
      "Age:  27\n",
      "Gender:  Male\n",
      "Marital Status:  True\n",
      "\n",
      "About Marie\n",
      "Age:  25\n",
      "Gender:  Female\n",
      "Marital Status:  False\n",
      "\n",
      "About Peter\n",
      "Age:  35\n",
      "Gender:  Male\n",
      "Marital Status:  True\n"
     ]
    }
   ],
   "source": [
    "person = {'John': {'Age': '27', 'Gender': 'Male', 'Married': True},\n",
    "        'Marie': {'Age': '25', 'Gender': 'Female', 'Married': False},\n",
    "        'Peter': {'Age': '35', 'Gender': 'Male', 'Married': True}\n",
    "        }\n",
    "\n",
    "for p_name, p_info in person.items():\n",
    "    print(\"\\nAbout\", p_name.title())\n",
    "    print(\"Age: \", p_info['Age'])\n",
    "    print(\"Gender: \", p_info['Gender'])\n",
    "    print(\"Marital Status: \", str(p_info['Married']))"
   ]
  },
  {
   "cell_type": "code",
   "execution_count": 37,
   "metadata": {},
   "outputs": [
    {
     "name": "stdout",
     "output_type": "stream",
     "text": [
      "\n",
      "Name: John\n",
      "Age: 27\n",
      "Gender: Male\n",
      "Married: Yes\n",
      "\n",
      "Name: Marie\n",
      "Age: 22\n",
      "Gender: Female\n",
      "Married: No\n",
      "\n",
      "Name: Peter\n",
      "Age: 35\n",
      "Gender: Male\n",
      "Married: Yes\n"
     ]
    }
   ],
   "source": [
    "person = {'John': {'Age': '27', 'Gender': 'Male', 'Married': 'Yes'},\n",
    "        'Marie': {'Age': '22', 'Gender': 'Female', 'Married': 'No'},\n",
    "        'Peter': {'Age': '35', 'Gender': 'Male', 'Married': 'Yes'}\n",
    "        }\n",
    "\n",
    "for p_name, p_info in person.items():\n",
    "    print(\"\\nName:\", p_name)\n",
    "    for key in p_info:\n",
    "        print(key + ':', p_info[key])"
   ]
  },
  {
   "cell_type": "code",
   "execution_count": 1,
   "metadata": {},
   "outputs": [
    {
     "name": "stdout",
     "output_type": "stream",
     "text": [
      "<class 'dict'>\n"
     ]
    }
   ],
   "source": [
    "people = {1: {'name': 'John', 'age': '27', 'sex': 'Male'},\n",
    "          2: {'name': 'Marie', 'age': '22', 'sex': 'Female'}\n",
    "         }\n",
    "\n",
    "print(type(people))"
   ]
  },
  {
   "cell_type": "code",
   "execution_count": 2,
   "metadata": {},
   "outputs": [
    {
     "name": "stdout",
     "output_type": "stream",
     "text": [
      "John\n",
      "27\n",
      "Male\n"
     ]
    }
   ],
   "source": [
    "print(people[1]['name'])\n",
    "print(people[1]['age'])\n",
    "print(people[1]['sex'])"
   ]
  },
  {
   "cell_type": "code",
   "execution_count": 3,
   "metadata": {},
   "outputs": [
    {
     "ename": "KeyError",
     "evalue": "'Name'",
     "output_type": "error",
     "traceback": [
      "\u001b[0;31m---------------------------------------------------------------------------\u001b[0m",
      "\u001b[0;31mKeyError\u001b[0m                                  Traceback (most recent call last)",
      "\u001b[0;32m<ipython-input-3-28bf721fbbed>\u001b[0m in \u001b[0;36m<module>\u001b[0;34m()\u001b[0m\n\u001b[1;32m      1\u001b[0m \u001b[0;34m\u001b[0m\u001b[0m\n\u001b[0;32m----> 2\u001b[0;31m \u001b[0mprint\u001b[0m\u001b[0;34m(\u001b[0m\u001b[0mpeople\u001b[0m\u001b[0;34m[\u001b[0m\u001b[0;36m2\u001b[0m\u001b[0;34m]\u001b[0m\u001b[0;34m[\u001b[0m\u001b[0;34m'Name'\u001b[0m\u001b[0;34m]\u001b[0m\u001b[0;34m,\u001b[0m \u001b[0mpeople\u001b[0m\u001b[0;34m[\u001b[0m\u001b[0;36m2\u001b[0m\u001b[0;34m]\u001b[0m\u001b[0;34m[\u001b[0m\u001b[0;34m'Age'\u001b[0m\u001b[0;34m]\u001b[0m\u001b[0;34m,\u001b[0m \u001b[0mpeople\u001b[0m\u001b[0;34m[\u001b[0m\u001b[0;36m2\u001b[0m\u001b[0;34m]\u001b[0m\u001b[0;34m[\u001b[0m\u001b[0;34m'Sex'\u001b[0m\u001b[0;34m]\u001b[0m\u001b[0;34m)\u001b[0m\u001b[0;34m\u001b[0m\u001b[0m\n\u001b[0m",
      "\u001b[0;31mKeyError\u001b[0m: 'Name'"
     ]
    }
   ],
   "source": [
    "\n",
    "print(people[2]['ame'], people[2]['Age'], people[2]['Sex'])"
   ]
  },
  {
   "cell_type": "code",
   "execution_count": null,
   "metadata": {
    "collapsed": true
   },
   "outputs": [],
   "source": []
  },
  {
   "cell_type": "code",
   "execution_count": 9,
   "metadata": {},
   "outputs": [
    {
     "name": "stdout",
     "output_type": "stream",
     "text": [
      "{'name': 'Luna', 'age': '24', 'sex': 'Female', 'married': 'No'}\n"
     ]
    }
   ],
   "source": [
    "people[3] = {}\n",
    "\n",
    "people[3]['name'] = 'Luna'\n",
    "people[3]['age'] = '24'\n",
    "people[3]['sex'] = 'Female'\n",
    "people[3]['married'] = 'No'\n",
    "\n",
    "\n",
    "print(people[3])\n",
    "\n"
   ]
  },
  {
   "cell_type": "code",
   "execution_count": 10,
   "metadata": {},
   "outputs": [
    {
     "name": "stdout",
     "output_type": "stream",
     "text": [
      "{'name': 'Peter', 'age': '29', 'sex': 'Male', 'married': 'Yes'}\n"
     ]
    }
   ],
   "source": [
    "people = {1: {'name': 'John', 'age': '27', 'sex': 'Male'}, \n",
    "          2: {'name': 'Marie', 'age': '22', 'sex': 'Female'}, \n",
    "          3: {'name': 'Luna', 'age': '24', 'sex': 'Female', 'married': 'No'}\n",
    "         }\n",
    "\n",
    "people[4] = {'name': 'Peter', 'age': '29', 'sex': 'Male', 'married': 'Yes'}\n",
    "\n",
    "print(people[4])\n"
   ]
  },
  {
   "cell_type": "code",
   "execution_count": 11,
   "metadata": {},
   "outputs": [
    {
     "name": "stdout",
     "output_type": "stream",
     "text": [
      "{1: {'name': 'John', 'age': '27', 'sex': 'Male'}, 2: {'name': 'Marie', 'age': '22', 'sex': 'Female'}, 3: {'name': 'Luna', 'age': '24', 'sex': 'Female', 'married': 'No'}, 4: {'name': 'Peter', 'age': '29', 'sex': 'Male', 'married': 'Yes'}}\n"
     ]
    }
   ],
   "source": [
    "print(people)"
   ]
  },
  {
   "cell_type": "code",
   "execution_count": 56,
   "metadata": {
    "collapsed": true
   },
   "outputs": [],
   "source": [
    "people = {1: {'name': 'John', 'age': '27', 'sex': 'Male'}, \n",
    "          2: {'name': 'Marie', 'age': '22', 'sex': 'Female'}, \n",
    "          3: {'name': 'Luna', 'age': '24', 'sex': 'Female', 'married': 'No'}, \n",
    "          4: {'name': 'Peter', 'age': '29', 'sex': 'Male', 'married': 'Yes'}\n",
    "         }"
   ]
  },
  {
   "cell_type": "code",
   "execution_count": 57,
   "metadata": {},
   "outputs": [
    {
     "name": "stdout",
     "output_type": "stream",
     "text": [
      "{1: {'Name': 'John', 'Age': '27', 'Sex': 'Male'}, 2: {'Name': 'Marie', 'Age': '22', 'Sex': 'Female'}}\n"
     ]
    }
   ],
   "source": []
  },
  {
   "cell_type": "code",
   "execution_count": 12,
   "metadata": {},
   "outputs": [
    {
     "name": "stdout",
     "output_type": "stream",
     "text": [
      "{'name': 'Luna', 'age': '24', 'sex': 'Female'}\n",
      "{'name': 'Peter', 'age': '29', 'sex': 'Male'}\n"
     ]
    }
   ],
   "source": [
    "del people[3]['married']\n",
    "\n",
    "del people[4]['married']\n",
    "\n",
    "\n",
    "print(people[3])\n",
    "print(people[4])\n",
    "\n",
    "\n"
   ]
  },
  {
   "cell_type": "code",
   "execution_count": 7,
   "metadata": {
    "collapsed": true
   },
   "outputs": [],
   "source": [
    "people = {1: {'name': 'John', 'age': '27', 'sex': 'Male'}, \n",
    "          2: {'name': 'Marie', 'age': '22', 'sex': 'Female'}, \n",
    "          3: {'name': 'Luna', 'age': '24', 'sex': 'Female'}, \n",
    "          4: {'name': 'Peter', 'age': '29', 'sex': 'Male'}\n",
    "         }\n",
    "\n",
    "\n",
    "del people[3], people[4]\n",
    "\n",
    "\n"
   ]
  },
  {
   "cell_type": "code",
   "execution_count": 8,
   "metadata": {},
   "outputs": [
    {
     "name": "stdout",
     "output_type": "stream",
     "text": [
      "{1: {'name': 'John', 'age': '27', 'sex': 'Male'}, 2: {'name': 'Marie', 'age': '22', 'sex': 'Female'}}\n"
     ]
    }
   ],
   "source": [
    "print(people)"
   ]
  },
  {
   "cell_type": "code",
   "execution_count": 22,
   "metadata": {},
   "outputs": [
    {
     "name": "stdout",
     "output_type": "stream",
     "text": [
      "\n",
      "Person ID: 1\n",
      "Name: Marie\n",
      "Age: 22\n",
      "Sex: Female\n",
      "\n",
      "Person ID: 2\n",
      "Name: Marie\n",
      "Age: 22\n",
      "Sex: Female\n"
     ]
    }
   ],
   "source": [
    "people = {1: {'Name': 'John', 'Age': '27', 'Sex': 'Male'},\n",
    "          2: {'Name': 'Marie', 'Age': '22', 'Sex': 'Female'}\n",
    "         }\n",
    "\n",
    "\n",
    "\n",
    "        \n",
    "for p_id, p_info in people.items():\n",
    "    print(\"\\nPerson ID:\", p_id)\n",
    "    for k in v:\n",
    "        print(k + ':', v[k])"
   ]
  },
  {
   "cell_type": "code",
   "execution_count": 93,
   "metadata": {},
   "outputs": [
    {
     "name": "stdout",
     "output_type": "stream",
     "text": [
      "This is: dict_1\n",
      "The first value is: value_1\n",
      "The second value is: value_2\n"
     ]
    }
   ],
   "source": [
    "nested_dict = { 'dict_1': {'key_1': 'value_1', 'key_2': 'value_2'}\n",
    "              }\n",
    "\n",
    "for k, v in nested_dict.items():\n",
    "    print(\"This is: \" + k)\n",
    "    value_1 = v['key_1']\n",
    "    value_2 = v['key_2']\n",
    "    print(\"The first value is: \" + value_1)\n",
    "    print(\"The second value is: \" + value_2)"
   ]
  },
  {
   "cell_type": "code",
   "execution_count": 96,
   "metadata": {
    "collapsed": true
   },
   "outputs": [],
   "source": [
    "dictionary = {'key' : 'value',\n",
    "             'key2': 'value2'}"
   ]
  },
  {
   "cell_type": "code",
   "execution_count": 97,
   "metadata": {
    "collapsed": true
   },
   "outputs": [],
   "source": [
    "dictionary = {dictA:{1:'a'}}"
   ]
  },
  {
   "cell_type": "code",
   "execution_count": 106,
   "metadata": {},
   "outputs": [
    {
     "ename": "SyntaxError",
     "evalue": "invalid syntax (<ipython-input-106-19c1e9f5b251>, line 3)",
     "output_type": "error",
     "traceback": [
      "\u001b[0;36m  File \u001b[0;32m\"<ipython-input-106-19c1e9f5b251>\"\u001b[0;36m, line \u001b[0;32m3\u001b[0m\n\u001b[0;31m    people = dict([1: {'Name': 'John', 'Age': '27', 'Sex': 'Male'},\u001b[0m\n\u001b[0m                    ^\u001b[0m\n\u001b[0;31mSyntaxError\u001b[0m\u001b[0;31m:\u001b[0m invalid syntax\n"
     ]
    }
   ],
   "source": [
    "dic = dict({'dictA':{1:'a'}})\n",
    "\n",
    "people = dict({1: {'Name': 'John', 'Age': '27', 'Sex': 'Male'},\n",
    "          2: {'Name': 'Marie', 'Age': '22', 'Sex': 'Female'}\n",
    "         })\n"
   ]
  },
  {
   "cell_type": "code",
   "execution_count": 110,
   "metadata": {},
   "outputs": [
    {
     "data": {
      "text/plain": [
       "{1: {'Age': '27', 'Name': 'John', 'Sex': 'Male'},\n",
       " 2: {'Age': '22', 'Name': 'Marie', 'Sex': 'Female'}}"
      ]
     },
     "execution_count": 110,
     "metadata": {},
     "output_type": "execute_result"
    }
   ],
   "source": [
    "people = {1: {'Name': 'John', 'Age': '27', 'Sex': 'Male'},\n",
    "          2: {'Name': 'Marie', 'Age': '22', 'Sex': 'Female'}\n",
    "         }\n",
    "\n",
    "people[1]['Sex']\n",
    "\n",
    "people"
   ]
  },
  {
   "cell_type": "code",
   "execution_count": null,
   "metadata": {
    "collapsed": true
   },
   "outputs": [],
   "source": []
  }
 ],
 "metadata": {
  "kernelspec": {
   "display_name": "Python 3",
   "language": "python",
   "name": "python3"
  },
  "language_info": {
   "codemirror_mode": {
    "name": "ipython",
    "version": 3
   },
   "file_extension": ".py",
   "mimetype": "text/x-python",
   "name": "python",
   "nbconvert_exporter": "python",
   "pygments_lexer": "ipython3",
   "version": "3.6.2"
  }
 },
 "nbformat": 4,
 "nbformat_minor": 2
}
