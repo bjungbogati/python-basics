{
 "cells": [
  {
   "cell_type": "code",
   "execution_count": 1,
   "metadata": {
    "collapsed": true
   },
   "outputs": [],
   "source": [
    "nested_dict = [{'uid': 1, 'name': 'John'}, {'uid': 2, 'name': 'Smith'}, {'uid': 3, 'name':\n",
    "'charlie'}]"
   ]
  },
  {
   "cell_type": "code",
   "execution_count": 6,
   "metadata": {
    "collapsed": true
   },
   "outputs": [],
   "source": [
    "dict = {}\n",
    "dict['key'] = {}\n",
    "dict['key']['innerkey'] = 'value'\n"
   ]
  },
  {
   "cell_type": "code",
   "execution_count": 8,
   "metadata": {},
   "outputs": [
    {
     "name": "stdout",
     "output_type": "stream",
     "text": [
      "{'key': {'innerkey': 'value'}}\n"
     ]
    }
   ],
   "source": [
    "print(dict)"
   ]
  },
  {
   "cell_type": "code",
   "execution_count": 9,
   "metadata": {},
   "outputs": [
    {
     "data": {
      "text/plain": [
       "'value'"
      ]
     },
     "execution_count": 9,
     "metadata": {},
     "output_type": "execute_result"
    }
   ],
   "source": [
    "var = {}\n",
    "var['a'] = 42\n",
    "var['b'] = {'key': 'value'}\n",
    "var['b']['key']\n",
    "'value'"
   ]
  },
  {
   "cell_type": "code",
   "execution_count": 10,
   "metadata": {},
   "outputs": [
    {
     "name": "stdout",
     "output_type": "stream",
     "text": [
      "The Poland language code is PL; England: EN\n"
     ]
    }
   ],
   "source": [
    "dictA = {\"one\": 1, \"two\": 2, \"three\": 3 }\n",
    "dictB = {\"England\": \"EN\", \"Poland\": \"PL\" }\n",
    "cookieMonster = {\"Numbers\": dictA}\n",
    "cookieMonster.update({\"Languages\": dictB})\n",
    "print(\"The Poland language code is %s; England: %s\" % (cookieMonster['Languages']['Poland'], cookieMonster['Languages']['England']) )"
   ]
  },
  {
   "cell_type": "code",
   "execution_count": 11,
   "metadata": {},
   "outputs": [
    {
     "name": "stdout",
     "output_type": "stream",
     "text": [
      "name Bill\n",
      "address CA\n",
      "job engineer\n",
      "name John\n",
      "address NY\n",
      "job techincal writer\n"
     ]
    }
   ],
   "source": [
    "dict1 = {\"student1\":{\"name\":\"Bill\",\"address\":\"CA\",\"job\":\"engineer\"},\"student2\":{\"name\":\"John\",\"address\":\"NY\",\"job\":\"techincal writer\"}}\n",
    " \n",
    " \n",
    "for key,values in dict1.items():\n",
    "    for k,v in values.items():\n",
    "        print(k,v)\n",
    "\n"
   ]
  },
  {
   "cell_type": "code",
   "execution_count": 13,
   "metadata": {},
   "outputs": [
    {
     "name": "stdout",
     "output_type": "stream",
     "text": [
      "10\n"
     ]
    }
   ],
   "source": [
    "my_dict={\n",
    "'a':{'b':10,'c':20},\n",
    "'d':{'b':30,'c':40}\n",
    "}\n",
    "print(my_dict['a']['b'])"
   ]
  },
  {
   "cell_type": "code",
   "execution_count": 14,
   "metadata": {},
   "outputs": [
    {
     "data": {
      "text/plain": [
       "{'address': 'ABC Street', 'phone': '99999999'}"
      ]
     },
     "execution_count": 14,
     "metadata": {},
     "output_type": "execute_result"
    }
   ],
   "source": [
    "dict_a = {1 : 'first_name',2 : 'last_name',3 : {'address' : 'ABC Street', 'phone' : '99999999'}}\n",
    "\n",
    "dict_a[3]['phone']\n",
    "\n",
    "dict_a[3]\n",
    "\n"
   ]
  },
  {
   "cell_type": "code",
   "execution_count": null,
   "metadata": {
    "collapsed": true
   },
   "outputs": [],
   "source": []
  }
 ],
 "metadata": {
  "kernelspec": {
   "display_name": "Python 3",
   "language": "python",
   "name": "python3"
  },
  "language_info": {
   "codemirror_mode": {
    "name": "ipython",
    "version": 3
   },
   "file_extension": ".py",
   "mimetype": "text/x-python",
   "name": "python",
   "nbconvert_exporter": "python",
   "pygments_lexer": "ipython3",
   "version": "3.6.2"
  }
 },
 "nbformat": 4,
 "nbformat_minor": 2
}
