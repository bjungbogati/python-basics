{
 "cells": [
  {
   "cell_type": "code",
   "execution_count": 9,
   "metadata": {},
   "outputs": [
    {
     "name": "stdout",
     "output_type": "stream",
     "text": [
      "{'foo': 1, 'bar': 2}\n",
      "1\n",
      "4\n"
     ]
    },
    {
     "data": {
      "text/plain": [
       "{'dict1': {'bar': 2, 'foo': 1},\n",
       " 'dict2': {'baz': 3, 'quux': 4},\n",
       " 'dict3': {'ham': 6, 'spam': 5},\n",
       " 'dict4': {'king': 7, 'queen': 8}}"
      ]
     },
     "execution_count": 9,
     "metadata": {},
     "output_type": "execute_result"
    }
   ],
   "source": [
    "#declare a dictionary inside a dictionary by nesting the {} containers\n",
    "\n",
    "d = {'dict1': {'foo': 1, 'bar': 2}, 'dict2': {'baz': 3, 'quux': 4}}\n",
    "\n",
    "\n",
    "#access the elements using the [] syntax\n",
    "\n",
    "print(d['dict1'])       \n",
    "print(d['dict1']['foo'])    \n",
    "print(d['dict2']['quux'])\n",
    "\n",
    "\n",
    "#add another dictionary to the dictionary\n",
    "\n",
    "d['dict3'] = {'spam': 5, 'ham': 6}\n",
    "\n",
    "\n",
    "# add items to the internal dictionary one by one\n",
    "\n",
    "d['dict4'] = {}\n",
    "d['dict4']['king'] = 7\n",
    "d['dict4']['queen'] = 8\n",
    "\n",
    "d\n"
   ]
  },
  {
   "cell_type": "code",
   "execution_count": 15,
   "metadata": {},
   "outputs": [
    {
     "name": "stdout",
     "output_type": "stream",
     "text": [
      "{'fruit': 'Apple', 'quantity': 5}\n",
      "Apple\n",
      "12\n"
     ]
    }
   ],
   "source": [
    "d = {'A':{'fruit': 'Apple','quantity': 5}, \n",
    "     'B':{'fruit': 'Banana','quantity': 12}\n",
    "    }\n",
    "\n",
    "print(d['A'])\n",
    "print(d['A']['fruit'])\n",
    "print(d['B']['quantity'])\n",
    "\n",
    "d['C'] = {'fruit': 'Cherry', 'quantity': 20}\n",
    "\n",
    "d['D'] = {}\n",
    "d['D']['fruit'] = 'Date'\n",
    "d['D']['quantity'] = 8\n",
    "\n",
    "\n"
   ]
  },
  {
   "cell_type": "code",
   "execution_count": 14,
   "metadata": {},
   "outputs": [
    {
     "name": "stdout",
     "output_type": "stream",
     "text": [
      "{'fruit': 'Cherry', 'quantity': 20}\n",
      "{'fruit': 'Date', 'quantity': 8}\n"
     ]
    }
   ],
   "source": [
    "print(d['C'])\n",
    "print(d['D'])"
   ]
  },
  {
   "cell_type": "code",
   "execution_count": 17,
   "metadata": {},
   "outputs": [],
   "source": [
    "del d['A'], d['B']"
   ]
  },
  {
   "cell_type": "code",
   "execution_count": 18,
   "metadata": {},
   "outputs": [
    {
     "data": {
      "text/plain": [
       "{'C': {'fruit': 'Cherry', 'quantity': 20},\n",
       " 'D': {'fruit': 'Date', 'quantity': 8}}"
      ]
     },
     "execution_count": 18,
     "metadata": {},
     "output_type": "execute_result"
    }
   ],
   "source": []
  },
  {
   "cell_type": "code",
   "execution_count": null,
   "metadata": {
    "collapsed": true
   },
   "outputs": [],
   "source": []
  }
 ],
 "metadata": {
  "kernelspec": {
   "display_name": "Python 3",
   "language": "python",
   "name": "python3"
  },
  "language_info": {
   "codemirror_mode": {
    "name": "ipython",
    "version": 3
   },
   "file_extension": ".py",
   "mimetype": "text/x-python",
   "name": "python",
   "nbconvert_exporter": "python",
   "pygments_lexer": "ipython3",
   "version": "3.6.2"
  }
 },
 "nbformat": 4,
 "nbformat_minor": 2
}
