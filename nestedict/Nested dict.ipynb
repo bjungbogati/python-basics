{
 "cells": [
  {
   "cell_type": "code",
   "execution_count": 1,
   "metadata": {},
   "outputs": [
    {
     "name": "stdout",
     "output_type": "stream",
     "text": [
      "{'first': {1.0}, 'second': {2.0}}\n"
     ]
    }
   ],
   "source": [
    "nested_dict = {'first':{'a':1}, 'second':{'b':2}}\n",
    "float_dict = {outer_k: {float(inner_v) for (inner_k, inner_v) in outer_v.items()} for (outer_k, outer_v) in nested_dict.items()}\n",
    "print(float_dict)"
   ]
  },
  {
   "cell_type": "code",
   "execution_count": 52,
   "metadata": {},
   "outputs": [
    {
     "name": "stdout",
     "output_type": "stream",
     "text": [
      "Day 1\n",
      "Day 2\n",
      "{'Jan': {'Day': 2}, 'ball': {'Day': 3}}\n"
     ]
    }
   ],
   "source": [
    "nested_dict = {'Jan':{'Day':1}, 'ball':{'Day':2}}\n",
    "for (outer_k, outer_v) in nested_dict.items():\n",
    "    \n",
    "    for (inner_k, inner_v) in outer_v.items():\n",
    "        outer_v.update({inner_k: inner_v + 1})\n",
    "        print(inner_k, inner_v)\n",
    "        \n",
    "nested_dict.update({outer_k:outer_v})\n",
    "\n",
    "print(nested_dict)"
   ]
  },
  {
   "cell_type": "code",
   "execution_count": 10,
   "metadata": {},
   "outputs": [
    {
     "name": "stdout",
     "output_type": "stream",
     "text": [
      "This is: key\n",
      "The first value is: one\n",
      "The second value is: two\n"
     ]
    }
   ],
   "source": [
    "new_dict = {'key': {\n",
    " 'val_1': 'one',\n",
    " 'val_2': 'two'\n",
    " } \n",
    " }\n",
    "\n",
    "for k, v in new_dict.items():\n",
    "    print(\"This is: \" + k)\n",
    "    value_1 = v['val_1']\n",
    "    value_2 = v['val_2']\n",
    "    print(\"The first value is: \" + value_1)\n",
    "    print(\"The second value is: \" + value_2)"
   ]
  },
  {
   "cell_type": "code",
   "execution_count": 33,
   "metadata": {},
   "outputs": [
    {
     "name": "stdout",
     "output_type": "stream",
     "text": [
      "{'a': 'apple', 'b': 'ball', 'c': 'cat'}\n",
      "{'a': 'apple', 'b': 'ball', 'c': 'cat'}\n",
      "{'a': 'apple', 'b': 'ball', 'c': 'cat'}\n",
      "{'a': 'apple', 'b': 'ball', 'c': 'cat'}\n",
      "{1: {'a': 'apple', 'b': 'ball', 'c': 'cat', 2: {'a': 'apple', 'b': 'ball', 'c': 'cat', 3: {'a': 'apple', 'b': 'ball', 'c': 'cat', 4: {'a': 'apple', 'b': 'ball', 'c': 'cat'}}}}}\n"
     ]
    }
   ],
   "source": [
    "num_list = [1, 2, 3, 4]\n",
    "new_dict = current = {}\n",
    "\n",
    "for name in num_list:\n",
    "    current[name] = {'a':'apple', 'b':'ball', 'c':'cat'}\n",
    "    current = current[name]\n",
    "    print(current)\n",
    "    \n",
    "print(new_dict)"
   ]
  },
  {
   "cell_type": "code",
   "execution_count": 39,
   "metadata": {
    "collapsed": true
   },
   "outputs": [],
   "source": [
    "d = { \"id\" : \"abcde\",\n",
    "    \"key1\" : \"blah\",\n",
    "    \"key2\" : \"blah blah\",\n",
    "    \"nestedlist\" : [ \n",
    "    { \"id\" : \"qwerty\",\n",
    "        \"nestednestedlist\" : [ \n",
    "        { \"id\" : \"xyz\", \"keyA\" : \"blah blah blah\" },\n",
    "        { \"id\" : \"fghi\", \"keyZ\" : \"blah blah blah\" }],\n",
    "        \"anothernestednestedlist\" : [ \n",
    "        { \"id\" : \"asdf\", \"keyQ\" : \"blah blah\" },\n",
    "        { \"id\" : \"yuiop\", \"keyW\" : \"blah\" }] } ] } \n",
    "\n",
    "\n",
    "def fun(d):\n",
    "    if 'id' in d:\n",
    "        print(d['id'])\n",
    "    for k in d:\n",
    "        if isinstance(d[k], list):\n",
    "            for i in d[k]:\n",
    "                for j in fun(i):\n",
    "                    print(j)\n",
    "                    "
   ]
  },
  {
   "cell_type": "code",
   "execution_count": 40,
   "metadata": {},
   "outputs": [
    {
     "ename": "NameError",
     "evalue": "name 'word_pos_dict' is not defined",
     "output_type": "error",
     "traceback": [
      "\u001b[0;31m---------------------------------------------------------------------------\u001b[0m",
      "\u001b[0;31mNameError\u001b[0m                                 Traceback (most recent call last)",
      "\u001b[0;32m<ipython-input-40-bee28c12e17a>\u001b[0m in \u001b[0;36m<module>\u001b[0;34m()\u001b[0m\n\u001b[0;32m----> 1\u001b[0;31m \u001b[0;32mfor\u001b[0m \u001b[0mword_pos\u001b[0m\u001b[0;34m,\u001b[0m \u001b[0mword_pos_prob\u001b[0m \u001b[0;32min\u001b[0m \u001b[0mword_pos_dict\u001b[0m\u001b[0;34m.\u001b[0m\u001b[0mitems\u001b[0m\u001b[0;34m(\u001b[0m\u001b[0;34m)\u001b[0m\u001b[0;34m:\u001b[0m\u001b[0;34m\u001b[0m\u001b[0m\n\u001b[0m\u001b[1;32m      2\u001b[0m     \u001b[0mmarginal_prob\u001b[0m \u001b[0;34m=\u001b[0m \u001b[0;36m0\u001b[0m\u001b[0;34m\u001b[0m\u001b[0m\n\u001b[1;32m      3\u001b[0m     \u001b[0;32mfor\u001b[0m \u001b[0mpos_prob\u001b[0m \u001b[0;32min\u001b[0m \u001b[0mpos_dict\u001b[0m\u001b[0;34m.\u001b[0m\u001b[0mvalues\u001b[0m\u001b[0;34m(\u001b[0m\u001b[0;34m)\u001b[0m\u001b[0;34m:\u001b[0m\u001b[0;34m\u001b[0m\u001b[0m\n\u001b[1;32m      4\u001b[0m         \u001b[0mmarginal_prob\u001b[0m \u001b[0;34m+=\u001b[0m \u001b[0mword_pos_prob\u001b[0m \u001b[0;34m*\u001b[0m \u001b[0mpos_prob\u001b[0m\u001b[0;34m\u001b[0m\u001b[0m\n",
      "\u001b[0;31mNameError\u001b[0m: name 'word_pos_dict' is not defined"
     ]
    }
   ],
   "source": [
    "for word_pos, word_pos_prob in word_pos_dict.items():\n",
    "    marginal_prob = 0        \n",
    "    for pos_prob in pos_dict.values():\n",
    "        marginal_prob += word_pos_prob * pos_prob "
   ]
  },
  {
   "cell_type": "code",
   "execution_count": 7,
   "metadata": {},
   "outputs": [
    {
     "ename": "TypeError",
     "evalue": "unhashable type: 'dict'",
     "output_type": "error",
     "traceback": [
      "\u001b[0;31m---------------------------------------------------------------------------\u001b[0m",
      "\u001b[0;31mTypeError\u001b[0m                                 Traceback (most recent call last)",
      "\u001b[0;32m<ipython-input-7-5ad5642f363b>\u001b[0m in \u001b[0;36m<module>\u001b[0;34m()\u001b[0m\n\u001b[1;32m      1\u001b[0m nested_dict = {{'key1':'value1','key2':'value2'},\n\u001b[0;32m----> 2\u001b[0;31m             {'key1':'value3','key2':'value4'}}\n\u001b[0m\u001b[1;32m      3\u001b[0m \u001b[0;34m\u001b[0m\u001b[0m\n\u001b[1;32m      4\u001b[0m \u001b[0mresult_dict\u001b[0m \u001b[0;34m=\u001b[0m \u001b[0;34m{\u001b[0m\u001b[0;34m'result'\u001b[0m\u001b[0;34m:\u001b[0m \u001b[0mnested_dict\u001b[0m\u001b[0;34m}\u001b[0m\u001b[0;34m\u001b[0m\u001b[0m\n\u001b[1;32m      5\u001b[0m \u001b[0mmy_dict\u001b[0m \u001b[0;34m=\u001b[0m \u001b[0;34m{\u001b[0m\u001b[0;34m'a'\u001b[0m\u001b[0;34m:\u001b[0m\u001b[0mresult_dict\u001b[0m\u001b[0;34m}\u001b[0m\u001b[0;34m\u001b[0m\u001b[0m\n",
      "\u001b[0;31mTypeError\u001b[0m: unhashable type: 'dict'"
     ]
    }
   ],
   "source": [
    "nested_dict = {{'key1':'value1','key2':'value2'},\n",
    "            {'key1':'value3','key2':'value4'}}\n",
    "\n",
    "result_dict = {'result': nested_dict}\n",
    "\n",
    "my_dict = {'a':result_dict}"
   ]
  },
  {
   "cell_type": "code",
   "execution_count": 44,
   "metadata": {},
   "outputs": [
    {
     "ename": "KeyError",
     "evalue": "'a'",
     "output_type": "error",
     "traceback": [
      "\u001b[0;31m---------------------------------------------------------------------------\u001b[0m",
      "\u001b[0;31mKeyError\u001b[0m                                  Traceback (most recent call last)",
      "\u001b[0;32m<ipython-input-44-ea568d411cac>\u001b[0m in \u001b[0;36m<module>\u001b[0;34m()\u001b[0m\n\u001b[0;32m----> 1\u001b[0;31m \u001b[0mmy_dict\u001b[0m\u001b[0;34m[\u001b[0m\u001b[0;34m'a'\u001b[0m\u001b[0;34m]\u001b[0m\u001b[0;34m\u001b[0m\u001b[0m\n\u001b[0m",
      "\u001b[0;31mKeyError\u001b[0m: 'a'"
     ]
    }
   ],
   "source": [
    "my_dict['a'] "
   ]
  },
  {
   "cell_type": "code",
   "execution_count": null,
   "metadata": {
    "collapsed": true
   },
   "outputs": [],
   "source": []
  }
 ],
 "metadata": {
  "kernelspec": {
   "display_name": "Python 3",
   "language": "python",
   "name": "python3"
  },
  "language_info": {
   "codemirror_mode": {
    "name": "ipython",
    "version": 3
   },
   "file_extension": ".py",
   "mimetype": "text/x-python",
   "name": "python",
   "nbconvert_exporter": "python",
   "pygments_lexer": "ipython3",
   "version": "3.6.2"
  }
 },
 "nbformat": 4,
 "nbformat_minor": 2
}
