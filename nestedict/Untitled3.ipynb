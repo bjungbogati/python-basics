{
 "cells": [
  {
   "cell_type": "code",
   "execution_count": 11,
   "metadata": {},
   "outputs": [
    {
     "name": "stdout",
     "output_type": "stream",
     "text": [
      "\n",
      "Dict: 1\n",
      "Name: John\n",
      "Age: 27\n",
      "Sex: Male\n",
      "\n",
      "Dict: 2\n",
      "Name: Marie\n",
      "Age: 22\n",
      "Sex: Female\n"
     ]
    }
   ],
   "source": [
    "people = {1: {'Name': 'John', 'Age': '27', 'Sex': 'Male'},\n",
    "          2: {'Name': 'Marie', 'Age': '22', 'Sex': 'Female'}\n",
    "         }\n",
    "\n",
    "for p_dict, p_info in people.items():\n",
    "    print(\"\\nDict:\", p_dict)\n",
    "    for key in p_info:\n",
    "        print(key + ':', p_info[key])\n"
   ]
  },
  {
   "cell_type": "code",
   "execution_count": 13,
   "metadata": {},
   "outputs": [
    {
     "ename": "NameError",
     "evalue": "name 'outer_dict' is not defined",
     "output_type": "error",
     "traceback": [
      "\u001b[0;31m---------------------------------------------------------------------------\u001b[0m",
      "\u001b[0;31mNameError\u001b[0m                                 Traceback (most recent call last)",
      "\u001b[0;32m<ipython-input-13-0a2cbaa4a018>\u001b[0m in \u001b[0;36m<module>\u001b[0;34m()\u001b[0m\n\u001b[1;32m      5\u001b[0m         \u001b[0;32mfor\u001b[0m \u001b[0minner_k\u001b[0m\u001b[0;34m,\u001b[0m \u001b[0minner_v\u001b[0m \u001b[0;32min\u001b[0m \u001b[0mouter_v\u001b[0m\u001b[0;34m.\u001b[0m\u001b[0mitems\u001b[0m\u001b[0;34m(\u001b[0m\u001b[0;34m)\u001b[0m\u001b[0;34m\u001b[0m\u001b[0m\n\u001b[1;32m      6\u001b[0m     } \n\u001b[0;32m----> 7\u001b[0;31m     \u001b[0;32mfor\u001b[0m \u001b[0mouter_k\u001b[0m\u001b[0;34m,\u001b[0m \u001b[0mouter_v\u001b[0m \u001b[0;32min\u001b[0m \u001b[0mouter_dict\u001b[0m\u001b[0;34m.\u001b[0m\u001b[0mitems\u001b[0m\u001b[0;34m(\u001b[0m\u001b[0;34m)\u001b[0m\u001b[0;34m\u001b[0m\u001b[0m\n\u001b[0m\u001b[1;32m      8\u001b[0m }\n",
      "\u001b[0;31mNameError\u001b[0m: name 'outer_dict' is not defined"
     ]
    }
   ],
   "source": [
    "data = {\n",
    "    outer_k: {inner_k: myfunc(inner_v)} \n",
    "    for outer_k, outer_v in outer_dict.items()\n",
    "    for inner_k, inner_v in outer_v.items()\n",
    "}\n",
    "\n",
    "data = {\n",
    "    outer_k: {\n",
    "        inner_k: myfunc(inner_v)\n",
    "        for inner_k, inner_v in outer_v.items()\n",
    "    } \n",
    "    for outer_k, outer_v in outer_dict.items()\n",
    "}"
   ]
  },
  {
   "cell_type": "code",
   "execution_count": 14,
   "metadata": {},
   "outputs": [
    {
     "data": {
      "text/plain": [
       "{'a': [2, 3, 4], 'b': 3, 'c': 4}"
      ]
     },
     "execution_count": 14,
     "metadata": {},
     "output_type": "execute_result"
    }
   ],
   "source": [
    "my_dict = {'a': [1, 2, 3], 'b': 2, 'c': 3}\n",
    "\n",
    "\n",
    "{k:([x+1 for x in v] if not isinstance(v,int) else v+1) for k,v in my_dict.items()}\n"
   ]
  },
  {
   "cell_type": "code",
   "execution_count": 15,
   "metadata": {},
   "outputs": [
    {
     "data": {
      "text/plain": [
       "{'a': {'bb': 2}, 'b': {'bb': 2}}"
      ]
     },
     "execution_count": 15,
     "metadata": {},
     "output_type": "execute_result"
    }
   ],
   "source": [
    "{k1:{k2:v} for k1 in ['a','b'] for k2,v in zip(['aa','bb'],[1,2])}"
   ]
  },
  {
   "cell_type": "code",
   "execution_count": 16,
   "metadata": {},
   "outputs": [
    {
     "ename": "NameError",
     "evalue": "name 'outer_dict' is not defined",
     "output_type": "error",
     "traceback": [
      "\u001b[0;31m---------------------------------------------------------------------------\u001b[0m",
      "\u001b[0;31mNameError\u001b[0m                                 Traceback (most recent call last)",
      "\u001b[0;32m<ipython-input-16-352375dc7842>\u001b[0m in \u001b[0;36m<module>\u001b[0;34m()\u001b[0m\n\u001b[0;32m----> 1\u001b[0;31m \u001b[0mdata\u001b[0m \u001b[0;34m=\u001b[0m \u001b[0;34m{\u001b[0m\u001b[0mouter_k\u001b[0m\u001b[0;34m:\u001b[0m \u001b[0;34m{\u001b[0m\u001b[0minner_k\u001b[0m\u001b[0;34m:\u001b[0m \u001b[0mmyfunc\u001b[0m\u001b[0;34m(\u001b[0m\u001b[0minner_v\u001b[0m\u001b[0;34m)\u001b[0m \u001b[0;32mfor\u001b[0m \u001b[0minner_k\u001b[0m\u001b[0;34m,\u001b[0m \u001b[0minner_v\u001b[0m \u001b[0;32min\u001b[0m \u001b[0mouter_v\u001b[0m\u001b[0;34m.\u001b[0m\u001b[0mitems\u001b[0m\u001b[0;34m(\u001b[0m\u001b[0;34m)\u001b[0m\u001b[0;34m}\u001b[0m \u001b[0;32mfor\u001b[0m \u001b[0mouter_k\u001b[0m\u001b[0;34m,\u001b[0m \u001b[0mouter_v\u001b[0m \u001b[0;32min\u001b[0m \u001b[0mouter_dict\u001b[0m\u001b[0;34m.\u001b[0m\u001b[0mitems\u001b[0m\u001b[0;34m(\u001b[0m\u001b[0;34m)\u001b[0m\u001b[0;34m}\u001b[0m\u001b[0;34m\u001b[0m\u001b[0m\n\u001b[0m",
      "\u001b[0;31mNameError\u001b[0m: name 'outer_dict' is not defined"
     ]
    }
   ],
   "source": [
    "data = {outer_k: {inner_k: myfunc(inner_v) for inner_k, inner_v in outer_v.items()} for outer_k, outer_v in outer_dict.items()}"
   ]
  },
  {
   "cell_type": "code",
   "execution_count": 17,
   "metadata": {},
   "outputs": [
    {
     "ename": "NameError",
     "evalue": "name 'outer_dict' is not defined",
     "output_type": "error",
     "traceback": [
      "\u001b[0;31m---------------------------------------------------------------------------\u001b[0m",
      "\u001b[0;31mNameError\u001b[0m                                 Traceback (most recent call last)",
      "\u001b[0;32m<ipython-input-17-72ffe2578864>\u001b[0m in \u001b[0;36m<module>\u001b[0;34m()\u001b[0m\n\u001b[1;32m      1\u001b[0m data = {\n\u001b[1;32m      2\u001b[0m     \u001b[0mouter_k\u001b[0m\u001b[0;34m:\u001b[0m \u001b[0;34m{\u001b[0m\u001b[0minner_k\u001b[0m\u001b[0;34m:\u001b[0m \u001b[0mmyfunc\u001b[0m\u001b[0;34m(\u001b[0m\u001b[0minner_v\u001b[0m\u001b[0;34m)\u001b[0m\u001b[0;34m}\u001b[0m\u001b[0;34m\u001b[0m\u001b[0m\n\u001b[0;32m----> 3\u001b[0;31m     \u001b[0;32mfor\u001b[0m \u001b[0mouter_k\u001b[0m\u001b[0;34m,\u001b[0m \u001b[0mouter_v\u001b[0m \u001b[0;32min\u001b[0m \u001b[0mouter_dict\u001b[0m\u001b[0;34m.\u001b[0m\u001b[0mitems\u001b[0m\u001b[0;34m(\u001b[0m\u001b[0;34m)\u001b[0m\u001b[0;34m\u001b[0m\u001b[0m\n\u001b[0m\u001b[1;32m      4\u001b[0m     \u001b[0;32mfor\u001b[0m \u001b[0minner_k\u001b[0m\u001b[0;34m,\u001b[0m \u001b[0minner_v\u001b[0m \u001b[0;32min\u001b[0m \u001b[0mouter_v\u001b[0m\u001b[0;34m.\u001b[0m\u001b[0mitems\u001b[0m\u001b[0;34m(\u001b[0m\u001b[0;34m)\u001b[0m\u001b[0;34m\u001b[0m\u001b[0m\n\u001b[1;32m      5\u001b[0m }\n",
      "\u001b[0;31mNameError\u001b[0m: name 'outer_dict' is not defined"
     ]
    }
   ],
   "source": [
    "\n",
    "\n",
    "\n",
    "data = {\n",
    "    outer_k: {inner_k: myfunc(inner_v)} \n",
    "    for outer_k, outer_v in outer_dict.items()\n",
    "    for inner_k, inner_v in outer_v.items()\n",
    "}"
   ]
  },
  {
   "cell_type": "code",
   "execution_count": null,
   "metadata": {
    "collapsed": true
   },
   "outputs": [],
   "source": []
  }
 ],
 "metadata": {
  "kernelspec": {
   "display_name": "Python 3",
   "language": "python",
   "name": "python3"
  }
 },
 "nbformat": 4,
 "nbformat_minor": 2
}
