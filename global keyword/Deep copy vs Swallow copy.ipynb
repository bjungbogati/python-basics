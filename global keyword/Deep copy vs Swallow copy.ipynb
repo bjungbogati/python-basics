{
 "cells": [
  {
   "cell_type": "code",
   "execution_count": 5,
   "metadata": {},
   "outputs": [
    {
     "name": "stdout",
     "output_type": "stream",
     "text": [
      "False\n",
      "True\n",
      "False\n",
      "False\n"
     ]
    }
   ],
   "source": [
    "import copy\n",
    "\n",
    "a = [1, 2, 3]\n",
    "b = [4, 5, 6]\n",
    "c = [a, b]\n",
    "\n",
    "d = copy.copy(c)\n",
    "\n",
    "print(id(c) == id(d))         \n",
    "print(id(c[0]) == id(d[0])) \n",
    "\n",
    "d = copy.deepcopy(c)\n",
    "\n",
    "print(id(c) == id(d))\n",
    "print(id(c[0]) == id(d[0])) "
   ]
  },
  {
   "cell_type": "code",
   "execution_count": 11,
   "metadata": {},
   "outputs": [
    {
     "data": {
      "text/plain": [
       "([1, 14, 3], [1, 14, 3])"
      ]
     },
     "execution_count": 11,
     "metadata": {},
     "output_type": "execute_result"
    }
   ],
   "source": [
    "x = [1,2,3]\n",
    "y = x\n",
    "x,y\n",
    "\n",
    "\n",
    "\n",
    "\n",
    "x is y\n",
    "True\n",
    "x[1] = 14\n",
    "x,y\n",
    "\n"
   ]
  },
  {
   "cell_type": "code",
   "execution_count": 34,
   "metadata": {},
   "outputs": [
    {
     "name": "stdout",
     "output_type": "stream",
     "text": [
      "[[1, 2], [3, 4, [5, 6]]]\n",
      "[[1, 1], [3, 4, [5, 6]]]\n"
     ]
    }
   ],
   "source": [
    "import copy\n",
    "\n",
    "lista = [[1, 1], [3, 4, [5, 6]]]\n",
    "listb = copy.deepcopy(lista)\n",
    "\n",
    "lista[0][1] = 2\n",
    "\n",
    "print(lista) \n",
    "print(listb) "
   ]
  },
  {
   "cell_type": "code",
   "execution_count": 19,
   "metadata": {},
   "outputs": [
    {
     "name": "stdout",
     "output_type": "stream",
     "text": [
      "a\n",
      "haha\n"
     ]
    }
   ],
   "source": [
    "c = {1:'a', 2:'b', 3:{4:'c', 5:'d'}}\n",
    "d = c.copy()\n",
    "d[1] = 'lol'\n",
    "print(c[1])\n",
    "d[3][4] = 'haha'\n",
    "print(c[3][4])"
   ]
  },
  {
   "cell_type": "code",
   "execution_count": 25,
   "metadata": {},
   "outputs": [
    {
     "ename": "SyntaxError",
     "evalue": "invalid syntax (<ipython-input-25-1bea3e18ea72>, line 9)",
     "output_type": "error",
     "traceback": [
      "\u001b[0;36m  File \u001b[0;32m\"<ipython-input-25-1bea3e18ea72>\"\u001b[0;36m, line \u001b[0;32m9\u001b[0m\n\u001b[0;31m    print(list_b # prints [[3, 4], [5, 6, [7, 8]]]\u001b[0m\n\u001b[0m        ^\u001b[0m\n\u001b[0;31mSyntaxError\u001b[0m\u001b[0;31m:\u001b[0m invalid syntax\n"
     ]
    }
   ],
   "source": [
    "import copy\n",
    "\n",
    "list_a = [[3, 4], [5, 6, [7, 8]]]\n",
    "list_b = copy.deepcopy(list_a)\n",
    "\n",
    "list_a[0][1] = 9\n",
    "\n",
    "print(list_a # prints [[3, 9], [5, 6, [7, 8]]]\n",
    "print(list_b # prints [[3, 4], [5, 6, [7, 8]]]"
   ]
  },
  {
   "cell_type": "code",
   "execution_count": 35,
   "metadata": {},
   "outputs": [
    {
     "name": "stdout",
     "output_type": "stream",
     "text": [
      "[[1, 2], [3, [4]]]\n",
      "[[1, 2], [3, [4]]]\n"
     ]
    }
   ],
   "source": [
    "x = [[1, 5], [3, [4]]]\n",
    "y = list(x)\n",
    "\n",
    "x[0][1] = 2\n",
    "\n",
    "print(x)                       \n",
    "print(y)  "
   ]
  },
  {
   "cell_type": "code",
   "execution_count": 33,
   "metadata": {},
   "outputs": [
    {
     "name": "stdout",
     "output_type": "stream",
     "text": [
      "0x7fbc2c02e408 0x7fbc1ef3bc08\n",
      "[1, 2, 4]\n",
      "[1, 2, 3]\n"
     ]
    }
   ],
   "source": [
    "#copy\n",
    "\n",
    "import copy\n",
    "\n",
    "a = [1,2,3]\n",
    "b = copy.copy(a)\n",
    "print(hex(id(a)), hex(id(b)))\n",
    "\n",
    "a[2] = 4\n",
    "\n",
    "print(a)\n",
    "print(b)"
   ]
  },
  {
   "cell_type": "code",
   "execution_count": 80,
   "metadata": {
    "scrolled": true
   },
   "outputs": [
    {
     "name": "stdout",
     "output_type": "stream",
     "text": [
      "0x7fbc1eee95c8 0x7fbc1eee9848\n",
      "0x7fbc1eee9f48 0x7fbc1eee9f48\n",
      "[1, 2, [3, 4, 5]]\n"
     ]
    }
   ],
   "source": [
    "import copy\n",
    "\n",
    "a = [1, 2, [3,4]]\n",
    "b = copy.copy(a)\n",
    "\n",
    "print(hex(id(a)), hex(id(b)))\n",
    "\n",
    "print(hex(id(a[2])), hex(id(b[2])))\n",
    "\n",
    "a[2].append(5)\n",
    "\n",
    "print(b)\n",
    "\n"
   ]
  },
  {
   "cell_type": "code",
   "execution_count": 86,
   "metadata": {
    "scrolled": true
   },
   "outputs": [
    {
     "name": "stdout",
     "output_type": "stream",
     "text": [
      "0x7fbc1ef24d88 0x7fbc1eed4b48\n",
      "[1, 2, 3, 4]\n",
      "[1, 2, 3]\n"
     ]
    }
   ],
   "source": [
    "#deepcopy\n",
    "\n",
    "#flat list example using deepcopy\n",
    "\n",
    "import copy\n",
    "\n",
    "i = [1,2,3]\n",
    "\n",
    "j = copy.deepcopy(i)\n",
    "\n",
    "print(hex(id(i)), hex(id(j)))\n",
    "\n",
    "i.append(4)\n",
    "\n",
    "print(i)\n",
    "\n",
    "print(j)"
   ]
  },
  {
   "cell_type": "code",
   "execution_count": 84,
   "metadata": {},
   "outputs": [
    {
     "name": "stdout",
     "output_type": "stream",
     "text": [
      "0x7fbc1eed4d88 0x7fbc1eee9a48\n",
      "0x7fbc1eed4a48 0x7fbc1f7aa648\n",
      "[1, 2, [3, 4, 5]]\n",
      "[1, 2, [3, 4]]\n"
     ]
    }
   ],
   "source": [
    "import copy\n",
    "i = [1,2,[3,4]]\n",
    "j = copy.deepcopy(i)\n",
    "print(hex(id(i)), hex(id(j)))\n",
    "print(hex(id(i[2])), hex(id(j[2])))\n",
    "i[2].append(5)\n",
    "print(i)\n",
    "print(j) \n"
   ]
  },
  {
   "cell_type": "code",
   "execution_count": null,
   "metadata": {
    "collapsed": true
   },
   "outputs": [],
   "source": []
  }
 ],
 "metadata": {
  "kernelspec": {
   "display_name": "Python 3",
   "language": "python",
   "name": "python3"
  },
  "language_info": {
   "codemirror_mode": {
    "name": "ipython",
    "version": 3
   },
   "file_extension": ".py",
   "mimetype": "text/x-python",
   "name": "python",
   "nbconvert_exporter": "python",
   "pygments_lexer": "ipython3",
   "version": "3.6.2"
  }
 },
 "nbformat": 4,
 "nbformat_minor": 2
}
