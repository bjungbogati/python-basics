{
 "cells": [
  {
   "cell_type": "code",
   "execution_count": 1,
   "metadata": {},
   "outputs": [
    {
     "name": "stdout",
     "output_type": "stream",
     "text": [
      "['SN', 'Person', 'DOB']\n",
      "['1', 'John', '18/1/1997']\n",
      "['2', 'Marie', '19/2/1998']\n",
      "['3', 'Simon', '20/3/1999']\n",
      "['4', 'Erik', '21/4/2000']\n",
      "['5', 'Ana', '22/5/2001']\n"
     ]
    }
   ],
   "source": [
    "import csv\n",
    "person = [['SN', 'Person', 'DOB'],\n",
    "['1', 'John', '18/1/1997'],\n",
    "['2', 'Marie','19/2/1998'],\n",
    "['3', 'Simon','20/3/1999'],\n",
    "['4', 'Erik', '21/4/2000'],\n",
    "['5', 'Ana', '22/5/2001']]\n",
    "\n",
    "csv.register_dialect('myDialect',\n",
    "delimiter = '|',\n",
    "quoting=csv.QUOTE_NONE,\n",
    "skipinitialspace=True)\n",
    "\n",
    "with open('dob.csv', 'w') as f:\n",
    "    writer = csv.writer(f, dialect='myDialect')\n",
    "    for row in person:\n",
    "        writer.writerow(row)\n",
    "        print(row)\n"
   ]
  },
  {
   "cell_type": "code",
   "execution_count": 2,
   "metadata": {
    "collapsed": true
   },
   "outputs": [],
   "source": [
    "import csv\n",
    "person = [['SN', 'Person', 'DOB'],\n",
    "['1', 'John', '18/1/1997'],\n",
    "['2', 'Marie','19/2/1998'],\n",
    "['3', 'Simon','20/3/1999'],\n",
    "['4', 'Erik', '21/4/2000'],\n",
    "['5', 'Ana', '22/5/2001']]\n",
    "csv.register_dialect('myDialect',\n",
    "delimiter = ',',\n",
    "quoting=csv.QUOTE_ALL,\n",
    "skipinitialspace=True)\n",
    "with open('person.csv', 'w') as f:\n",
    "    writer = csv.writer(f, dialect='myDialect')\n",
    "    for row in person:\n",
    "        writer.writerow(row)\n"
   ]
  },
  {
   "cell_type": "code",
   "execution_count": null,
   "metadata": {
    "collapsed": true
   },
   "outputs": [],
   "source": []
  }
 ],
 "metadata": {
  "kernelspec": {
   "display_name": "Python 3",
   "language": "python",
   "name": "python3"
  },
  "language_info": {
   "codemirror_mode": {
    "name": "ipython",
    "version": 3
   },
   "file_extension": ".py",
   "mimetype": "text/x-python",
   "name": "python",
   "nbconvert_exporter": "python",
   "pygments_lexer": "ipython3",
   "version": "3.6.2"
  }
 },
 "nbformat": 4,
 "nbformat_minor": 2
}
