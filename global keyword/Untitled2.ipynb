{
 "cells": [
  {
   "cell_type": "code",
   "execution_count": 1,
   "metadata": {
    "collapsed": true
   },
   "outputs": [],
   "source": [
    "x = 4\n",
    "\n",
    "def example():\n",
    "    print(x)\n",
    "    z = 5\n",
    "    print(z)\n"
   ]
  },
  {
   "cell_type": "code",
   "execution_count": 2,
   "metadata": {},
   "outputs": [
    {
     "name": "stdout",
     "output_type": "stream",
     "text": [
      "0\n"
     ]
    }
   ],
   "source": [
    "c = 0\n",
    "\n",
    "def func():\n",
    "    print(c)\n",
    "    \n",
    "func()"
   ]
  },
  {
   "cell_type": "code",
   "execution_count": 6,
   "metadata": {},
   "outputs": [
    {
     "name": "stdout",
     "output_type": "stream",
     "text": [
      "Before calling bar:  20\n",
      "Calling bar now\n",
      "After calling bar:  20\n",
      "x outside function :  25\n"
     ]
    }
   ],
   "source": [
    "def foo():\n",
    "    x = 20\n",
    "    def bar():\n",
    "        global x\n",
    "        x = 25\n",
    "    print(\"Before calling bar: \", x)\n",
    "    print(\"Calling bar now\")\n",
    "    bar()\n",
    "    print(\"After calling bar: \", x)\n",
    "    \n",
    "foo()\n",
    "print(\"x outside function : \", x)\n"
   ]
  },
  {
   "cell_type": "code",
   "execution_count": 7,
   "metadata": {},
   "outputs": [
    {
     "name": "stdout",
     "output_type": "stream",
     "text": [
      "global\n"
     ]
    }
   ],
   "source": [
    "c = \"global\"\n",
    "\n",
    "def func():\n",
    "    print(c)\n",
    "    \n",
    "func()"
   ]
  },
  {
   "cell_type": "code",
   "execution_count": 11,
   "metadata": {},
   "outputs": [
    {
     "name": "stdout",
     "output_type": "stream",
     "text": [
      "Inside: local\n",
      "Outside: global\n"
     ]
    }
   ],
   "source": [
    "c = \"global\"\n",
    "\n",
    "def func():\n",
    "    c = \"local\"\n",
    "    print(\"Inside:\", c)\n",
    "    \n",
    "func()\n",
    "\n",
    "print(\"Outside:\", c)"
   ]
  },
  {
   "cell_type": "code",
   "execution_count": 14,
   "metadata": {},
   "outputs": [
    {
     "name": "stdout",
     "output_type": "stream",
     "text": [
      "Inside 'add': 0\n",
      "2\n",
      "In main: 2\n"
     ]
    }
   ],
   "source": [
    "c = 0        # global variable\n",
    "\n",
    "def add():\n",
    "    global c\n",
    "    print(\"Inside 'add':\", c)\n",
    "    c = c + 2   # increment by 2\n",
    "    print(c)\n",
    "\n",
    "add()\n",
    "print(\"In main:\", c)\n"
   ]
  },
  {
   "cell_type": "code",
   "execution_count": 18,
   "metadata": {},
   "outputs": [
    {
     "name": "stdout",
     "output_type": "stream",
     "text": [
      "Inside 'add': 2\n",
      "In main: 4\n"
     ]
    }
   ],
   "source": [
    "c = 2\n",
    "\n",
    "def add():\n",
    "    global c\n",
    "    print(\"Inside 'add':\", c)\n",
    "    c = c + 2\n",
    "\n",
    "add()\n",
    "print(\"In main:\", c)"
   ]
  },
  {
   "cell_type": "code",
   "execution_count": 23,
   "metadata": {},
   "outputs": [
    {
     "ename": "NameError",
     "evalue": "name 'y' is not defined",
     "output_type": "error",
     "traceback": [
      "\u001b[0;31m---------------------------------------------------------------------------\u001b[0m",
      "\u001b[0;31mNameError\u001b[0m                                 Traceback (most recent call last)",
      "\u001b[0;32m<ipython-input-23-23b5eb20e25a>\u001b[0m in \u001b[0;36m<module>\u001b[0;34m()\u001b[0m\n\u001b[1;32m      6\u001b[0m     \u001b[0mx\u001b[0m \u001b[0;34m=\u001b[0m \u001b[0mx\u001b[0m \u001b[0;34m+\u001b[0m \u001b[0;36m1\u001b[0m\u001b[0;34m\u001b[0m\u001b[0m\n\u001b[1;32m      7\u001b[0m \u001b[0;34m\u001b[0m\u001b[0m\n\u001b[0;32m----> 8\u001b[0;31m \u001b[0mprint\u001b[0m\u001b[0;34m(\u001b[0m\u001b[0mx\u001b[0m\u001b[0;34m,\u001b[0m \u001b[0my\u001b[0m\u001b[0;34m)\u001b[0m\u001b[0;34m\u001b[0m\u001b[0m\n\u001b[0m",
      "\u001b[0;31mNameError\u001b[0m: name 'y' is not defined"
     ]
    }
   ],
   "source": [
    "x = 1\n",
    "\n",
    "def fun():\n",
    "    global y\n",
    "    y = 1\n",
    "    x = x + 1\n",
    "    \n",
    "print(x, y)"
   ]
  },
  {
   "cell_type": "code",
   "execution_count": 25,
   "metadata": {},
   "outputs": [
    {
     "name": "stdout",
     "output_type": "stream",
     "text": [
      "Inside 'add': 2\n",
      "In main: 4\n"
     ]
    }
   ],
   "source": [
    "c = 2\n",
    "\n",
    "def add():\n",
    "    global c\n",
    "    print(\"Inside 'add':\", c)\n",
    "    c = c + 2\n",
    "\n",
    "add()\n",
    "print(\"In main:\", c)\n",
    "\n"
   ]
  },
  {
   "cell_type": "code",
   "execution_count": 36,
   "metadata": {},
   "outputs": [
    {
     "name": "stdout",
     "output_type": "stream",
     "text": [
      "Inside add(): 2\n",
      "In main: 2\n"
     ]
    }
   ],
   "source": [
    "c = 0        # global variable\n",
    "\n",
    "def add():\n",
    "    global c\n",
    "    c = c + 2   # increment by 2\n",
    "    print(\"Inside add():\", c)\n",
    "\n",
    "add()\n",
    "print(\"In main:\", c)\n",
    "\n",
    "\n"
   ]
  },
  {
   "cell_type": "code",
   "execution_count": 43,
   "metadata": {},
   "outputs": [
    {
     "name": "stdout",
     "output_type": "stream",
     "text": [
      "Before calling two:  20\n",
      "Calling two now\n",
      "After calling two:  20\n",
      "x in main :  25\n"
     ]
    }
   ],
   "source": [
    "def one():\n",
    "    x = 20\n",
    "    def two():\n",
    "        global x\n",
    "        x = 25\n",
    "    print(\"Before calling two: \", x)\n",
    "    print(\"Calling two now\")\n",
    "    two()\n",
    "    print(\"After calling two: \", x)\n",
    "    \n",
    "one()\n",
    "print(\"x in main : \", x)\n"
   ]
  },
  {
   "cell_type": "code",
   "execution_count": 45,
   "metadata": {},
   "outputs": [
    {
     "name": "stdout",
     "output_type": "stream",
     "text": [
      "0\n",
      "1\n"
     ]
    }
   ],
   "source": [
    "def outer():\n",
    "    a = 0\n",
    "    b = 1\n",
    "\n",
    "    def inner():\n",
    "        print(a)\n",
    "        print(b)\n",
    "        #b = 4\n",
    "\n",
    "    inner()\n",
    "\n",
    "outer()"
   ]
  },
  {
   "cell_type": "code",
   "execution_count": null,
   "metadata": {
    "collapsed": true
   },
   "outputs": [],
   "source": []
  }
 ],
 "metadata": {
  "kernelspec": {
   "display_name": "Python 3",
   "language": "python",
   "name": "python3"
  },
  "language_info": {
   "codemirror_mode": {
    "name": "ipython",
    "version": 3
   },
   "file_extension": ".py",
   "mimetype": "text/x-python",
   "name": "python",
   "nbconvert_exporter": "python",
   "pygments_lexer": "ipython3",
   "version": "3.6.2"
  }
 },
 "nbformat": 4,
 "nbformat_minor": 2
}
